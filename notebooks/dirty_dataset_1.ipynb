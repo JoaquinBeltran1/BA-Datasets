{
 "cells": [
  {
   "cell_type": "code",
   "execution_count": 1,
   "id": "1d116eb4-1cd3-4bdc-9544-433a4fcb5a7a",
   "metadata": {},
   "outputs": [],
   "source": [
    "from typing import List\n",
    "import pandas as pd\n",
    "pd.options.mode.chained_assignment = None\n",
    "import matplotlib.pyplot as plt\n",
    "\n",
    "plt.rcParams[\"figure.figsize\"] = (19,9)"
   ]
  },
  {
   "cell_type": "code",
   "execution_count": 2,
   "id": "77686a32-1e2c-4bcf-bcb6-b8a107702c4d",
   "metadata": {},
   "outputs": [],
   "source": [
    "quarters = [ (120, 40, 28, 24), (45, 35, 36, 23), (27, 14, 7, 3)]\n",
    "# month_name = ['JAN', 'FEB', 'MAR', 'APR', 'MAY', 'JUN', 'JUL', 'AUG', 'SEP', 'OCT', 'NOV', 'DEC']"
   ]
  },
  {
   "cell_type": "code",
   "execution_count": 3,
   "id": "4d84f4db-f60d-4f84-b75a-6738f7291e6b",
   "metadata": {},
   "outputs": [],
   "source": [
    "def accounts_per_week(accounts: int, years: List):\n",
    "    divided = accounts / (3*52) # weekly for 3 years    \n",
    "    monthly_percentage = []\n",
    "    for quarters in years:\n",
    "        for quarter in quarters:\n",
    "            each_month = (quarter / 3) / 100            \n",
    "            monthly_percentage.append([each_month, each_month, each_month])\n",
    "            \n",
    "    flat_list = [i for sublist in monthly_percentage for i in sublist]\n",
    "    \n",
    "    months = []\n",
    "    for i in enumerate(flat_list):\n",
    "        months.append(f\"month_{ i[0] + 1}\")\n",
    "        \n",
    "    dict_from_list = dict(zip(months, flat_list))\n",
    "    return dict_from_list"
   ]
  },
  {
   "cell_type": "code",
   "execution_count": 4,
   "id": "bd2d28cf-8d29-4149-8a96-db57288ea601",
   "metadata": {},
   "outputs": [],
   "source": [
    "aa = accounts_per_week(5000, quarters)"
   ]
  },
  {
   "cell_type": "code",
   "execution_count": 5,
   "id": "d3fec669-3920-4602-a490-fcda45565ab1",
   "metadata": {},
   "outputs": [
    {
     "data": {
      "text/plain": [
       "{'month_1': 0.4,\n",
       " 'month_2': 0.4,\n",
       " 'month_3': 0.4,\n",
       " 'month_4': 0.13333333333333333,\n",
       " 'month_5': 0.13333333333333333,\n",
       " 'month_6': 0.13333333333333333,\n",
       " 'month_7': 0.09333333333333334,\n",
       " 'month_8': 0.09333333333333334,\n",
       " 'month_9': 0.09333333333333334,\n",
       " 'month_10': 0.08,\n",
       " 'month_11': 0.08,\n",
       " 'month_12': 0.08,\n",
       " 'month_13': 0.15,\n",
       " 'month_14': 0.15,\n",
       " 'month_15': 0.15,\n",
       " 'month_16': 0.11666666666666665,\n",
       " 'month_17': 0.11666666666666665,\n",
       " 'month_18': 0.11666666666666665,\n",
       " 'month_19': 0.12,\n",
       " 'month_20': 0.12,\n",
       " 'month_21': 0.12,\n",
       " 'month_22': 0.07666666666666667,\n",
       " 'month_23': 0.07666666666666667,\n",
       " 'month_24': 0.07666666666666667,\n",
       " 'month_25': 0.09,\n",
       " 'month_26': 0.09,\n",
       " 'month_27': 0.09,\n",
       " 'month_28': 0.04666666666666667,\n",
       " 'month_29': 0.04666666666666667,\n",
       " 'month_30': 0.04666666666666667,\n",
       " 'month_31': 0.023333333333333334,\n",
       " 'month_32': 0.023333333333333334,\n",
       " 'month_33': 0.023333333333333334,\n",
       " 'month_34': 0.01,\n",
       " 'month_35': 0.01,\n",
       " 'month_36': 0.01}"
      ]
     },
     "execution_count": 5,
     "metadata": {},
     "output_type": "execute_result"
    }
   ],
   "source": [
    "aa"
   ]
  },
  {
   "cell_type": "code",
   "execution_count": 6,
   "id": "c7de4927-03f6-4038-93b2-0a25f1568f36",
   "metadata": {},
   "outputs": [
    {
     "data": {
      "text/plain": [
       "[('month_1', 0.4),\n",
       " ('month_2', 0.4),\n",
       " ('month_3', 0.4),\n",
       " ('month_4', 0.13333333333333333),\n",
       " ('month_5', 0.13333333333333333)]"
      ]
     },
     "execution_count": 6,
     "metadata": {},
     "output_type": "execute_result"
    }
   ],
   "source": [
    "list(aa.items())[:5]"
   ]
  },
  {
   "cell_type": "code",
   "execution_count": 7,
   "id": "193f3c64-a004-42d3-bb97-b1aaf4478930",
   "metadata": {},
   "outputs": [],
   "source": [
    "dataframe = pd.DataFrame(aa.items(), columns=['Month', 'MonthlyGrowth'])\n",
    "dataframe[\"TotalUsers\"] = 0\n",
    "dataframe[\"NewUsers\"] = 0"
   ]
  },
  {
   "cell_type": "code",
   "execution_count": 8,
   "id": "710a61c9-b3b9-4fbd-98e2-d24d9ca1657e",
   "metadata": {},
   "outputs": [],
   "source": [
    "for i, val in enumerate(dataframe[\"TotalUsers\"]):\n",
    "    if i == 0:\n",
    "        dataframe.iat[i, 2] = 45\n",
    "        dataframe.iat[i, 3] = 45\n",
    "    \n",
    "    else:\n",
    "        dataframe.iat[i,2] = int(dataframe.iloc[i-1][2] * dataframe.iloc[i-1][1] + dataframe.iloc[i-1][2])\n",
    "        dataframe.iat[i,3] = int(dataframe.iloc[i][2] - dataframe.iloc[i-1][2])"
   ]
  },
  {
   "cell_type": "code",
   "execution_count": 9,
   "id": "76e51c87-c194-463c-9bad-ced9962abbd9",
   "metadata": {},
   "outputs": [
    {
     "data": {
      "text/html": [
       "<div>\n",
       "<style scoped>\n",
       "    .dataframe tbody tr th:only-of-type {\n",
       "        vertical-align: middle;\n",
       "    }\n",
       "\n",
       "    .dataframe tbody tr th {\n",
       "        vertical-align: top;\n",
       "    }\n",
       "\n",
       "    .dataframe thead th {\n",
       "        text-align: right;\n",
       "    }\n",
       "</style>\n",
       "<table border=\"1\" class=\"dataframe\">\n",
       "  <thead>\n",
       "    <tr style=\"text-align: right;\">\n",
       "      <th></th>\n",
       "      <th>Month</th>\n",
       "      <th>MonthlyGrowth</th>\n",
       "      <th>TotalUsers</th>\n",
       "      <th>NewUsers</th>\n",
       "    </tr>\n",
       "  </thead>\n",
       "  <tbody>\n",
       "    <tr>\n",
       "      <th>0</th>\n",
       "      <td>month_1</td>\n",
       "      <td>0.400000</td>\n",
       "      <td>45</td>\n",
       "      <td>45</td>\n",
       "    </tr>\n",
       "    <tr>\n",
       "      <th>1</th>\n",
       "      <td>month_2</td>\n",
       "      <td>0.400000</td>\n",
       "      <td>63</td>\n",
       "      <td>18</td>\n",
       "    </tr>\n",
       "    <tr>\n",
       "      <th>2</th>\n",
       "      <td>month_3</td>\n",
       "      <td>0.400000</td>\n",
       "      <td>88</td>\n",
       "      <td>25</td>\n",
       "    </tr>\n",
       "    <tr>\n",
       "      <th>3</th>\n",
       "      <td>month_4</td>\n",
       "      <td>0.133333</td>\n",
       "      <td>123</td>\n",
       "      <td>35</td>\n",
       "    </tr>\n",
       "    <tr>\n",
       "      <th>4</th>\n",
       "      <td>month_5</td>\n",
       "      <td>0.133333</td>\n",
       "      <td>139</td>\n",
       "      <td>16</td>\n",
       "    </tr>\n",
       "    <tr>\n",
       "      <th>5</th>\n",
       "      <td>month_6</td>\n",
       "      <td>0.133333</td>\n",
       "      <td>157</td>\n",
       "      <td>18</td>\n",
       "    </tr>\n",
       "    <tr>\n",
       "      <th>6</th>\n",
       "      <td>month_7</td>\n",
       "      <td>0.093333</td>\n",
       "      <td>177</td>\n",
       "      <td>20</td>\n",
       "    </tr>\n",
       "    <tr>\n",
       "      <th>7</th>\n",
       "      <td>month_8</td>\n",
       "      <td>0.093333</td>\n",
       "      <td>193</td>\n",
       "      <td>16</td>\n",
       "    </tr>\n",
       "    <tr>\n",
       "      <th>8</th>\n",
       "      <td>month_9</td>\n",
       "      <td>0.093333</td>\n",
       "      <td>211</td>\n",
       "      <td>18</td>\n",
       "    </tr>\n",
       "    <tr>\n",
       "      <th>9</th>\n",
       "      <td>month_10</td>\n",
       "      <td>0.080000</td>\n",
       "      <td>230</td>\n",
       "      <td>19</td>\n",
       "    </tr>\n",
       "    <tr>\n",
       "      <th>10</th>\n",
       "      <td>month_11</td>\n",
       "      <td>0.080000</td>\n",
       "      <td>248</td>\n",
       "      <td>18</td>\n",
       "    </tr>\n",
       "    <tr>\n",
       "      <th>11</th>\n",
       "      <td>month_12</td>\n",
       "      <td>0.080000</td>\n",
       "      <td>267</td>\n",
       "      <td>19</td>\n",
       "    </tr>\n",
       "    <tr>\n",
       "      <th>12</th>\n",
       "      <td>month_13</td>\n",
       "      <td>0.150000</td>\n",
       "      <td>288</td>\n",
       "      <td>21</td>\n",
       "    </tr>\n",
       "    <tr>\n",
       "      <th>13</th>\n",
       "      <td>month_14</td>\n",
       "      <td>0.150000</td>\n",
       "      <td>331</td>\n",
       "      <td>43</td>\n",
       "    </tr>\n",
       "    <tr>\n",
       "      <th>14</th>\n",
       "      <td>month_15</td>\n",
       "      <td>0.150000</td>\n",
       "      <td>380</td>\n",
       "      <td>49</td>\n",
       "    </tr>\n",
       "  </tbody>\n",
       "</table>\n",
       "</div>"
      ],
      "text/plain": [
       "       Month  MonthlyGrowth  TotalUsers  NewUsers\n",
       "0    month_1       0.400000          45        45\n",
       "1    month_2       0.400000          63        18\n",
       "2    month_3       0.400000          88        25\n",
       "3    month_4       0.133333         123        35\n",
       "4    month_5       0.133333         139        16\n",
       "5    month_6       0.133333         157        18\n",
       "6    month_7       0.093333         177        20\n",
       "7    month_8       0.093333         193        16\n",
       "8    month_9       0.093333         211        18\n",
       "9   month_10       0.080000         230        19\n",
       "10  month_11       0.080000         248        18\n",
       "11  month_12       0.080000         267        19\n",
       "12  month_13       0.150000         288        21\n",
       "13  month_14       0.150000         331        43\n",
       "14  month_15       0.150000         380        49"
      ]
     },
     "execution_count": 9,
     "metadata": {},
     "output_type": "execute_result"
    }
   ],
   "source": [
    "dataframe.head(15)"
   ]
  },
  {
   "cell_type": "code",
   "execution_count": 10,
   "id": "dd75f77c-124b-4a94-a574-15d0e9dd7f73",
   "metadata": {},
   "outputs": [
    {
     "data": {
      "image/png": "[encoded data removed]",
      "text/plain": [
       "<Figure size 1368x648 with 1 Axes>"
      ]
     },
     "metadata": {
      "needs_background": "light"
     },
     "output_type": "display_data"
    }
   ],
   "source": [
    "plt.plot(dataframe[\"Month\"], dataframe[\"TotalUsers\"])\n",
    "plt.title('Accumulated total users')\n",
    "plt.xlabel('Month')\n",
    "plt.xticks(rotation = 45)\n",
    "plt.ylabel('Total Users')\n",
    "plt.show()"
   ]
  },
  {
   "cell_type": "code",
   "execution_count": 11,
   "id": "ba52a1db-69cd-4682-adb2-3b4dd631f4c6",
   "metadata": {},
   "outputs": [
    {
     "data": {
      "image/png": "[encoded data removed]",
      "text/plain": [
       "<Figure size 1368x648 with 1 Axes>"
      ]
     },
     "metadata": {
      "needs_background": "light"
     },
     "output_type": "display_data"
    }
   ],
   "source": [
    "plt.plot(dataframe[\"Month\"], dataframe[\"NewUsers\"])\n",
    "plt.title('New users per month')\n",
    "plt.xlabel('Month')\n",
    "plt.xticks(rotation = 45)\n",
    "plt.ylabel('New users')\n",
    "plt.show()"
   ]
  },
  {
   "cell_type": "markdown",
   "id": "c689a176-44d2-454c-b6fa-637a53d89bbf",
   "metadata": {},
   "source": [
    "- Subdivide each month into 4 weeks and add some noise to each value. Normal distribution\n",
    "- New users per week column -> 36 * 4\n",
    "- Generate user_id for each user <- First list of users\n",
    "- Start in July 2018\n",
    "- Account activation date <- real date, monday - friday\n",
    "- Add churn"
   ]
  },
  {
   "cell_type": "code",
   "execution_count": 12,
   "id": "4eb23ce9-85cb-44f8-a827-c6ee47720daa",
   "metadata": {},
   "outputs": [],
   "source": [
    "from datetime import datetime, timedelta\n",
    "from dateutil.relativedelta import relativedelta"
   ]
  },
  {
   "cell_type": "code",
   "execution_count": 13,
   "id": "2c9dfc2f-d998-41cf-996b-e5ab5ec1b982",
   "metadata": {},
   "outputs": [],
   "source": [
    "start = datetime(2018, 7, 1)"
   ]
  },
  {
   "cell_type": "code",
   "execution_count": 14,
   "id": "3e55d20e-9dd9-43c5-98d9-ca7d3f6c1382",
   "metadata": {},
   "outputs": [
    {
     "data": {
      "text/plain": [
       "datetime.datetime(2018, 7, 1, 0, 0)"
      ]
     },
     "execution_count": 14,
     "metadata": {},
     "output_type": "execute_result"
    }
   ],
   "source": [
    "start"
   ]
  },
  {
   "cell_type": "code",
   "execution_count": 15,
   "id": "a49b887f-fe6f-42e7-af86-8f6e894d7c3e",
   "metadata": {},
   "outputs": [],
   "source": [
    "one_more_month = relativedelta(months=1)"
   ]
  },
  {
   "cell_type": "code",
   "execution_count": 16,
   "id": "ce103a58-4a16-4db8-b296-0c2a407646e5",
   "metadata": {},
   "outputs": [],
   "source": [
    "next_month = start + one_more_month"
   ]
  },
  {
   "cell_type": "code",
   "execution_count": 17,
   "id": "d52d3f8f-cc82-4648-857c-1214a07a53a2",
   "metadata": {},
   "outputs": [
    {
     "data": {
      "text/plain": [
       "datetime.datetime(2018, 8, 1, 0, 0)"
      ]
     },
     "execution_count": 17,
     "metadata": {},
     "output_type": "execute_result"
    }
   ],
   "source": [
    "next_month"
   ]
  },
  {
   "cell_type": "code",
   "execution_count": 18,
   "id": "cf39610e-18bb-4803-ab72-6699dc30219b",
   "metadata": {},
   "outputs": [],
   "source": [
    "months = dataframe[\"Month\"]\n",
    "dates = []\n",
    "start = datetime(2018, 7, 1)\n",
    "\n",
    "for i, val in enumerate(months):\n",
    "    if i == 0:\n",
    "        dates.append(start)\n",
    "    \n",
    "    else:\n",
    "        new_month = dates[i-1] + one_more_month\n",
    "        dates.append(new_month)\n",
    "\n",
    "dataframe[\"Date\"] = dates"
   ]
  },
  {
   "cell_type": "code",
   "execution_count": 19,
   "id": "b7c7ecf2-b68a-4121-aa83-bd15c2f24be9",
   "metadata": {},
   "outputs": [
    {
     "data": {
      "text/html": [
       "<div>\n",
       "<style scoped>\n",
       "    .dataframe tbody tr th:only-of-type {\n",
       "        vertical-align: middle;\n",
       "    }\n",
       "\n",
       "    .dataframe tbody tr th {\n",
       "        vertical-align: top;\n",
       "    }\n",
       "\n",
       "    .dataframe thead th {\n",
       "        text-align: right;\n",
       "    }\n",
       "</style>\n",
       "<table border=\"1\" class=\"dataframe\">\n",
       "  <thead>\n",
       "    <tr style=\"text-align: right;\">\n",
       "      <th></th>\n",
       "      <th>Month</th>\n",
       "      <th>MonthlyGrowth</th>\n",
       "      <th>TotalUsers</th>\n",
       "      <th>NewUsers</th>\n",
       "      <th>Date</th>\n",
       "    </tr>\n",
       "  </thead>\n",
       "  <tbody>\n",
       "    <tr>\n",
       "      <th>0</th>\n",
       "      <td>month_1</td>\n",
       "      <td>0.400000</td>\n",
       "      <td>45</td>\n",
       "      <td>45</td>\n",
       "      <td>2018-07-01</td>\n",
       "    </tr>\n",
       "    <tr>\n",
       "      <th>1</th>\n",
       "      <td>month_2</td>\n",
       "      <td>0.400000</td>\n",
       "      <td>63</td>\n",
       "      <td>18</td>\n",
       "      <td>2018-08-01</td>\n",
       "    </tr>\n",
       "    <tr>\n",
       "      <th>2</th>\n",
       "      <td>month_3</td>\n",
       "      <td>0.400000</td>\n",
       "      <td>88</td>\n",
       "      <td>25</td>\n",
       "      <td>2018-09-01</td>\n",
       "    </tr>\n",
       "    <tr>\n",
       "      <th>3</th>\n",
       "      <td>month_4</td>\n",
       "      <td>0.133333</td>\n",
       "      <td>123</td>\n",
       "      <td>35</td>\n",
       "      <td>2018-10-01</td>\n",
       "    </tr>\n",
       "    <tr>\n",
       "      <th>4</th>\n",
       "      <td>month_5</td>\n",
       "      <td>0.133333</td>\n",
       "      <td>139</td>\n",
       "      <td>16</td>\n",
       "      <td>2018-11-01</td>\n",
       "    </tr>\n",
       "    <tr>\n",
       "      <th>5</th>\n",
       "      <td>month_6</td>\n",
       "      <td>0.133333</td>\n",
       "      <td>157</td>\n",
       "      <td>18</td>\n",
       "      <td>2018-12-01</td>\n",
       "    </tr>\n",
       "    <tr>\n",
       "      <th>6</th>\n",
       "      <td>month_7</td>\n",
       "      <td>0.093333</td>\n",
       "      <td>177</td>\n",
       "      <td>20</td>\n",
       "      <td>2019-01-01</td>\n",
       "    </tr>\n",
       "    <tr>\n",
       "      <th>7</th>\n",
       "      <td>month_8</td>\n",
       "      <td>0.093333</td>\n",
       "      <td>193</td>\n",
       "      <td>16</td>\n",
       "      <td>2019-02-01</td>\n",
       "    </tr>\n",
       "    <tr>\n",
       "      <th>8</th>\n",
       "      <td>month_9</td>\n",
       "      <td>0.093333</td>\n",
       "      <td>211</td>\n",
       "      <td>18</td>\n",
       "      <td>2019-03-01</td>\n",
       "    </tr>\n",
       "    <tr>\n",
       "      <th>9</th>\n",
       "      <td>month_10</td>\n",
       "      <td>0.080000</td>\n",
       "      <td>230</td>\n",
       "      <td>19</td>\n",
       "      <td>2019-04-01</td>\n",
       "    </tr>\n",
       "    <tr>\n",
       "      <th>10</th>\n",
       "      <td>month_11</td>\n",
       "      <td>0.080000</td>\n",
       "      <td>248</td>\n",
       "      <td>18</td>\n",
       "      <td>2019-05-01</td>\n",
       "    </tr>\n",
       "    <tr>\n",
       "      <th>11</th>\n",
       "      <td>month_12</td>\n",
       "      <td>0.080000</td>\n",
       "      <td>267</td>\n",
       "      <td>19</td>\n",
       "      <td>2019-06-01</td>\n",
       "    </tr>\n",
       "    <tr>\n",
       "      <th>12</th>\n",
       "      <td>month_13</td>\n",
       "      <td>0.150000</td>\n",
       "      <td>288</td>\n",
       "      <td>21</td>\n",
       "      <td>2019-07-01</td>\n",
       "    </tr>\n",
       "    <tr>\n",
       "      <th>13</th>\n",
       "      <td>month_14</td>\n",
       "      <td>0.150000</td>\n",
       "      <td>331</td>\n",
       "      <td>43</td>\n",
       "      <td>2019-08-01</td>\n",
       "    </tr>\n",
       "    <tr>\n",
       "      <th>14</th>\n",
       "      <td>month_15</td>\n",
       "      <td>0.150000</td>\n",
       "      <td>380</td>\n",
       "      <td>49</td>\n",
       "      <td>2019-09-01</td>\n",
       "    </tr>\n",
       "  </tbody>\n",
       "</table>\n",
       "</div>"
      ],
      "text/plain": [
       "       Month  MonthlyGrowth  TotalUsers  NewUsers       Date\n",
       "0    month_1       0.400000          45        45 2018-07-01\n",
       "1    month_2       0.400000          63        18 2018-08-01\n",
       "2    month_3       0.400000          88        25 2018-09-01\n",
       "3    month_4       0.133333         123        35 2018-10-01\n",
       "4    month_5       0.133333         139        16 2018-11-01\n",
       "5    month_6       0.133333         157        18 2018-12-01\n",
       "6    month_7       0.093333         177        20 2019-01-01\n",
       "7    month_8       0.093333         193        16 2019-02-01\n",
       "8    month_9       0.093333         211        18 2019-03-01\n",
       "9   month_10       0.080000         230        19 2019-04-01\n",
       "10  month_11       0.080000         248        18 2019-05-01\n",
       "11  month_12       0.080000         267        19 2019-06-01\n",
       "12  month_13       0.150000         288        21 2019-07-01\n",
       "13  month_14       0.150000         331        43 2019-08-01\n",
       "14  month_15       0.150000         380        49 2019-09-01"
      ]
     },
     "execution_count": 19,
     "metadata": {},
     "output_type": "execute_result"
    }
   ],
   "source": [
    "dataframe[0:15]"
   ]
  },
  {
   "cell_type": "code",
   "execution_count": 20,
   "id": "06c51125-8b41-4ed8-9370-85eeae0c4cf7",
   "metadata": {},
   "outputs": [
    {
     "name": "stdout",
     "output_type": "stream",
     "text": [
      "DatetimeIndex(['2018-07-02', '2018-07-03', '2018-07-04', '2018-07-05',\n",
      "               '2018-07-06', '2018-07-09', '2018-07-10', '2018-07-11',\n",
      "               '2018-07-12', '2018-07-13', '2018-07-16', '2018-07-17',\n",
      "               '2018-07-18', '2018-07-19', '2018-07-20', '2018-07-23',\n",
      "               '2018-07-24', '2018-07-25', '2018-07-26', '2018-07-27',\n",
      "               '2018-07-30', '2018-07-31'],\n",
      "              dtype='datetime64[ns]', freq='B')\n"
     ]
    }
   ],
   "source": [
    "print(pd.bdate_range(start=dataframe[\"Date\"][0], end=dataframe[\"Date\"][1], inclusive=\"left\"))"
   ]
  },
  {
   "cell_type": "code",
   "execution_count": 21,
   "id": "90536155-8caf-43be-a7c1-a25d93f8624c",
   "metadata": {},
   "outputs": [
    {
     "name": "stdout",
     "output_type": "stream",
     "text": [
      "DatetimeIndex(['2018-08-01', '2018-08-02', '2018-08-03', '2018-08-06',\n",
      "               '2018-08-07', '2018-08-08', '2018-08-09', '2018-08-10',\n",
      "               '2018-08-13', '2018-08-14', '2018-08-15', '2018-08-16',\n",
      "               '2018-08-17', '2018-08-20', '2018-08-21', '2018-08-22',\n",
      "               '2018-08-23', '2018-08-24', '2018-08-27', '2018-08-28',\n",
      "               '2018-08-29', '2018-08-30', '2018-08-31'],\n",
      "              dtype='datetime64[ns]', freq='B')\n"
     ]
    }
   ],
   "source": [
    "print(pd.bdate_range(start=dataframe[\"Date\"][1], end=dataframe[\"Date\"][2], inclusive=\"left\"))"
   ]
  },
  {
   "cell_type": "code",
   "execution_count": 22,
   "id": "842598b2-c539-440a-9670-b785976f9509",
   "metadata": {},
   "outputs": [
    {
     "data": {
      "text/plain": [
       "22"
      ]
     },
     "execution_count": 22,
     "metadata": {},
     "output_type": "execute_result"
    }
   ],
   "source": [
    "len(pd.bdate_range(start=dataframe[\"Date\"][0], end=dataframe[\"Date\"][1], inclusive=\"left\"))"
   ]
  },
  {
   "cell_type": "code",
   "execution_count": 23,
   "id": "b65338ee-9ad6-4a52-ae4d-71113549f87f",
   "metadata": {},
   "outputs": [
    {
     "data": {
      "text/plain": [
       "(2018, 8)"
      ]
     },
     "execution_count": 23,
     "metadata": {},
     "output_type": "execute_result"
    }
   ],
   "source": [
    "dataframe[\"Date\"][1].year, dataframe[\"Date\"][1].month"
   ]
  },
  {
   "cell_type": "code",
   "execution_count": 24,
   "id": "de7e1ad4-4abe-4538-89e1-62c3fe9f6efd",
   "metadata": {},
   "outputs": [
    {
     "data": {
      "text/plain": [
       "2.0454545454545454"
      ]
     },
     "execution_count": 24,
     "metadata": {},
     "output_type": "execute_result"
    }
   ],
   "source": [
    "dataframe[\"NewUsers\"][0] / len(pd.bdate_range(start=dataframe[\"Date\"][0], end=dataframe[\"Date\"][1], inclusive=\"left\"))"
   ]
  },
  {
   "cell_type": "code",
   "execution_count": 25,
   "id": "bf97b066-85eb-473b-8a2a-988af9cb48ef",
   "metadata": {},
   "outputs": [
    {
     "data": {
      "text/html": [
       "<div>\n",
       "<style scoped>\n",
       "    .dataframe tbody tr th:only-of-type {\n",
       "        vertical-align: middle;\n",
       "    }\n",
       "\n",
       "    .dataframe tbody tr th {\n",
       "        vertical-align: top;\n",
       "    }\n",
       "\n",
       "    .dataframe thead th {\n",
       "        text-align: right;\n",
       "    }\n",
       "</style>\n",
       "<table border=\"1\" class=\"dataframe\">\n",
       "  <thead>\n",
       "    <tr style=\"text-align: right;\">\n",
       "      <th></th>\n",
       "      <th>Month</th>\n",
       "      <th>MonthlyGrowth</th>\n",
       "      <th>TotalUsers</th>\n",
       "      <th>NewUsers</th>\n",
       "      <th>Date</th>\n",
       "    </tr>\n",
       "  </thead>\n",
       "  <tbody>\n",
       "    <tr>\n",
       "      <th>0</th>\n",
       "      <td>month_1</td>\n",
       "      <td>0.400000</td>\n",
       "      <td>45</td>\n",
       "      <td>45</td>\n",
       "      <td>2018-07-01</td>\n",
       "    </tr>\n",
       "    <tr>\n",
       "      <th>1</th>\n",
       "      <td>month_2</td>\n",
       "      <td>0.400000</td>\n",
       "      <td>63</td>\n",
       "      <td>18</td>\n",
       "      <td>2018-08-01</td>\n",
       "    </tr>\n",
       "    <tr>\n",
       "      <th>2</th>\n",
       "      <td>month_3</td>\n",
       "      <td>0.400000</td>\n",
       "      <td>88</td>\n",
       "      <td>25</td>\n",
       "      <td>2018-09-01</td>\n",
       "    </tr>\n",
       "    <tr>\n",
       "      <th>3</th>\n",
       "      <td>month_4</td>\n",
       "      <td>0.133333</td>\n",
       "      <td>123</td>\n",
       "      <td>35</td>\n",
       "      <td>2018-10-01</td>\n",
       "    </tr>\n",
       "    <tr>\n",
       "      <th>4</th>\n",
       "      <td>month_5</td>\n",
       "      <td>0.133333</td>\n",
       "      <td>139</td>\n",
       "      <td>16</td>\n",
       "      <td>2018-11-01</td>\n",
       "    </tr>\n",
       "    <tr>\n",
       "      <th>5</th>\n",
       "      <td>month_6</td>\n",
       "      <td>0.133333</td>\n",
       "      <td>157</td>\n",
       "      <td>18</td>\n",
       "      <td>2018-12-01</td>\n",
       "    </tr>\n",
       "    <tr>\n",
       "      <th>6</th>\n",
       "      <td>month_7</td>\n",
       "      <td>0.093333</td>\n",
       "      <td>177</td>\n",
       "      <td>20</td>\n",
       "      <td>2019-01-01</td>\n",
       "    </tr>\n",
       "    <tr>\n",
       "      <th>7</th>\n",
       "      <td>month_8</td>\n",
       "      <td>0.093333</td>\n",
       "      <td>193</td>\n",
       "      <td>16</td>\n",
       "      <td>2019-02-01</td>\n",
       "    </tr>\n",
       "    <tr>\n",
       "      <th>8</th>\n",
       "      <td>month_9</td>\n",
       "      <td>0.093333</td>\n",
       "      <td>211</td>\n",
       "      <td>18</td>\n",
       "      <td>2019-03-01</td>\n",
       "    </tr>\n",
       "    <tr>\n",
       "      <th>9</th>\n",
       "      <td>month_10</td>\n",
       "      <td>0.080000</td>\n",
       "      <td>230</td>\n",
       "      <td>19</td>\n",
       "      <td>2019-04-01</td>\n",
       "    </tr>\n",
       "  </tbody>\n",
       "</table>\n",
       "</div>"
      ],
      "text/plain": [
       "      Month  MonthlyGrowth  TotalUsers  NewUsers       Date\n",
       "0   month_1       0.400000          45        45 2018-07-01\n",
       "1   month_2       0.400000          63        18 2018-08-01\n",
       "2   month_3       0.400000          88        25 2018-09-01\n",
       "3   month_4       0.133333         123        35 2018-10-01\n",
       "4   month_5       0.133333         139        16 2018-11-01\n",
       "5   month_6       0.133333         157        18 2018-12-01\n",
       "6   month_7       0.093333         177        20 2019-01-01\n",
       "7   month_8       0.093333         193        16 2019-02-01\n",
       "8   month_9       0.093333         211        18 2019-03-01\n",
       "9  month_10       0.080000         230        19 2019-04-01"
      ]
     },
     "execution_count": 25,
     "metadata": {},
     "output_type": "execute_result"
    }
   ],
   "source": [
    "dataframe.head(10)"
   ]
  },
  {
   "cell_type": "code",
   "execution_count": 26,
   "id": "4f6aea4a-844d-4896-8503-551526364986",
   "metadata": {},
   "outputs": [
    {
     "data": {
      "text/plain": [
       "45"
      ]
     },
     "execution_count": 26,
     "metadata": {},
     "output_type": "execute_result"
    }
   ],
   "source": [
    "dataframe[\"NewUsers\"][0]"
   ]
  },
  {
   "cell_type": "code",
   "execution_count": 27,
   "id": "7296b7bf-e8b8-41ab-80c4-5e2c77a52de9",
   "metadata": {},
   "outputs": [],
   "source": [
    "import numpy as np"
   ]
  },
  {
   "cell_type": "code",
   "execution_count": 28,
   "id": "dd7a0ae3-5403-4a6a-bb47-73d0b9f0c1c2",
   "metadata": {},
   "outputs": [
    {
     "data": {
      "text/plain": [
       "array([2.94791452, 2.92869015, 1.01589889, 2.63287276, 2.68060863,\n",
       "       1.4235497 , 3.23162362, 1.02170853, 2.18028177, 2.43589412,\n",
       "       2.80051155, 2.34489954, 2.23680469, 1.68298982, 1.71277406,\n",
       "       1.16592121, 2.17310377, 2.47444623, 1.07025847, 2.72571485,\n",
       "       1.94637608, 3.30326949])"
      ]
     },
     "execution_count": 28,
     "metadata": {},
     "output_type": "execute_result"
    }
   ],
   "source": [
    "bb = np.random.normal(\n",
    "            dataframe[\"NewUsers\"][0] / len(pd.bdate_range(start=dataframe[\"Date\"][0], end=dataframe[\"Date\"][0 + 1], inclusive=\"left\")), 0.8,\n",
    "            len(pd.bdate_range(start=dataframe[\"Date\"][0], end=dataframe[\"Date\"][0 + 1], inclusive=\"left\")))\n",
    "bb"
   ]
  },
  {
   "cell_type": "code",
   "execution_count": 29,
   "id": "7a918e2e-c056-49b1-b9f4-1661ab5de623",
   "metadata": {},
   "outputs": [
    {
     "data": {
      "text/plain": [
       "48.136112449236"
      ]
     },
     "execution_count": 29,
     "metadata": {},
     "output_type": "execute_result"
    }
   ],
   "source": [
    "sum(bb)"
   ]
  },
  {
   "cell_type": "code",
   "execution_count": 30,
   "id": "50573d1b-b36f-4f32-9525-3ddfee43a4f7",
   "metadata": {},
   "outputs": [],
   "source": [
    "def new_users_per_day():\n",
    "    full = []\n",
    "    for i in range(len(dataframe[\"NewUsers\"])):\n",
    "        if i <= 34:\n",
    "            s = list(np.random.normal(\n",
    "                dataframe[\"NewUsers\"][i] / len(pd.bdate_range(start=dataframe[\"Date\"][i], end=dataframe[\"Date\"][i + 1], inclusive=\"left\")), 1,\n",
    "                len(pd.bdate_range(start=dataframe[\"Date\"][i], end=dataframe[\"Date\"][i + 1], inclusive=\"left\"))))\n",
    "        elif i == 35:\n",
    "            s = list(np.random.normal(dataframe[\"NewUsers\"][i] / len(pd.bdate_range(start=dataframe[\"Date\"][i], end=dataframe[\"Date\"][i] + pd.tseries.offsets.MonthEnd(1))), 1, \n",
    "                          len(pd.bdate_range(start=dataframe[\"Date\"][i], end=dataframe[\"Date\"][i] + pd.tseries.offsets.MonthEnd(1)))))\n",
    "        full.append(s)\n",
    "        flat_full = [i for sublist in full for i in sublist]\n",
    "        rounded = [round(i) for i in flat_full]\n",
    "        \n",
    "        for i in range(len(rounded)):\n",
    "            if rounded[i] < 0:\n",
    "                rounded[i] = 0\n",
    "    return rounded"
   ]
  },
  {
   "cell_type": "code",
   "execution_count": 31,
   "id": "c4e74019-6931-4642-ae26-9cd4dd1af990",
   "metadata": {},
   "outputs": [],
   "source": [
    "aa = new_users_per_day()"
   ]
  },
  {
   "cell_type": "code",
   "execution_count": 32,
   "id": "e397282f-6ed5-434e-97c9-df99e4e7e8c6",
   "metadata": {},
   "outputs": [
    {
     "data": {
      "text/plain": [
       "783"
      ]
     },
     "execution_count": 32,
     "metadata": {},
     "output_type": "execute_result"
    }
   ],
   "source": [
    "len(aa)"
   ]
  },
  {
   "cell_type": "code",
   "execution_count": 33,
   "id": "8697933a-d65c-423a-a542-69afa55418c7",
   "metadata": {},
   "outputs": [
    {
     "data": {
      "text/plain": [
       "35   2021-06-01\n",
       "Name: Date, dtype: datetime64[ns]"
      ]
     },
     "execution_count": 33,
     "metadata": {},
     "output_type": "execute_result"
    }
   ],
   "source": [
    "dataframe[\"Date\"][-1:]"
   ]
  },
  {
   "cell_type": "code",
   "execution_count": 34,
   "id": "e327de02-e1a8-4227-a50c-3094803461ce",
   "metadata": {},
   "outputs": [],
   "source": [
    "def daily_new_clients(date):\n",
    "    days = []\n",
    "    for i in range(len(date)):\n",
    "        if i <= 34:\n",
    "            days.append(list(pd.bdate_range(start=date[i], end=date[i+1], inclusive=\"left\")))\n",
    "        else:\n",
    "            days.append(list(pd.bdate_range(start=date[i], end=dataframe[\"Date\"][35] + pd.tseries.offsets.MonthEnd(1))))\n",
    "            \n",
    "    flat_list = [i for sublist in days for i in sublist]\n",
    "    return flat_list\n",
    "        \n",
    "    "
   ]
  },
  {
   "cell_type": "code",
   "execution_count": 35,
   "id": "2c7b8648-299f-41eb-a8b0-c0dd1408bd18",
   "metadata": {},
   "outputs": [],
   "source": [
    "test = daily_new_clients(dataframe[\"Date\"])"
   ]
  },
  {
   "cell_type": "code",
   "execution_count": 36,
   "id": "b48d9afa-62c7-46af-a850-43fd1669ae2a",
   "metadata": {},
   "outputs": [
    {
     "data": {
      "text/plain": [
       "[Timestamp('2018-07-02 00:00:00', freq='B'),\n",
       " Timestamp('2018-07-03 00:00:00', freq='B'),\n",
       " Timestamp('2018-07-04 00:00:00', freq='B'),\n",
       " Timestamp('2018-07-05 00:00:00', freq='B'),\n",
       " Timestamp('2018-07-06 00:00:00', freq='B'),\n",
       " Timestamp('2018-07-09 00:00:00', freq='B'),\n",
       " Timestamp('2018-07-10 00:00:00', freq='B'),\n",
       " Timestamp('2018-07-11 00:00:00', freq='B'),\n",
       " Timestamp('2018-07-12 00:00:00', freq='B'),\n",
       " Timestamp('2018-07-13 00:00:00', freq='B')]"
      ]
     },
     "execution_count": 36,
     "metadata": {},
     "output_type": "execute_result"
    }
   ],
   "source": [
    "test[:10]"
   ]
  },
  {
   "cell_type": "code",
   "execution_count": 37,
   "id": "f583a3a8-635b-459f-80d7-c4985e416ccb",
   "metadata": {},
   "outputs": [],
   "source": [
    "dataset = pd.DataFrame(data = {\"Date\": test})"
   ]
  },
  {
   "cell_type": "code",
   "execution_count": 38,
   "id": "4c1c7569-6a75-4dee-a905-2ac5cfbf608d",
   "metadata": {},
   "outputs": [],
   "source": [
    "dataset[\"NewDailyCustomer\"] = aa"
   ]
  },
  {
   "cell_type": "code",
   "execution_count": 39,
   "id": "fd43b102-c2a1-4d2c-8c24-2cd3773273c8",
   "metadata": {},
   "outputs": [
    {
     "data": {
      "text/html": [
       "<div>\n",
       "<style scoped>\n",
       "    .dataframe tbody tr th:only-of-type {\n",
       "        vertical-align: middle;\n",
       "    }\n",
       "\n",
       "    .dataframe tbody tr th {\n",
       "        vertical-align: top;\n",
       "    }\n",
       "\n",
       "    .dataframe thead th {\n",
       "        text-align: right;\n",
       "    }\n",
       "</style>\n",
       "<table border=\"1\" class=\"dataframe\">\n",
       "  <thead>\n",
       "    <tr style=\"text-align: right;\">\n",
       "      <th></th>\n",
       "      <th>Date</th>\n",
       "      <th>NewDailyCustomer</th>\n",
       "    </tr>\n",
       "  </thead>\n",
       "  <tbody>\n",
       "    <tr>\n",
       "      <th>200</th>\n",
       "      <td>2019-04-08</td>\n",
       "      <td>0</td>\n",
       "    </tr>\n",
       "    <tr>\n",
       "      <th>201</th>\n",
       "      <td>2019-04-09</td>\n",
       "      <td>1</td>\n",
       "    </tr>\n",
       "    <tr>\n",
       "      <th>202</th>\n",
       "      <td>2019-04-10</td>\n",
       "      <td>2</td>\n",
       "    </tr>\n",
       "    <tr>\n",
       "      <th>203</th>\n",
       "      <td>2019-04-11</td>\n",
       "      <td>1</td>\n",
       "    </tr>\n",
       "    <tr>\n",
       "      <th>204</th>\n",
       "      <td>2019-04-12</td>\n",
       "      <td>0</td>\n",
       "    </tr>\n",
       "    <tr>\n",
       "      <th>205</th>\n",
       "      <td>2019-04-15</td>\n",
       "      <td>0</td>\n",
       "    </tr>\n",
       "    <tr>\n",
       "      <th>206</th>\n",
       "      <td>2019-04-16</td>\n",
       "      <td>1</td>\n",
       "    </tr>\n",
       "    <tr>\n",
       "      <th>207</th>\n",
       "      <td>2019-04-17</td>\n",
       "      <td>1</td>\n",
       "    </tr>\n",
       "    <tr>\n",
       "      <th>208</th>\n",
       "      <td>2019-04-18</td>\n",
       "      <td>0</td>\n",
       "    </tr>\n",
       "    <tr>\n",
       "      <th>209</th>\n",
       "      <td>2019-04-19</td>\n",
       "      <td>1</td>\n",
       "    </tr>\n",
       "    <tr>\n",
       "      <th>210</th>\n",
       "      <td>2019-04-22</td>\n",
       "      <td>1</td>\n",
       "    </tr>\n",
       "    <tr>\n",
       "      <th>211</th>\n",
       "      <td>2019-04-23</td>\n",
       "      <td>1</td>\n",
       "    </tr>\n",
       "    <tr>\n",
       "      <th>212</th>\n",
       "      <td>2019-04-24</td>\n",
       "      <td>1</td>\n",
       "    </tr>\n",
       "    <tr>\n",
       "      <th>213</th>\n",
       "      <td>2019-04-25</td>\n",
       "      <td>1</td>\n",
       "    </tr>\n",
       "    <tr>\n",
       "      <th>214</th>\n",
       "      <td>2019-04-26</td>\n",
       "      <td>0</td>\n",
       "    </tr>\n",
       "    <tr>\n",
       "      <th>215</th>\n",
       "      <td>2019-04-29</td>\n",
       "      <td>0</td>\n",
       "    </tr>\n",
       "    <tr>\n",
       "      <th>216</th>\n",
       "      <td>2019-04-30</td>\n",
       "      <td>2</td>\n",
       "    </tr>\n",
       "    <tr>\n",
       "      <th>217</th>\n",
       "      <td>2019-05-01</td>\n",
       "      <td>2</td>\n",
       "    </tr>\n",
       "    <tr>\n",
       "      <th>218</th>\n",
       "      <td>2019-05-02</td>\n",
       "      <td>2</td>\n",
       "    </tr>\n",
       "    <tr>\n",
       "      <th>219</th>\n",
       "      <td>2019-05-03</td>\n",
       "      <td>2</td>\n",
       "    </tr>\n",
       "  </tbody>\n",
       "</table>\n",
       "</div>"
      ],
      "text/plain": [
       "          Date  NewDailyCustomer\n",
       "200 2019-04-08                 0\n",
       "201 2019-04-09                 1\n",
       "202 2019-04-10                 2\n",
       "203 2019-04-11                 1\n",
       "204 2019-04-12                 0\n",
       "205 2019-04-15                 0\n",
       "206 2019-04-16                 1\n",
       "207 2019-04-17                 1\n",
       "208 2019-04-18                 0\n",
       "209 2019-04-19                 1\n",
       "210 2019-04-22                 1\n",
       "211 2019-04-23                 1\n",
       "212 2019-04-24                 1\n",
       "213 2019-04-25                 1\n",
       "214 2019-04-26                 0\n",
       "215 2019-04-29                 0\n",
       "216 2019-04-30                 2\n",
       "217 2019-05-01                 2\n",
       "218 2019-05-02                 2\n",
       "219 2019-05-03                 2"
      ]
     },
     "execution_count": 39,
     "metadata": {},
     "output_type": "execute_result"
    }
   ],
   "source": [
    "dataset[200:220]"
   ]
  },
  {
   "cell_type": "code",
   "execution_count": 40,
   "id": "afc3bfd9-4b81-4fe6-b4b1-228c36b6171f",
   "metadata": {},
   "outputs": [
    {
     "data": {
      "image/png": "[encoded data removed]",
      "text/plain": [
       "<Figure size 1368x648 with 1 Axes>"
      ]
     },
     "metadata": {
      "needs_background": "light"
     },
     "output_type": "display_data"
    }
   ],
   "source": [
    "plt.bar(dataset[\"Date\"], dataset[\"NewDailyCustomer\"])\n",
    "plt.title('New users per day')\n",
    "plt.xlabel('Day')\n",
    "plt.xticks(rotation = 45)\n",
    "plt.ylabel('New users')\n",
    "plt.show()"
   ]
  },
  {
   "cell_type": "code",
   "execution_count": 41,
   "id": "ce6f2ac9-163a-45fb-aaef-ab1b07eb979b",
   "metadata": {},
   "outputs": [
    {
     "data": {
      "text/html": [
       "<div>\n",
       "<style scoped>\n",
       "    .dataframe tbody tr th:only-of-type {\n",
       "        vertical-align: middle;\n",
       "    }\n",
       "\n",
       "    .dataframe tbody tr th {\n",
       "        vertical-align: top;\n",
       "    }\n",
       "\n",
       "    .dataframe thead th {\n",
       "        text-align: right;\n",
       "    }\n",
       "</style>\n",
       "<table border=\"1\" class=\"dataframe\">\n",
       "  <thead>\n",
       "    <tr style=\"text-align: right;\">\n",
       "      <th></th>\n",
       "      <th>Date</th>\n",
       "      <th>NewDailyCustomer</th>\n",
       "    </tr>\n",
       "  </thead>\n",
       "  <tbody>\n",
       "    <tr>\n",
       "      <th>0</th>\n",
       "      <td>2018-07-02</td>\n",
       "      <td>1</td>\n",
       "    </tr>\n",
       "    <tr>\n",
       "      <th>1</th>\n",
       "      <td>2018-07-03</td>\n",
       "      <td>3</td>\n",
       "    </tr>\n",
       "    <tr>\n",
       "      <th>2</th>\n",
       "      <td>2018-07-04</td>\n",
       "      <td>2</td>\n",
       "    </tr>\n",
       "    <tr>\n",
       "      <th>3</th>\n",
       "      <td>2018-07-05</td>\n",
       "      <td>0</td>\n",
       "    </tr>\n",
       "    <tr>\n",
       "      <th>4</th>\n",
       "      <td>2018-07-06</td>\n",
       "      <td>2</td>\n",
       "    </tr>\n",
       "    <tr>\n",
       "      <th>5</th>\n",
       "      <td>2018-07-09</td>\n",
       "      <td>2</td>\n",
       "    </tr>\n",
       "    <tr>\n",
       "      <th>6</th>\n",
       "      <td>2018-07-10</td>\n",
       "      <td>1</td>\n",
       "    </tr>\n",
       "    <tr>\n",
       "      <th>7</th>\n",
       "      <td>2018-07-11</td>\n",
       "      <td>0</td>\n",
       "    </tr>\n",
       "    <tr>\n",
       "      <th>8</th>\n",
       "      <td>2018-07-12</td>\n",
       "      <td>0</td>\n",
       "    </tr>\n",
       "    <tr>\n",
       "      <th>9</th>\n",
       "      <td>2018-07-13</td>\n",
       "      <td>3</td>\n",
       "    </tr>\n",
       "  </tbody>\n",
       "</table>\n",
       "</div>"
      ],
      "text/plain": [
       "        Date  NewDailyCustomer\n",
       "0 2018-07-02                 1\n",
       "1 2018-07-03                 3\n",
       "2 2018-07-04                 2\n",
       "3 2018-07-05                 0\n",
       "4 2018-07-06                 2\n",
       "5 2018-07-09                 2\n",
       "6 2018-07-10                 1\n",
       "7 2018-07-11                 0\n",
       "8 2018-07-12                 0\n",
       "9 2018-07-13                 3"
      ]
     },
     "execution_count": 41,
     "metadata": {},
     "output_type": "execute_result"
    }
   ],
   "source": [
    "dataset.head(10)"
   ]
  },
  {
   "cell_type": "code",
   "execution_count": 42,
   "id": "2b03d6cf-3ac0-4f0c-8ffe-1927ab7da238",
   "metadata": {},
   "outputs": [
    {
     "data": {
      "text/plain": [
       "'16/07/2018'"
      ]
     },
     "execution_count": 42,
     "metadata": {},
     "output_type": "execute_result"
    }
   ],
   "source": [
    "dataset[\"Date\"][10].strftime('%d/%m/%Y')"
   ]
  },
  {
   "cell_type": "code",
   "execution_count": 43,
   "id": "1d6883bf-463f-4dfb-9ab6-298a15c89eee",
   "metadata": {},
   "outputs": [],
   "source": [
    "dates = []\n",
    "for i in dataset[\"Date\"]:\n",
    "    dates.append(i.strftime('%d/%m/%Y'))"
   ]
  },
  {
   "cell_type": "code",
   "execution_count": 44,
   "id": "c34d876b-679f-47d3-991e-ac3ef879121d",
   "metadata": {},
   "outputs": [],
   "source": [
    "users = dataset[\"NewDailyCustomer\"].to_list()"
   ]
  },
  {
   "cell_type": "code",
   "execution_count": 45,
   "id": "c0945909-956d-48f0-9eec-912d8d25e3aa",
   "metadata": {},
   "outputs": [
    {
     "data": {
      "text/plain": [
       "(list, list)"
      ]
     },
     "execution_count": 45,
     "metadata": {},
     "output_type": "execute_result"
    }
   ],
   "source": [
    "type(dates), type(users)"
   ]
  },
  {
   "cell_type": "code",
   "execution_count": 46,
   "id": "0b974b4c-3808-4e75-9e88-d773586b29b4",
   "metadata": {},
   "outputs": [],
   "source": [
    "dict_from_lists = dict(zip(dates, users))"
   ]
  },
  {
   "cell_type": "code",
   "execution_count": 47,
   "id": "637b5da5-18a5-4ef9-884c-46ee3deca2c2",
   "metadata": {},
   "outputs": [
    {
     "data": {
      "text/plain": [
       "1706"
      ]
     },
     "execution_count": 47,
     "metadata": {},
     "output_type": "execute_result"
    }
   ],
   "source": [
    "sum(dataset[\"NewDailyCustomer\"])"
   ]
  },
  {
   "cell_type": "code",
   "execution_count": 48,
   "id": "e64641c0-c495-4e62-9829-3f218db1309e",
   "metadata": {},
   "outputs": [],
   "source": [
    "list_users = []\n",
    "for i in range(sum(dataset[\"NewDailyCustomer\"])):\n",
    "    list_users.append(\"user_\" + str(i))"
   ]
  },
  {
   "cell_type": "code",
   "execution_count": 49,
   "id": "b1f02d4e-d907-42d3-baa0-c21725909f54",
   "metadata": {},
   "outputs": [
    {
     "data": {
      "text/plain": [
       "1706"
      ]
     },
     "execution_count": 49,
     "metadata": {},
     "output_type": "execute_result"
    }
   ],
   "source": [
    "len(list_users)"
   ]
  },
  {
   "cell_type": "code",
   "execution_count": 50,
   "id": "d6a0a121-02f2-4e70-b8d9-0f2e60c2ced1",
   "metadata": {},
   "outputs": [
    {
     "data": {
      "text/plain": [
       "[2, 2, 1, 0, 1, 1, 3, 1, 0, 1]"
      ]
     },
     "execution_count": 50,
     "metadata": {},
     "output_type": "execute_result"
    }
   ],
   "source": [
    "users[20:30]"
   ]
  },
  {
   "cell_type": "code",
   "execution_count": 51,
   "id": "8346db05-8c6b-4f04-9695-90a230f671a2",
   "metadata": {},
   "outputs": [
    {
     "data": {
      "text/plain": [
       "['user_20',\n",
       " 'user_21',\n",
       " 'user_22',\n",
       " 'user_23',\n",
       " 'user_24',\n",
       " 'user_25',\n",
       " 'user_26',\n",
       " 'user_27',\n",
       " 'user_28',\n",
       " 'user_29']"
      ]
     },
     "execution_count": 51,
     "metadata": {},
     "output_type": "execute_result"
    }
   ],
   "source": [
    "list_users[20:30]"
   ]
  },
  {
   "cell_type": "code",
   "execution_count": 52,
   "id": "ed52214a-3be7-48c7-a11c-bca0ea4ab2b1",
   "metadata": {},
   "outputs": [],
   "source": [
    "new_list = []\n",
    "for i in users:\n",
    "    new_list.append(list_users[:i])\n",
    "    del list_users[:i] # Super important, othervise the names reset to person_1, at each date"
   ]
  },
  {
   "cell_type": "code",
   "execution_count": 53,
   "id": "6e33c888-3758-451f-beec-eb249acaeb6a",
   "metadata": {},
   "outputs": [
    {
     "data": {
      "text/plain": [
       "[['user_34', 'user_35'],\n",
       " ['user_36', 'user_37'],\n",
       " ['user_38'],\n",
       " [],\n",
       " ['user_39'],\n",
       " ['user_40'],\n",
       " ['user_41', 'user_42', 'user_43'],\n",
       " ['user_44'],\n",
       " [],\n",
       " ['user_45']]"
      ]
     },
     "execution_count": 53,
     "metadata": {},
     "output_type": "execute_result"
    }
   ],
   "source": [
    "new_list[20:30]"
   ]
  },
  {
   "cell_type": "code",
   "execution_count": 54,
   "id": "836ab87b-ce77-41ba-a170-017acc7ae54d",
   "metadata": {},
   "outputs": [],
   "source": [
    "final_dict= {}\n",
    "for i, (a, b, c) in enumerate(zip(dates, users, new_list)):\n",
    "    final_dict[i] = (a, b, c)"
   ]
  },
  {
   "cell_type": "code",
   "execution_count": 55,
   "id": "cbc946c9-bab8-4f0f-97b4-b13fd9c79b08",
   "metadata": {},
   "outputs": [
    {
     "data": {
      "text/plain": [
       "[(20, ('30/07/2018', 2, ['user_34', 'user_35'])),\n",
       " (21, ('31/07/2018', 2, ['user_36', 'user_37'])),\n",
       " (22, ('01/08/2018', 1, ['user_38'])),\n",
       " (23, ('02/08/2018', 0, [])),\n",
       " (24, ('03/08/2018', 1, ['user_39'])),\n",
       " (25, ('06/08/2018', 1, ['user_40'])),\n",
       " (26, ('07/08/2018', 3, ['user_41', 'user_42', 'user_43'])),\n",
       " (27, ('08/08/2018', 1, ['user_44'])),\n",
       " (28, ('09/08/2018', 0, [])),\n",
       " (29, ('10/08/2018', 1, ['user_45']))]"
      ]
     },
     "execution_count": 55,
     "metadata": {},
     "output_type": "execute_result"
    }
   ],
   "source": [
    "list(final_dict.items())[20:30]"
   ]
  },
  {
   "cell_type": "code",
   "execution_count": 56,
   "id": "53d68c0e-e206-4ad8-95bc-a9fd4990670f",
   "metadata": {},
   "outputs": [],
   "source": [
    "keys = []\n",
    "values = []"
   ]
  },
  {
   "cell_type": "code",
   "execution_count": 57,
   "id": "c3365350-b265-44aa-95b3-e8ba8e8f95a5",
   "metadata": {},
   "outputs": [],
   "source": [
    "for key, value in final_dict.items():\n",
    "        for item in value[2]:\n",
    "            keys.append(item)\n",
    "            values.append(value[0])\n",
    "final_final_dict = dict(zip(keys, values))"
   ]
  },
  {
   "cell_type": "code",
   "execution_count": 58,
   "id": "3c4f79b7-5b49-4fe9-9268-6da25940e0de",
   "metadata": {},
   "outputs": [
    {
     "data": {
      "text/plain": [
       "[('user_20', '18/07/2018'),\n",
       " ('user_21', '18/07/2018'),\n",
       " ('user_22', '19/07/2018'),\n",
       " ('user_23', '20/07/2018'),\n",
       " ('user_24', '20/07/2018'),\n",
       " ('user_25', '23/07/2018'),\n",
       " ('user_26', '23/07/2018'),\n",
       " ('user_27', '24/07/2018'),\n",
       " ('user_28', '24/07/2018'),\n",
       " ('user_29', '24/07/2018'),\n",
       " ('user_30', '26/07/2018'),\n",
       " ('user_31', '26/07/2018'),\n",
       " ('user_32', '27/07/2018'),\n",
       " ('user_33', '27/07/2018'),\n",
       " ('user_34', '30/07/2018'),\n",
       " ('user_35', '30/07/2018'),\n",
       " ('user_36', '31/07/2018'),\n",
       " ('user_37', '31/07/2018'),\n",
       " ('user_38', '01/08/2018'),\n",
       " ('user_39', '03/08/2018'),\n",
       " ('user_40', '06/08/2018'),\n",
       " ('user_41', '07/08/2018'),\n",
       " ('user_42', '07/08/2018'),\n",
       " ('user_43', '07/08/2018'),\n",
       " ('user_44', '08/08/2018'),\n",
       " ('user_45', '10/08/2018'),\n",
       " ('user_46', '15/08/2018'),\n",
       " ('user_47', '16/08/2018'),\n",
       " ('user_48', '21/08/2018'),\n",
       " ('user_49', '23/08/2018')]"
      ]
     },
     "execution_count": 58,
     "metadata": {},
     "output_type": "execute_result"
    }
   ],
   "source": [
    "list(final_final_dict.items())[20:50]"
   ]
  },
  {
   "cell_type": "code",
   "execution_count": 59,
   "id": "144ff9ea-fbf8-4b61-9442-676fb4dc9475",
   "metadata": {},
   "outputs": [
    {
     "data": {
      "text/plain": [
       "1706"
      ]
     },
     "execution_count": 59,
     "metadata": {},
     "output_type": "execute_result"
    }
   ],
   "source": [
    "len(list(final_final_dict.items()))"
   ]
  },
  {
   "cell_type": "markdown",
   "id": "b6a599ae-6d0d-4c1a-9a3a-93a7858e81c5",
   "metadata": {},
   "source": [
    "---"
   ]
  },
  {
   "cell_type": "code",
   "execution_count": 60,
   "id": "00225810-41ff-4360-ac79-67d86ae32ded",
   "metadata": {},
   "outputs": [],
   "source": [
    "def give_first_name(dictionary):\n",
    "    \"\"\"\n",
    "    For each item,\n",
    "    Give value of M/F to each following 0.7, 0.3\n",
    "    If M or F, then given M or F name following\n",
    "    name prob\n",
    "    \"\"\"\n",
    "    m_f = [1, 2]\n",
    "    m_f_probs = [0.6, 0.4]\n",
    "    \n",
    "    m_names = [\"Fred\", \"Mickael\", \"Philippe\"]\n",
    "    f_names = [\"Claire\", \"Manon\", \"Sarah\"]\n",
    "    \n",
    "    first_name = []\n",
    "    for i in dictionary:\n",
    "        user_m_f = np.random.choice(m_f, p = m_f_probs)\n",
    "        if user_m_f == 1:\n",
    "            first_name.append(np.random.choice(m_names))\n",
    "        else:\n",
    "            first_name.append(np.random.choice(f_names))\n",
    "    return first_name"
   ]
  },
  {
   "cell_type": "code",
   "execution_count": 61,
   "id": "8b1c66aa-961c-456c-addf-a26792afcbed",
   "metadata": {},
   "outputs": [],
   "source": [
    "m_names = [\"Fred\", \"Mickael\", \"Philippe\"]\n",
    "f_names = [\"Claire\", \"Manon\", \"Sarah\"]"
   ]
  },
  {
   "cell_type": "code",
   "execution_count": 62,
   "id": "be5f5721-6ed3-4f3b-86cc-98ef7a362d42",
   "metadata": {},
   "outputs": [],
   "source": [
    "m_f = [\"M\", \"F\"]\n",
    "m_f_probs = [0.6, 0.4]"
   ]
  },
  {
   "cell_type": "code",
   "execution_count": 63,
   "id": "4cfc2db1-d567-48a5-be0e-9215bef7f6d8",
   "metadata": {},
   "outputs": [
    {
     "data": {
      "text/plain": [
       "'F'"
      ]
     },
     "execution_count": 63,
     "metadata": {},
     "output_type": "execute_result"
    }
   ],
   "source": [
    "np.random.choice(m_f, p = m_f_probs)"
   ]
  },
  {
   "cell_type": "code",
   "execution_count": 64,
   "id": "96a37ff6-fc7c-4541-b162-dcf67c0054ae",
   "metadata": {},
   "outputs": [],
   "source": [
    "teeest = [\"a\", \"b\", \"c\", \"d\", \"e\"]"
   ]
  },
  {
   "cell_type": "code",
   "execution_count": 65,
   "id": "3369bf4f-800f-42b2-bc40-643871e6bddd",
   "metadata": {},
   "outputs": [
    {
     "name": "stdout",
     "output_type": "stream",
     "text": [
      "0\n",
      "1\n",
      "2\n",
      "3\n",
      "4\n"
     ]
    }
   ],
   "source": [
    "for i, val in enumerate(teeest):\n",
    "    print(i)"
   ]
  },
  {
   "cell_type": "code",
   "execution_count": 66,
   "id": "6a4a9a86-ca76-4a0e-85f8-f69480e0b832",
   "metadata": {},
   "outputs": [
    {
     "name": "stdout",
     "output_type": "stream",
     "text": [
      "(0, 'a')\n",
      "(1, 'b')\n",
      "(2, 'c')\n",
      "(3, 'd')\n",
      "(4, 'e')\n"
     ]
    }
   ],
   "source": [
    "for i in enumerate(teeest):\n",
    "    print(i)"
   ]
  },
  {
   "cell_type": "code",
   "execution_count": 67,
   "id": "afd3a71e-5040-4192-b72d-61c0b9990f7c",
   "metadata": {},
   "outputs": [
    {
     "name": "stdout",
     "output_type": "stream",
     "text": [
      "a\n",
      "b\n",
      "c\n",
      "d\n",
      "e\n"
     ]
    }
   ],
   "source": [
    "for i in teeest:\n",
    "    print(i)"
   ]
  },
  {
   "cell_type": "code",
   "execution_count": 68,
   "id": "8e1b96cc-1788-49ef-a798-058b6a8d2882",
   "metadata": {},
   "outputs": [],
   "source": [
    "list_of_names = give_first_name(final_final_dict)"
   ]
  },
  {
   "cell_type": "code",
   "execution_count": 69,
   "id": "3f0aa9ea-943b-40eb-ae99-5a7ca4b2c375",
   "metadata": {},
   "outputs": [
    {
     "data": {
      "text/plain": [
       "['Mickael',\n",
       " 'Philippe',\n",
       " 'Mickael',\n",
       " 'Manon',\n",
       " 'Sarah',\n",
       " 'Mickael',\n",
       " 'Manon',\n",
       " 'Philippe',\n",
       " 'Philippe',\n",
       " 'Manon',\n",
       " 'Manon',\n",
       " 'Fred',\n",
       " 'Philippe',\n",
       " 'Fred',\n",
       " 'Mickael',\n",
       " 'Fred',\n",
       " 'Manon',\n",
       " 'Fred',\n",
       " 'Philippe',\n",
       " 'Sarah']"
      ]
     },
     "execution_count": 69,
     "metadata": {},
     "output_type": "execute_result"
    }
   ],
   "source": [
    "list_of_names[:20]"
   ]
  },
  {
   "cell_type": "markdown",
   "id": "ea264adb-cae4-4929-a1d3-76969600e6c9",
   "metadata": {},
   "source": [
    "---"
   ]
  },
  {
   "cell_type": "code",
   "execution_count": 70,
   "id": "fbf1e124-3640-405e-adb6-054f1849249c",
   "metadata": {},
   "outputs": [
    {
     "data": {
      "text/plain": [
       "2004"
      ]
     },
     "execution_count": 70,
     "metadata": {},
     "output_type": "execute_result"
    }
   ],
   "source": [
    "2022 - 18"
   ]
  },
  {
   "cell_type": "code",
   "execution_count": 71,
   "id": "91590fb3-f9a0-43ac-8eff-1d53f1697e9f",
   "metadata": {},
   "outputs": [
    {
     "data": {
      "text/plain": [
       "1962"
      ]
     },
     "execution_count": 71,
     "metadata": {},
     "output_type": "execute_result"
    }
   ],
   "source": [
    "2022 - 60"
   ]
  },
  {
   "cell_type": "code",
   "execution_count": 72,
   "id": "21fc2604-eb2d-4594-aeff-f5440e67c63f",
   "metadata": {},
   "outputs": [],
   "source": [
    "names_dataset = pd.read_csv(\"../data/nat2020.csv\", delimiter=\";\")"
   ]
  },
  {
   "cell_type": "code",
   "execution_count": 73,
   "id": "273da4db-3dba-4511-87ba-b49dc54192f8",
   "metadata": {},
   "outputs": [
    {
     "data": {
      "text/html": [
       "<div>\n",
       "<style scoped>\n",
       "    .dataframe tbody tr th:only-of-type {\n",
       "        vertical-align: middle;\n",
       "    }\n",
       "\n",
       "    .dataframe tbody tr th {\n",
       "        vertical-align: top;\n",
       "    }\n",
       "\n",
       "    .dataframe thead th {\n",
       "        text-align: right;\n",
       "    }\n",
       "</style>\n",
       "<table border=\"1\" class=\"dataframe\">\n",
       "  <thead>\n",
       "    <tr style=\"text-align: right;\">\n",
       "      <th></th>\n",
       "      <th>sexe</th>\n",
       "      <th>preusuel</th>\n",
       "      <th>annais</th>\n",
       "      <th>nombre</th>\n",
       "    </tr>\n",
       "  </thead>\n",
       "  <tbody>\n",
       "    <tr>\n",
       "      <th>0</th>\n",
       "      <td>1</td>\n",
       "      <td>_PRENOMS_RARES</td>\n",
       "      <td>1900</td>\n",
       "      <td>1250</td>\n",
       "    </tr>\n",
       "    <tr>\n",
       "      <th>1</th>\n",
       "      <td>1</td>\n",
       "      <td>_PRENOMS_RARES</td>\n",
       "      <td>1901</td>\n",
       "      <td>1342</td>\n",
       "    </tr>\n",
       "    <tr>\n",
       "      <th>2</th>\n",
       "      <td>1</td>\n",
       "      <td>_PRENOMS_RARES</td>\n",
       "      <td>1902</td>\n",
       "      <td>1330</td>\n",
       "    </tr>\n",
       "    <tr>\n",
       "      <th>3</th>\n",
       "      <td>1</td>\n",
       "      <td>_PRENOMS_RARES</td>\n",
       "      <td>1903</td>\n",
       "      <td>1286</td>\n",
       "    </tr>\n",
       "    <tr>\n",
       "      <th>4</th>\n",
       "      <td>1</td>\n",
       "      <td>_PRENOMS_RARES</td>\n",
       "      <td>1904</td>\n",
       "      <td>1430</td>\n",
       "    </tr>\n",
       "  </tbody>\n",
       "</table>\n",
       "</div>"
      ],
      "text/plain": [
       "   sexe        preusuel annais  nombre\n",
       "0     1  _PRENOMS_RARES   1900    1250\n",
       "1     1  _PRENOMS_RARES   1901    1342\n",
       "2     1  _PRENOMS_RARES   1902    1330\n",
       "3     1  _PRENOMS_RARES   1903    1286\n",
       "4     1  _PRENOMS_RARES   1904    1430"
      ]
     },
     "execution_count": 73,
     "metadata": {},
     "output_type": "execute_result"
    }
   ],
   "source": [
    "names_dataset.head()"
   ]
  },
  {
   "cell_type": "code",
   "execution_count": 74,
   "id": "2be8abd6-23fb-41cd-a022-f7a389bcb764",
   "metadata": {},
   "outputs": [],
   "source": [
    "m_prenoms = names_dataset[names_dataset.sexe == 1]\n",
    "f_prenoms = names_dataset[names_dataset.sexe == 2]"
   ]
  },
  {
   "cell_type": "code",
   "execution_count": 75,
   "id": "1c013431-bc32-4977-86e2-db825c3603b7",
   "metadata": {},
   "outputs": [
    {
     "data": {
      "text/html": [
       "<div>\n",
       "<style scoped>\n",
       "    .dataframe tbody tr th:only-of-type {\n",
       "        vertical-align: middle;\n",
       "    }\n",
       "\n",
       "    .dataframe tbody tr th {\n",
       "        vertical-align: top;\n",
       "    }\n",
       "\n",
       "    .dataframe thead th {\n",
       "        text-align: right;\n",
       "    }\n",
       "</style>\n",
       "<table border=\"1\" class=\"dataframe\">\n",
       "  <thead>\n",
       "    <tr style=\"text-align: right;\">\n",
       "      <th></th>\n",
       "      <th>sexe</th>\n",
       "      <th>preusuel</th>\n",
       "      <th>annais</th>\n",
       "      <th>nombre</th>\n",
       "    </tr>\n",
       "  </thead>\n",
       "  <tbody>\n",
       "    <tr>\n",
       "      <th>0</th>\n",
       "      <td>1</td>\n",
       "      <td>_PRENOMS_RARES</td>\n",
       "      <td>1900</td>\n",
       "      <td>1250</td>\n",
       "    </tr>\n",
       "    <tr>\n",
       "      <th>1</th>\n",
       "      <td>1</td>\n",
       "      <td>_PRENOMS_RARES</td>\n",
       "      <td>1901</td>\n",
       "      <td>1342</td>\n",
       "    </tr>\n",
       "    <tr>\n",
       "      <th>2</th>\n",
       "      <td>1</td>\n",
       "      <td>_PRENOMS_RARES</td>\n",
       "      <td>1902</td>\n",
       "      <td>1330</td>\n",
       "    </tr>\n",
       "    <tr>\n",
       "      <th>3</th>\n",
       "      <td>1</td>\n",
       "      <td>_PRENOMS_RARES</td>\n",
       "      <td>1903</td>\n",
       "      <td>1286</td>\n",
       "    </tr>\n",
       "    <tr>\n",
       "      <th>4</th>\n",
       "      <td>1</td>\n",
       "      <td>_PRENOMS_RARES</td>\n",
       "      <td>1904</td>\n",
       "      <td>1430</td>\n",
       "    </tr>\n",
       "    <tr>\n",
       "      <th>...</th>\n",
       "      <td>...</td>\n",
       "      <td>...</td>\n",
       "      <td>...</td>\n",
       "      <td>...</td>\n",
       "    </tr>\n",
       "    <tr>\n",
       "      <th>304428</th>\n",
       "      <td>1</td>\n",
       "      <td>ZYON</td>\n",
       "      <td>2001</td>\n",
       "      <td>4</td>\n",
       "    </tr>\n",
       "    <tr>\n",
       "      <th>304429</th>\n",
       "      <td>1</td>\n",
       "      <td>ZYON</td>\n",
       "      <td>2010</td>\n",
       "      <td>3</td>\n",
       "    </tr>\n",
       "    <tr>\n",
       "      <th>304430</th>\n",
       "      <td>1</td>\n",
       "      <td>ZYON</td>\n",
       "      <td>2013</td>\n",
       "      <td>4</td>\n",
       "    </tr>\n",
       "    <tr>\n",
       "      <th>304431</th>\n",
       "      <td>1</td>\n",
       "      <td>ZYON</td>\n",
       "      <td>2020</td>\n",
       "      <td>5</td>\n",
       "    </tr>\n",
       "    <tr>\n",
       "      <th>304432</th>\n",
       "      <td>1</td>\n",
       "      <td>ZYON</td>\n",
       "      <td>XXXX</td>\n",
       "      <td>19</td>\n",
       "    </tr>\n",
       "  </tbody>\n",
       "</table>\n",
       "<p>304433 rows × 4 columns</p>\n",
       "</div>"
      ],
      "text/plain": [
       "        sexe        preusuel annais  nombre\n",
       "0          1  _PRENOMS_RARES   1900    1250\n",
       "1          1  _PRENOMS_RARES   1901    1342\n",
       "2          1  _PRENOMS_RARES   1902    1330\n",
       "3          1  _PRENOMS_RARES   1903    1286\n",
       "4          1  _PRENOMS_RARES   1904    1430\n",
       "...      ...             ...    ...     ...\n",
       "304428     1            ZYON   2001       4\n",
       "304429     1            ZYON   2010       3\n",
       "304430     1            ZYON   2013       4\n",
       "304431     1            ZYON   2020       5\n",
       "304432     1            ZYON   XXXX      19\n",
       "\n",
       "[304433 rows x 4 columns]"
      ]
     },
     "execution_count": 75,
     "metadata": {},
     "output_type": "execute_result"
    }
   ],
   "source": [
    "m_prenoms"
   ]
  },
  {
   "cell_type": "code",
   "execution_count": 76,
   "id": "e8141c8d-1a95-43ac-b70d-915d3fff6ad1",
   "metadata": {},
   "outputs": [],
   "source": [
    "mask_m = (m_prenoms['annais'] >= '1960') & (m_prenoms['annais'] <= '2003')\n",
    "mask_f = (f_prenoms['annais'] >= '1960') & (f_prenoms['annais'] <= '2003')"
   ]
  },
  {
   "cell_type": "code",
   "execution_count": 77,
   "id": "a22da6fe-d738-4b28-a865-9dffdbe7836f",
   "metadata": {},
   "outputs": [
    {
     "name": "stdout",
     "output_type": "stream",
     "text": [
      "        sexe        preusuel annais  nombre\n",
      "60         1  _PRENOMS_RARES   1960    2777\n",
      "61         1  _PRENOMS_RARES   1961    2854\n",
      "62         1  _PRENOMS_RARES   1962    3061\n",
      "63         1  _PRENOMS_RARES   1963    3080\n",
      "64         1  _PRENOMS_RARES   1964    3122\n",
      "...      ...             ...    ...     ...\n",
      "304321     1            ZYED   1999       5\n",
      "304322     1            ZYED   2000       5\n",
      "304323     1            ZYED   2001       5\n",
      "304324     1            ZYED   2002       3\n",
      "304428     1            ZYON   2001       4\n",
      "\n",
      "[127137 rows x 4 columns]\n"
     ]
    }
   ],
   "source": [
    "print(m_prenoms.loc[mask_m])"
   ]
  },
  {
   "cell_type": "code",
   "execution_count": 78,
   "id": "705c1aee-437d-4d7c-acf5-58cdd758dcc2",
   "metadata": {},
   "outputs": [],
   "source": [
    "m_prenoms_right_age = m_prenoms.loc[mask_m]\n",
    "f_prenoms_right_age = f_prenoms.loc[mask_f]"
   ]
  },
  {
   "cell_type": "code",
   "execution_count": 79,
   "id": "f3ec4e2d-ab04-4d2b-822c-6664d3577dd6",
   "metadata": {},
   "outputs": [
    {
     "data": {
      "text/html": [
       "<div>\n",
       "<style scoped>\n",
       "    .dataframe tbody tr th:only-of-type {\n",
       "        vertical-align: middle;\n",
       "    }\n",
       "\n",
       "    .dataframe tbody tr th {\n",
       "        vertical-align: top;\n",
       "    }\n",
       "\n",
       "    .dataframe thead th {\n",
       "        text-align: right;\n",
       "    }\n",
       "</style>\n",
       "<table border=\"1\" class=\"dataframe\">\n",
       "  <thead>\n",
       "    <tr style=\"text-align: right;\">\n",
       "      <th></th>\n",
       "      <th>sexe</th>\n",
       "      <th>preusuel</th>\n",
       "      <th>annais</th>\n",
       "      <th>nombre</th>\n",
       "    </tr>\n",
       "  </thead>\n",
       "  <tbody>\n",
       "    <tr>\n",
       "      <th>90</th>\n",
       "      <td>1</td>\n",
       "      <td>_PRENOMS_RARES</td>\n",
       "      <td>1990</td>\n",
       "      <td>8552</td>\n",
       "    </tr>\n",
       "    <tr>\n",
       "      <th>91</th>\n",
       "      <td>1</td>\n",
       "      <td>_PRENOMS_RARES</td>\n",
       "      <td>1991</td>\n",
       "      <td>8677</td>\n",
       "    </tr>\n",
       "    <tr>\n",
       "      <th>92</th>\n",
       "      <td>1</td>\n",
       "      <td>_PRENOMS_RARES</td>\n",
       "      <td>1992</td>\n",
       "      <td>9147</td>\n",
       "    </tr>\n",
       "    <tr>\n",
       "      <th>93</th>\n",
       "      <td>1</td>\n",
       "      <td>_PRENOMS_RARES</td>\n",
       "      <td>1993</td>\n",
       "      <td>9521</td>\n",
       "    </tr>\n",
       "    <tr>\n",
       "      <th>94</th>\n",
       "      <td>1</td>\n",
       "      <td>_PRENOMS_RARES</td>\n",
       "      <td>1994</td>\n",
       "      <td>9785</td>\n",
       "    </tr>\n",
       "    <tr>\n",
       "      <th>95</th>\n",
       "      <td>1</td>\n",
       "      <td>_PRENOMS_RARES</td>\n",
       "      <td>1995</td>\n",
       "      <td>9841</td>\n",
       "    </tr>\n",
       "    <tr>\n",
       "      <th>96</th>\n",
       "      <td>1</td>\n",
       "      <td>_PRENOMS_RARES</td>\n",
       "      <td>1996</td>\n",
       "      <td>10301</td>\n",
       "    </tr>\n",
       "    <tr>\n",
       "      <th>97</th>\n",
       "      <td>1</td>\n",
       "      <td>_PRENOMS_RARES</td>\n",
       "      <td>1997</td>\n",
       "      <td>10499</td>\n",
       "    </tr>\n",
       "    <tr>\n",
       "      <th>98</th>\n",
       "      <td>1</td>\n",
       "      <td>_PRENOMS_RARES</td>\n",
       "      <td>1998</td>\n",
       "      <td>11140</td>\n",
       "    </tr>\n",
       "    <tr>\n",
       "      <th>99</th>\n",
       "      <td>1</td>\n",
       "      <td>_PRENOMS_RARES</td>\n",
       "      <td>1999</td>\n",
       "      <td>11738</td>\n",
       "    </tr>\n",
       "    <tr>\n",
       "      <th>100</th>\n",
       "      <td>1</td>\n",
       "      <td>_PRENOMS_RARES</td>\n",
       "      <td>2000</td>\n",
       "      <td>12693</td>\n",
       "    </tr>\n",
       "    <tr>\n",
       "      <th>101</th>\n",
       "      <td>1</td>\n",
       "      <td>_PRENOMS_RARES</td>\n",
       "      <td>2001</td>\n",
       "      <td>13406</td>\n",
       "    </tr>\n",
       "    <tr>\n",
       "      <th>102</th>\n",
       "      <td>1</td>\n",
       "      <td>_PRENOMS_RARES</td>\n",
       "      <td>2002</td>\n",
       "      <td>14529</td>\n",
       "    </tr>\n",
       "    <tr>\n",
       "      <th>103</th>\n",
       "      <td>1</td>\n",
       "      <td>_PRENOMS_RARES</td>\n",
       "      <td>2003</td>\n",
       "      <td>15426</td>\n",
       "    </tr>\n",
       "    <tr>\n",
       "      <th>121</th>\n",
       "      <td>1</td>\n",
       "      <td>A</td>\n",
       "      <td>1980</td>\n",
       "      <td>3</td>\n",
       "    </tr>\n",
       "    <tr>\n",
       "      <th>122</th>\n",
       "      <td>1</td>\n",
       "      <td>A</td>\n",
       "      <td>1998</td>\n",
       "      <td>3</td>\n",
       "    </tr>\n",
       "    <tr>\n",
       "      <th>131</th>\n",
       "      <td>1</td>\n",
       "      <td>AADEL</td>\n",
       "      <td>1976</td>\n",
       "      <td>5</td>\n",
       "    </tr>\n",
       "    <tr>\n",
       "      <th>132</th>\n",
       "      <td>1</td>\n",
       "      <td>AADEL</td>\n",
       "      <td>1978</td>\n",
       "      <td>3</td>\n",
       "    </tr>\n",
       "    <tr>\n",
       "      <th>133</th>\n",
       "      <td>1</td>\n",
       "      <td>AADEL</td>\n",
       "      <td>1980</td>\n",
       "      <td>3</td>\n",
       "    </tr>\n",
       "    <tr>\n",
       "      <th>134</th>\n",
       "      <td>1</td>\n",
       "      <td>AADEL</td>\n",
       "      <td>1981</td>\n",
       "      <td>5</td>\n",
       "    </tr>\n",
       "  </tbody>\n",
       "</table>\n",
       "</div>"
      ],
      "text/plain": [
       "     sexe        preusuel annais  nombre\n",
       "90      1  _PRENOMS_RARES   1990    8552\n",
       "91      1  _PRENOMS_RARES   1991    8677\n",
       "92      1  _PRENOMS_RARES   1992    9147\n",
       "93      1  _PRENOMS_RARES   1993    9521\n",
       "94      1  _PRENOMS_RARES   1994    9785\n",
       "95      1  _PRENOMS_RARES   1995    9841\n",
       "96      1  _PRENOMS_RARES   1996   10301\n",
       "97      1  _PRENOMS_RARES   1997   10499\n",
       "98      1  _PRENOMS_RARES   1998   11140\n",
       "99      1  _PRENOMS_RARES   1999   11738\n",
       "100     1  _PRENOMS_RARES   2000   12693\n",
       "101     1  _PRENOMS_RARES   2001   13406\n",
       "102     1  _PRENOMS_RARES   2002   14529\n",
       "103     1  _PRENOMS_RARES   2003   15426\n",
       "121     1               A   1980       3\n",
       "122     1               A   1998       3\n",
       "131     1           AADEL   1976       5\n",
       "132     1           AADEL   1978       3\n",
       "133     1           AADEL   1980       3\n",
       "134     1           AADEL   1981       5"
      ]
     },
     "execution_count": 79,
     "metadata": {},
     "output_type": "execute_result"
    }
   ],
   "source": [
    "m_prenoms_right_age[30:50]"
   ]
  },
  {
   "cell_type": "code",
   "execution_count": 80,
   "id": "61662267-ffd9-4dae-abbc-df8214eb3794",
   "metadata": {},
   "outputs": [],
   "source": [
    "m_prenoms_right_age = m_prenoms_right_age[m_prenoms_right_age['preusuel'] != '_PRENOMS_RARES']\n",
    "f_prenoms_right_age = f_prenoms_right_age[f_prenoms_right_age['preusuel'] != '_PRENOMS_RARES']"
   ]
  },
  {
   "cell_type": "code",
   "execution_count": 81,
   "id": "a7f8bfb9-1033-4fb1-9d77-7c52dd310c5f",
   "metadata": {},
   "outputs": [
    {
     "data": {
      "text/html": [
       "<div>\n",
       "<style scoped>\n",
       "    .dataframe tbody tr th:only-of-type {\n",
       "        vertical-align: middle;\n",
       "    }\n",
       "\n",
       "    .dataframe tbody tr th {\n",
       "        vertical-align: top;\n",
       "    }\n",
       "\n",
       "    .dataframe thead th {\n",
       "        text-align: right;\n",
       "    }\n",
       "</style>\n",
       "<table border=\"1\" class=\"dataframe\">\n",
       "  <thead>\n",
       "    <tr style=\"text-align: right;\">\n",
       "      <th></th>\n",
       "      <th>sexe</th>\n",
       "      <th>preusuel</th>\n",
       "      <th>annais</th>\n",
       "      <th>nombre</th>\n",
       "    </tr>\n",
       "  </thead>\n",
       "  <tbody>\n",
       "    <tr>\n",
       "      <th>121</th>\n",
       "      <td>1</td>\n",
       "      <td>A</td>\n",
       "      <td>1980</td>\n",
       "      <td>3</td>\n",
       "    </tr>\n",
       "    <tr>\n",
       "      <th>122</th>\n",
       "      <td>1</td>\n",
       "      <td>A</td>\n",
       "      <td>1998</td>\n",
       "      <td>3</td>\n",
       "    </tr>\n",
       "    <tr>\n",
       "      <th>131</th>\n",
       "      <td>1</td>\n",
       "      <td>AADEL</td>\n",
       "      <td>1976</td>\n",
       "      <td>5</td>\n",
       "    </tr>\n",
       "    <tr>\n",
       "      <th>132</th>\n",
       "      <td>1</td>\n",
       "      <td>AADEL</td>\n",
       "      <td>1978</td>\n",
       "      <td>3</td>\n",
       "    </tr>\n",
       "    <tr>\n",
       "      <th>133</th>\n",
       "      <td>1</td>\n",
       "      <td>AADEL</td>\n",
       "      <td>1980</td>\n",
       "      <td>3</td>\n",
       "    </tr>\n",
       "    <tr>\n",
       "      <th>...</th>\n",
       "      <td>...</td>\n",
       "      <td>...</td>\n",
       "      <td>...</td>\n",
       "      <td>...</td>\n",
       "    </tr>\n",
       "    <tr>\n",
       "      <th>304321</th>\n",
       "      <td>1</td>\n",
       "      <td>ZYED</td>\n",
       "      <td>1999</td>\n",
       "      <td>5</td>\n",
       "    </tr>\n",
       "    <tr>\n",
       "      <th>304322</th>\n",
       "      <td>1</td>\n",
       "      <td>ZYED</td>\n",
       "      <td>2000</td>\n",
       "      <td>5</td>\n",
       "    </tr>\n",
       "    <tr>\n",
       "      <th>304323</th>\n",
       "      <td>1</td>\n",
       "      <td>ZYED</td>\n",
       "      <td>2001</td>\n",
       "      <td>5</td>\n",
       "    </tr>\n",
       "    <tr>\n",
       "      <th>304324</th>\n",
       "      <td>1</td>\n",
       "      <td>ZYED</td>\n",
       "      <td>2002</td>\n",
       "      <td>3</td>\n",
       "    </tr>\n",
       "    <tr>\n",
       "      <th>304428</th>\n",
       "      <td>1</td>\n",
       "      <td>ZYON</td>\n",
       "      <td>2001</td>\n",
       "      <td>4</td>\n",
       "    </tr>\n",
       "  </tbody>\n",
       "</table>\n",
       "<p>127093 rows × 4 columns</p>\n",
       "</div>"
      ],
      "text/plain": [
       "        sexe preusuel annais  nombre\n",
       "121        1        A   1980       3\n",
       "122        1        A   1998       3\n",
       "131        1    AADEL   1976       5\n",
       "132        1    AADEL   1978       3\n",
       "133        1    AADEL   1980       3\n",
       "...      ...      ...    ...     ...\n",
       "304321     1     ZYED   1999       5\n",
       "304322     1     ZYED   2000       5\n",
       "304323     1     ZYED   2001       5\n",
       "304324     1     ZYED   2002       3\n",
       "304428     1     ZYON   2001       4\n",
       "\n",
       "[127093 rows x 4 columns]"
      ]
     },
     "execution_count": 81,
     "metadata": {},
     "output_type": "execute_result"
    }
   ],
   "source": [
    "m_prenoms_right_age"
   ]
  },
  {
   "cell_type": "code",
   "execution_count": 82,
   "id": "b809516e-86c1-4873-a4cf-82911b228b70",
   "metadata": {},
   "outputs": [
    {
     "data": {
      "text/plain": [
       "(17931523, 17041712)"
      ]
     },
     "execution_count": 82,
     "metadata": {},
     "output_type": "execute_result"
    }
   ],
   "source": [
    "sum(m_prenoms_right_age[\"nombre\"]), sum(f_prenoms_right_age[\"nombre\"])"
   ]
  },
  {
   "cell_type": "code",
   "execution_count": 83,
   "id": "a520dc36-bdb8-480c-96d1-9ddc5c01c071",
   "metadata": {},
   "outputs": [
    {
     "data": {
      "text/plain": [
       "1.6730313426249402e-05"
      ]
     },
     "execution_count": 83,
     "metadata": {},
     "output_type": "execute_result"
    }
   ],
   "source": [
    "(3/17931523) * 100"
   ]
  },
  {
   "cell_type": "code",
   "execution_count": 84,
   "id": "fc221528-3117-48a4-9ccf-fb0d9fb99147",
   "metadata": {},
   "outputs": [
    {
     "data": {
      "text/plain": [
       "'AADEL'"
      ]
     },
     "execution_count": 84,
     "metadata": {},
     "output_type": "execute_result"
    }
   ],
   "source": [
    "m_prenoms_right_age.iat[2,1]"
   ]
  },
  {
   "cell_type": "code",
   "execution_count": 85,
   "id": "62f38dc5-9258-4004-b089-617a21b3b198",
   "metadata": {},
   "outputs": [
    {
     "data": {
      "text/plain": [
       "3"
      ]
     },
     "execution_count": 85,
     "metadata": {},
     "output_type": "execute_result"
    }
   ],
   "source": [
    "m_prenoms_right_age.iat[0,3]"
   ]
  },
  {
   "cell_type": "code",
   "execution_count": 86,
   "id": "ea2fb3a4-3fc8-4032-8d37-fc2adef448c5",
   "metadata": {},
   "outputs": [],
   "source": [
    "probas_m = []\n",
    "for i in range(len(m_prenoms_right_age)):\n",
    "    probas_m.append(m_prenoms_right_age.iat[i,3] / 17931523)"
   ]
  },
  {
   "cell_type": "code",
   "execution_count": 87,
   "id": "1f1c1dc3-0838-43c8-8bb6-d2a9d79a62b0",
   "metadata": {},
   "outputs": [],
   "source": [
    "probas_f = []\n",
    "for i in range(len(f_prenoms_right_age)):\n",
    "    probas_f.append(f_prenoms_right_age.iat[i,3] / 17041712)"
   ]
  },
  {
   "cell_type": "code",
   "execution_count": 88,
   "id": "976ce525-20a1-4cc8-a707-135a404dd080",
   "metadata": {},
   "outputs": [
    {
     "data": {
      "text/plain": [
       "(127093, 147143)"
      ]
     },
     "execution_count": 88,
     "metadata": {},
     "output_type": "execute_result"
    }
   ],
   "source": [
    "len(probas_m), len(probas_f)"
   ]
  },
  {
   "cell_type": "code",
   "execution_count": 89,
   "id": "78ef9cfc-aaa6-4c5f-90d8-424b77d6d8be",
   "metadata": {},
   "outputs": [
    {
     "data": {
      "text/plain": [
       "(127093, 147143)"
      ]
     },
     "execution_count": 89,
     "metadata": {},
     "output_type": "execute_result"
    }
   ],
   "source": [
    "len(m_prenoms_right_age), len(f_prenoms_right_age)"
   ]
  },
  {
   "cell_type": "code",
   "execution_count": 90,
   "id": "22451798-85bd-4af7-8db1-1d14ae1aba16",
   "metadata": {},
   "outputs": [],
   "source": [
    "m_prenoms_right_age[\"probas\"] = probas_m\n",
    "f_prenoms_right_age[\"probas\"] = probas_f"
   ]
  },
  {
   "cell_type": "code",
   "execution_count": 91,
   "id": "92e94744-f3d9-45da-9a6b-f499d1261b48",
   "metadata": {},
   "outputs": [
    {
     "data": {
      "text/html": [
       "<div>\n",
       "<style scoped>\n",
       "    .dataframe tbody tr th:only-of-type {\n",
       "        vertical-align: middle;\n",
       "    }\n",
       "\n",
       "    .dataframe tbody tr th {\n",
       "        vertical-align: top;\n",
       "    }\n",
       "\n",
       "    .dataframe thead th {\n",
       "        text-align: right;\n",
       "    }\n",
       "</style>\n",
       "<table border=\"1\" class=\"dataframe\">\n",
       "  <thead>\n",
       "    <tr style=\"text-align: right;\">\n",
       "      <th></th>\n",
       "      <th>sexe</th>\n",
       "      <th>preusuel</th>\n",
       "      <th>annais</th>\n",
       "      <th>nombre</th>\n",
       "      <th>probas</th>\n",
       "    </tr>\n",
       "  </thead>\n",
       "  <tbody>\n",
       "    <tr>\n",
       "      <th>121</th>\n",
       "      <td>1</td>\n",
       "      <td>A</td>\n",
       "      <td>1980</td>\n",
       "      <td>3</td>\n",
       "      <td>1.673031e-07</td>\n",
       "    </tr>\n",
       "    <tr>\n",
       "      <th>122</th>\n",
       "      <td>1</td>\n",
       "      <td>A</td>\n",
       "      <td>1998</td>\n",
       "      <td>3</td>\n",
       "      <td>1.673031e-07</td>\n",
       "    </tr>\n",
       "    <tr>\n",
       "      <th>131</th>\n",
       "      <td>1</td>\n",
       "      <td>AADEL</td>\n",
       "      <td>1976</td>\n",
       "      <td>5</td>\n",
       "      <td>2.788386e-07</td>\n",
       "    </tr>\n",
       "    <tr>\n",
       "      <th>132</th>\n",
       "      <td>1</td>\n",
       "      <td>AADEL</td>\n",
       "      <td>1978</td>\n",
       "      <td>3</td>\n",
       "      <td>1.673031e-07</td>\n",
       "    </tr>\n",
       "    <tr>\n",
       "      <th>133</th>\n",
       "      <td>1</td>\n",
       "      <td>AADEL</td>\n",
       "      <td>1980</td>\n",
       "      <td>3</td>\n",
       "      <td>1.673031e-07</td>\n",
       "    </tr>\n",
       "    <tr>\n",
       "      <th>...</th>\n",
       "      <td>...</td>\n",
       "      <td>...</td>\n",
       "      <td>...</td>\n",
       "      <td>...</td>\n",
       "      <td>...</td>\n",
       "    </tr>\n",
       "    <tr>\n",
       "      <th>304321</th>\n",
       "      <td>1</td>\n",
       "      <td>ZYED</td>\n",
       "      <td>1999</td>\n",
       "      <td>5</td>\n",
       "      <td>2.788386e-07</td>\n",
       "    </tr>\n",
       "    <tr>\n",
       "      <th>304322</th>\n",
       "      <td>1</td>\n",
       "      <td>ZYED</td>\n",
       "      <td>2000</td>\n",
       "      <td>5</td>\n",
       "      <td>2.788386e-07</td>\n",
       "    </tr>\n",
       "    <tr>\n",
       "      <th>304323</th>\n",
       "      <td>1</td>\n",
       "      <td>ZYED</td>\n",
       "      <td>2001</td>\n",
       "      <td>5</td>\n",
       "      <td>2.788386e-07</td>\n",
       "    </tr>\n",
       "    <tr>\n",
       "      <th>304324</th>\n",
       "      <td>1</td>\n",
       "      <td>ZYED</td>\n",
       "      <td>2002</td>\n",
       "      <td>3</td>\n",
       "      <td>1.673031e-07</td>\n",
       "    </tr>\n",
       "    <tr>\n",
       "      <th>304428</th>\n",
       "      <td>1</td>\n",
       "      <td>ZYON</td>\n",
       "      <td>2001</td>\n",
       "      <td>4</td>\n",
       "      <td>2.230708e-07</td>\n",
       "    </tr>\n",
       "  </tbody>\n",
       "</table>\n",
       "<p>127093 rows × 5 columns</p>\n",
       "</div>"
      ],
      "text/plain": [
       "        sexe preusuel annais  nombre        probas\n",
       "121        1        A   1980       3  1.673031e-07\n",
       "122        1        A   1998       3  1.673031e-07\n",
       "131        1    AADEL   1976       5  2.788386e-07\n",
       "132        1    AADEL   1978       3  1.673031e-07\n",
       "133        1    AADEL   1980       3  1.673031e-07\n",
       "...      ...      ...    ...     ...           ...\n",
       "304321     1     ZYED   1999       5  2.788386e-07\n",
       "304322     1     ZYED   2000       5  2.788386e-07\n",
       "304323     1     ZYED   2001       5  2.788386e-07\n",
       "304324     1     ZYED   2002       3  1.673031e-07\n",
       "304428     1     ZYON   2001       4  2.230708e-07\n",
       "\n",
       "[127093 rows x 5 columns]"
      ]
     },
     "execution_count": 91,
     "metadata": {},
     "output_type": "execute_result"
    }
   ],
   "source": [
    "m_prenoms_right_age"
   ]
  },
  {
   "cell_type": "code",
   "execution_count": 92,
   "id": "22cd6087-7e40-4e20-b729-03f6d0f929c9",
   "metadata": {},
   "outputs": [
    {
     "data": {
      "text/plain": [
       "('user_0', '02/07/2018')"
      ]
     },
     "execution_count": 92,
     "metadata": {},
     "output_type": "execute_result"
    }
   ],
   "source": [
    "list(final_final_dict.items())[:][0]"
   ]
  },
  {
   "cell_type": "code",
   "execution_count": 93,
   "id": "40abb4ea-6e53-412c-91b0-a69655326f14",
   "metadata": {},
   "outputs": [],
   "source": [
    "data = pd.DataFrame(final_final_dict.items(), columns=[\"Users\", \"Date\"])"
   ]
  },
  {
   "cell_type": "code",
   "execution_count": 94,
   "id": "1eda4a7d-a634-4377-9e32-e434765aa827",
   "metadata": {},
   "outputs": [
    {
     "data": {
      "text/html": [
       "<div>\n",
       "<style scoped>\n",
       "    .dataframe tbody tr th:only-of-type {\n",
       "        vertical-align: middle;\n",
       "    }\n",
       "\n",
       "    .dataframe tbody tr th {\n",
       "        vertical-align: top;\n",
       "    }\n",
       "\n",
       "    .dataframe thead th {\n",
       "        text-align: right;\n",
       "    }\n",
       "</style>\n",
       "<table border=\"1\" class=\"dataframe\">\n",
       "  <thead>\n",
       "    <tr style=\"text-align: right;\">\n",
       "      <th></th>\n",
       "      <th>Users</th>\n",
       "      <th>Date</th>\n",
       "    </tr>\n",
       "  </thead>\n",
       "  <tbody>\n",
       "    <tr>\n",
       "      <th>0</th>\n",
       "      <td>user_0</td>\n",
       "      <td>02/07/2018</td>\n",
       "    </tr>\n",
       "    <tr>\n",
       "      <th>1</th>\n",
       "      <td>user_1</td>\n",
       "      <td>03/07/2018</td>\n",
       "    </tr>\n",
       "    <tr>\n",
       "      <th>2</th>\n",
       "      <td>user_2</td>\n",
       "      <td>03/07/2018</td>\n",
       "    </tr>\n",
       "    <tr>\n",
       "      <th>3</th>\n",
       "      <td>user_3</td>\n",
       "      <td>03/07/2018</td>\n",
       "    </tr>\n",
       "    <tr>\n",
       "      <th>4</th>\n",
       "      <td>user_4</td>\n",
       "      <td>04/07/2018</td>\n",
       "    </tr>\n",
       "    <tr>\n",
       "      <th>...</th>\n",
       "      <td>...</td>\n",
       "      <td>...</td>\n",
       "    </tr>\n",
       "    <tr>\n",
       "      <th>1701</th>\n",
       "      <td>user_1701</td>\n",
       "      <td>22/06/2021</td>\n",
       "    </tr>\n",
       "    <tr>\n",
       "      <th>1702</th>\n",
       "      <td>user_1702</td>\n",
       "      <td>25/06/2021</td>\n",
       "    </tr>\n",
       "    <tr>\n",
       "      <th>1703</th>\n",
       "      <td>user_1703</td>\n",
       "      <td>29/06/2021</td>\n",
       "    </tr>\n",
       "    <tr>\n",
       "      <th>1704</th>\n",
       "      <td>user_1704</td>\n",
       "      <td>29/06/2021</td>\n",
       "    </tr>\n",
       "    <tr>\n",
       "      <th>1705</th>\n",
       "      <td>user_1705</td>\n",
       "      <td>29/06/2021</td>\n",
       "    </tr>\n",
       "  </tbody>\n",
       "</table>\n",
       "<p>1706 rows × 2 columns</p>\n",
       "</div>"
      ],
      "text/plain": [
       "          Users        Date\n",
       "0        user_0  02/07/2018\n",
       "1        user_1  03/07/2018\n",
       "2        user_2  03/07/2018\n",
       "3        user_3  03/07/2018\n",
       "4        user_4  04/07/2018\n",
       "...         ...         ...\n",
       "1701  user_1701  22/06/2021\n",
       "1702  user_1702  25/06/2021\n",
       "1703  user_1703  29/06/2021\n",
       "1704  user_1704  29/06/2021\n",
       "1705  user_1705  29/06/2021\n",
       "\n",
       "[1706 rows x 2 columns]"
      ]
     },
     "execution_count": 94,
     "metadata": {},
     "output_type": "execute_result"
    }
   ],
   "source": [
    "data"
   ]
  },
  {
   "cell_type": "code",
   "execution_count": 95,
   "id": "dd6e321a-13fd-4214-aff2-c19017f5408f",
   "metadata": {},
   "outputs": [],
   "source": [
    "def give_first_name(dictionary, m_names, f_names, m_proba, f_proba):\n",
    "    \"\"\"\n",
    "    \"\"\"\n",
    "    m_f = [1, 2]\n",
    "    m_f_probs = [0.6, 0.4]\n",
    "    \n",
    "    first_name = []\n",
    "    for i in dictionary:\n",
    "        user_m_f = np.random.choice(m_f, p = m_f_probs)\n",
    "        if user_m_f == 1:\n",
    "            first_name.append(np.random.choice(m_names[\"preusuel\"], p=m_proba))\n",
    "        else:\n",
    "            first_name.append(np.random.choice(f_names[\"preusuel\"], p=f_proba))\n",
    "    return first_name"
   ]
  },
  {
   "cell_type": "code",
   "execution_count": 96,
   "id": "347795f7-812d-4d91-a9f5-c6f646d48e0f",
   "metadata": {},
   "outputs": [],
   "source": [
    "awa = give_first_name(final_final_dict, \n",
    "                      m_prenoms_right_age, \n",
    "                      f_prenoms_right_age,\n",
    "                      probas_m,\n",
    "                      probas_f\n",
    "                     )\n"
   ]
  },
  {
   "cell_type": "code",
   "execution_count": 97,
   "id": "4e637f61-459a-4232-bd77-6e846e4c4ecc",
   "metadata": {},
   "outputs": [
    {
     "data": {
      "text/plain": [
       "1706"
      ]
     },
     "execution_count": 97,
     "metadata": {},
     "output_type": "execute_result"
    }
   ],
   "source": [
    "len(awa)"
   ]
  },
  {
   "cell_type": "code",
   "execution_count": 98,
   "id": "c3521c0b-12da-47f9-bdf6-d53f0bfa2f15",
   "metadata": {},
   "outputs": [
    {
     "data": {
      "text/plain": [
       "['JEAN-LUC',\n",
       " 'JEAN-CLAUDE',\n",
       " 'STÉPHAN',\n",
       " 'JEROME',\n",
       " 'LAETITIA',\n",
       " 'GUILLAUME',\n",
       " 'ERIC',\n",
       " 'OLIVIER',\n",
       " 'AXEL',\n",
       " 'FABIEN',\n",
       " 'PIERRE',\n",
       " 'GIOVANNY',\n",
       " 'KILIAN',\n",
       " 'ERIC',\n",
       " 'JOËL',\n",
       " 'LAURENT',\n",
       " 'CAROLINE',\n",
       " 'STÉPHANE',\n",
       " 'MATHIEU',\n",
       " 'EDOUARD',\n",
       " 'MAGALI',\n",
       " 'FRANÇOIS',\n",
       " 'SAMUEL',\n",
       " 'JEAN-MARC',\n",
       " 'LISE',\n",
       " 'MICKAEL',\n",
       " 'INÈS',\n",
       " 'ERIC',\n",
       " 'LUCILLE',\n",
       " 'MARIE',\n",
       " 'EDOUARD',\n",
       " 'MATHYS',\n",
       " 'LUCIE',\n",
       " 'THOMAS',\n",
       " 'ANAÏS',\n",
       " 'DIEGO',\n",
       " 'LAURE',\n",
       " 'JEAN-PHILIPPE',\n",
       " 'MARIELLE',\n",
       " 'THIERRY']"
      ]
     },
     "execution_count": 98,
     "metadata": {},
     "output_type": "execute_result"
    }
   ],
   "source": [
    "awa[140:180]"
   ]
  },
  {
   "cell_type": "code",
   "execution_count": 99,
   "id": "f7cc5b5c-8d4a-4f97-9d75-a1342e20d99b",
   "metadata": {},
   "outputs": [],
   "source": [
    "noms = pd.read_csv(\"../data/noms2008nat_txt.txt\", sep='\\t')"
   ]
  },
  {
   "cell_type": "code",
   "execution_count": 100,
   "id": "a5a256f7-ba01-4150-bb9b-81e476f53633",
   "metadata": {},
   "outputs": [
    {
     "data": {
      "text/html": [
       "<div>\n",
       "<style scoped>\n",
       "    .dataframe tbody tr th:only-of-type {\n",
       "        vertical-align: middle;\n",
       "    }\n",
       "\n",
       "    .dataframe tbody tr th {\n",
       "        vertical-align: top;\n",
       "    }\n",
       "\n",
       "    .dataframe thead th {\n",
       "        text-align: right;\n",
       "    }\n",
       "</style>\n",
       "<table border=\"1\" class=\"dataframe\">\n",
       "  <thead>\n",
       "    <tr style=\"text-align: right;\">\n",
       "      <th></th>\n",
       "      <th>NOM</th>\n",
       "      <th>_1891_1900</th>\n",
       "      <th>_1901_1910</th>\n",
       "      <th>_1911_1920</th>\n",
       "      <th>_1921_1930</th>\n",
       "      <th>_1931_1940</th>\n",
       "      <th>_1941_1950</th>\n",
       "      <th>_1951_1960</th>\n",
       "      <th>_1961_1970</th>\n",
       "      <th>_1971_1980</th>\n",
       "      <th>_1981_1990</th>\n",
       "      <th>_1991_2000</th>\n",
       "    </tr>\n",
       "  </thead>\n",
       "  <tbody>\n",
       "    <tr>\n",
       "      <th>0</th>\n",
       "      <td>AABI</td>\n",
       "      <td>0</td>\n",
       "      <td>0</td>\n",
       "      <td>0</td>\n",
       "      <td>0</td>\n",
       "      <td>0</td>\n",
       "      <td>0</td>\n",
       "      <td>0</td>\n",
       "      <td>0</td>\n",
       "      <td>4</td>\n",
       "      <td>21</td>\n",
       "      <td>7</td>\n",
       "    </tr>\n",
       "    <tr>\n",
       "      <th>1</th>\n",
       "      <td>AABID</td>\n",
       "      <td>0</td>\n",
       "      <td>0</td>\n",
       "      <td>0</td>\n",
       "      <td>0</td>\n",
       "      <td>0</td>\n",
       "      <td>0</td>\n",
       "      <td>0</td>\n",
       "      <td>0</td>\n",
       "      <td>7</td>\n",
       "      <td>13</td>\n",
       "      <td>17</td>\n",
       "    </tr>\n",
       "    <tr>\n",
       "      <th>2</th>\n",
       "      <td>AALBERG</td>\n",
       "      <td>1</td>\n",
       "      <td>5</td>\n",
       "      <td>2</td>\n",
       "      <td>5</td>\n",
       "      <td>4</td>\n",
       "      <td>6</td>\n",
       "      <td>4</td>\n",
       "      <td>2</td>\n",
       "      <td>1</td>\n",
       "      <td>0</td>\n",
       "      <td>0</td>\n",
       "    </tr>\n",
       "    <tr>\n",
       "      <th>3</th>\n",
       "      <td>AAMARA</td>\n",
       "      <td>0</td>\n",
       "      <td>0</td>\n",
       "      <td>0</td>\n",
       "      <td>0</td>\n",
       "      <td>0</td>\n",
       "      <td>0</td>\n",
       "      <td>0</td>\n",
       "      <td>1</td>\n",
       "      <td>11</td>\n",
       "      <td>5</td>\n",
       "      <td>15</td>\n",
       "    </tr>\n",
       "    <tr>\n",
       "      <th>4</th>\n",
       "      <td>AARAB</td>\n",
       "      <td>0</td>\n",
       "      <td>0</td>\n",
       "      <td>0</td>\n",
       "      <td>0</td>\n",
       "      <td>0</td>\n",
       "      <td>0</td>\n",
       "      <td>0</td>\n",
       "      <td>3</td>\n",
       "      <td>63</td>\n",
       "      <td>204</td>\n",
       "      <td>139</td>\n",
       "    </tr>\n",
       "    <tr>\n",
       "      <th>...</th>\n",
       "      <td>...</td>\n",
       "      <td>...</td>\n",
       "      <td>...</td>\n",
       "      <td>...</td>\n",
       "      <td>...</td>\n",
       "      <td>...</td>\n",
       "      <td>...</td>\n",
       "      <td>...</td>\n",
       "      <td>...</td>\n",
       "      <td>...</td>\n",
       "      <td>...</td>\n",
       "      <td>...</td>\n",
       "    </tr>\n",
       "    <tr>\n",
       "      <th>218978</th>\n",
       "      <td>ZYSK</td>\n",
       "      <td>0</td>\n",
       "      <td>0</td>\n",
       "      <td>0</td>\n",
       "      <td>4</td>\n",
       "      <td>4</td>\n",
       "      <td>3</td>\n",
       "      <td>12</td>\n",
       "      <td>4</td>\n",
       "      <td>7</td>\n",
       "      <td>10</td>\n",
       "      <td>11</td>\n",
       "    </tr>\n",
       "    <tr>\n",
       "      <th>218979</th>\n",
       "      <td>ZYSMAN</td>\n",
       "      <td>0</td>\n",
       "      <td>0</td>\n",
       "      <td>0</td>\n",
       "      <td>8</td>\n",
       "      <td>19</td>\n",
       "      <td>3</td>\n",
       "      <td>14</td>\n",
       "      <td>17</td>\n",
       "      <td>7</td>\n",
       "      <td>10</td>\n",
       "      <td>8</td>\n",
       "    </tr>\n",
       "    <tr>\n",
       "      <th>218980</th>\n",
       "      <td>ZYTA</td>\n",
       "      <td>0</td>\n",
       "      <td>0</td>\n",
       "      <td>0</td>\n",
       "      <td>1</td>\n",
       "      <td>1</td>\n",
       "      <td>4</td>\n",
       "      <td>12</td>\n",
       "      <td>7</td>\n",
       "      <td>8</td>\n",
       "      <td>11</td>\n",
       "      <td>1</td>\n",
       "    </tr>\n",
       "    <tr>\n",
       "      <th>218981</th>\n",
       "      <td>ZYTO</td>\n",
       "      <td>0</td>\n",
       "      <td>0</td>\n",
       "      <td>1</td>\n",
       "      <td>9</td>\n",
       "      <td>3</td>\n",
       "      <td>8</td>\n",
       "      <td>9</td>\n",
       "      <td>8</td>\n",
       "      <td>8</td>\n",
       "      <td>8</td>\n",
       "      <td>3</td>\n",
       "    </tr>\n",
       "    <tr>\n",
       "      <th>218982</th>\n",
       "      <td>AUTRES NOMS</td>\n",
       "      <td>227267</td>\n",
       "      <td>319995</td>\n",
       "      <td>284557</td>\n",
       "      <td>409790</td>\n",
       "      <td>382905</td>\n",
       "      <td>441726</td>\n",
       "      <td>522040</td>\n",
       "      <td>604057</td>\n",
       "      <td>666868</td>\n",
       "      <td>757419</td>\n",
       "      <td>857392</td>\n",
       "    </tr>\n",
       "  </tbody>\n",
       "</table>\n",
       "<p>218983 rows × 12 columns</p>\n",
       "</div>"
      ],
      "text/plain": [
       "                NOM  _1891_1900  _1901_1910  _1911_1920  _1921_1930  \\\n",
       "0              AABI           0           0           0           0   \n",
       "1             AABID           0           0           0           0   \n",
       "2           AALBERG           1           5           2           5   \n",
       "3            AAMARA           0           0           0           0   \n",
       "4             AARAB           0           0           0           0   \n",
       "...             ...         ...         ...         ...         ...   \n",
       "218978         ZYSK           0           0           0           4   \n",
       "218979       ZYSMAN           0           0           0           8   \n",
       "218980         ZYTA           0           0           0           1   \n",
       "218981         ZYTO           0           0           1           9   \n",
       "218982  AUTRES NOMS      227267      319995      284557      409790   \n",
       "\n",
       "        _1931_1940  _1941_1950  _1951_1960  _1961_1970  _1971_1980  \\\n",
       "0                0           0           0           0           4   \n",
       "1                0           0           0           0           7   \n",
       "2                4           6           4           2           1   \n",
       "3                0           0           0           1          11   \n",
       "4                0           0           0           3          63   \n",
       "...            ...         ...         ...         ...         ...   \n",
       "218978           4           3          12           4           7   \n",
       "218979          19           3          14          17           7   \n",
       "218980           1           4          12           7           8   \n",
       "218981           3           8           9           8           8   \n",
       "218982      382905      441726      522040      604057      666868   \n",
       "\n",
       "        _1981_1990  _1991_2000  \n",
       "0               21           7  \n",
       "1               13          17  \n",
       "2                0           0  \n",
       "3                5          15  \n",
       "4              204         139  \n",
       "...            ...         ...  \n",
       "218978          10          11  \n",
       "218979          10           8  \n",
       "218980          11           1  \n",
       "218981           8           3  \n",
       "218982      757419      857392  \n",
       "\n",
       "[218983 rows x 12 columns]"
      ]
     },
     "execution_count": 100,
     "metadata": {},
     "output_type": "execute_result"
    }
   ],
   "source": [
    "noms"
   ]
  },
  {
   "cell_type": "code",
   "execution_count": 101,
   "id": "72c3f41f-1263-4b01-82a4-abd3b6f3876c",
   "metadata": {},
   "outputs": [],
   "source": [
    "noms = noms.drop(['_1891_1900',\n",
    "           '_1901_1910',\n",
    "           '_1911_1920',\n",
    "           '_1921_1930',\n",
    "           '_1931_1940',\n",
    "           '_1941_1950',\n",
    "           '_1951_1960']\n",
    "          , axis=1)"
   ]
  },
  {
   "cell_type": "code",
   "execution_count": 102,
   "id": "d63be315-68a6-46b7-93b2-2051c40fbbee",
   "metadata": {},
   "outputs": [
    {
     "data": {
      "text/html": [
       "<div>\n",
       "<style scoped>\n",
       "    .dataframe tbody tr th:only-of-type {\n",
       "        vertical-align: middle;\n",
       "    }\n",
       "\n",
       "    .dataframe tbody tr th {\n",
       "        vertical-align: top;\n",
       "    }\n",
       "\n",
       "    .dataframe thead th {\n",
       "        text-align: right;\n",
       "    }\n",
       "</style>\n",
       "<table border=\"1\" class=\"dataframe\">\n",
       "  <thead>\n",
       "    <tr style=\"text-align: right;\">\n",
       "      <th></th>\n",
       "      <th>NOM</th>\n",
       "      <th>_1961_1970</th>\n",
       "      <th>_1971_1980</th>\n",
       "      <th>_1981_1990</th>\n",
       "      <th>_1991_2000</th>\n",
       "    </tr>\n",
       "  </thead>\n",
       "  <tbody>\n",
       "    <tr>\n",
       "      <th>0</th>\n",
       "      <td>AABI</td>\n",
       "      <td>0</td>\n",
       "      <td>4</td>\n",
       "      <td>21</td>\n",
       "      <td>7</td>\n",
       "    </tr>\n",
       "    <tr>\n",
       "      <th>1</th>\n",
       "      <td>AABID</td>\n",
       "      <td>0</td>\n",
       "      <td>7</td>\n",
       "      <td>13</td>\n",
       "      <td>17</td>\n",
       "    </tr>\n",
       "    <tr>\n",
       "      <th>2</th>\n",
       "      <td>AALBERG</td>\n",
       "      <td>2</td>\n",
       "      <td>1</td>\n",
       "      <td>0</td>\n",
       "      <td>0</td>\n",
       "    </tr>\n",
       "    <tr>\n",
       "      <th>3</th>\n",
       "      <td>AAMARA</td>\n",
       "      <td>1</td>\n",
       "      <td>11</td>\n",
       "      <td>5</td>\n",
       "      <td>15</td>\n",
       "    </tr>\n",
       "    <tr>\n",
       "      <th>4</th>\n",
       "      <td>AARAB</td>\n",
       "      <td>3</td>\n",
       "      <td>63</td>\n",
       "      <td>204</td>\n",
       "      <td>139</td>\n",
       "    </tr>\n",
       "    <tr>\n",
       "      <th>...</th>\n",
       "      <td>...</td>\n",
       "      <td>...</td>\n",
       "      <td>...</td>\n",
       "      <td>...</td>\n",
       "      <td>...</td>\n",
       "    </tr>\n",
       "    <tr>\n",
       "      <th>218978</th>\n",
       "      <td>ZYSK</td>\n",
       "      <td>4</td>\n",
       "      <td>7</td>\n",
       "      <td>10</td>\n",
       "      <td>11</td>\n",
       "    </tr>\n",
       "    <tr>\n",
       "      <th>218979</th>\n",
       "      <td>ZYSMAN</td>\n",
       "      <td>17</td>\n",
       "      <td>7</td>\n",
       "      <td>10</td>\n",
       "      <td>8</td>\n",
       "    </tr>\n",
       "    <tr>\n",
       "      <th>218980</th>\n",
       "      <td>ZYTA</td>\n",
       "      <td>7</td>\n",
       "      <td>8</td>\n",
       "      <td>11</td>\n",
       "      <td>1</td>\n",
       "    </tr>\n",
       "    <tr>\n",
       "      <th>218981</th>\n",
       "      <td>ZYTO</td>\n",
       "      <td>8</td>\n",
       "      <td>8</td>\n",
       "      <td>8</td>\n",
       "      <td>3</td>\n",
       "    </tr>\n",
       "    <tr>\n",
       "      <th>218982</th>\n",
       "      <td>AUTRES NOMS</td>\n",
       "      <td>604057</td>\n",
       "      <td>666868</td>\n",
       "      <td>757419</td>\n",
       "      <td>857392</td>\n",
       "    </tr>\n",
       "  </tbody>\n",
       "</table>\n",
       "<p>218983 rows × 5 columns</p>\n",
       "</div>"
      ],
      "text/plain": [
       "                NOM  _1961_1970  _1971_1980  _1981_1990  _1991_2000\n",
       "0              AABI           0           4          21           7\n",
       "1             AABID           0           7          13          17\n",
       "2           AALBERG           2           1           0           0\n",
       "3            AAMARA           1          11           5          15\n",
       "4             AARAB           3          63         204         139\n",
       "...             ...         ...         ...         ...         ...\n",
       "218978         ZYSK           4           7          10          11\n",
       "218979       ZYSMAN          17           7          10           8\n",
       "218980         ZYTA           7           8          11           1\n",
       "218981         ZYTO           8           8           8           3\n",
       "218982  AUTRES NOMS      604057      666868      757419      857392\n",
       "\n",
       "[218983 rows x 5 columns]"
      ]
     },
     "execution_count": 102,
     "metadata": {},
     "output_type": "execute_result"
    }
   ],
   "source": [
    "noms"
   ]
  },
  {
   "cell_type": "code",
   "execution_count": 103,
   "id": "2d22ba25-3bcc-4868-bf8f-28d335c51bc5",
   "metadata": {},
   "outputs": [],
   "source": [
    "noms = noms.drop(218982) # AUTRES NOMS"
   ]
  },
  {
   "cell_type": "code",
   "execution_count": 104,
   "id": "8108a240-4c79-458a-972f-fa20505767ea",
   "metadata": {},
   "outputs": [
    {
     "data": {
      "text/html": [
       "<div>\n",
       "<style scoped>\n",
       "    .dataframe tbody tr th:only-of-type {\n",
       "        vertical-align: middle;\n",
       "    }\n",
       "\n",
       "    .dataframe tbody tr th {\n",
       "        vertical-align: top;\n",
       "    }\n",
       "\n",
       "    .dataframe thead th {\n",
       "        text-align: right;\n",
       "    }\n",
       "</style>\n",
       "<table border=\"1\" class=\"dataframe\">\n",
       "  <thead>\n",
       "    <tr style=\"text-align: right;\">\n",
       "      <th></th>\n",
       "      <th>NOM</th>\n",
       "      <th>_1961_1970</th>\n",
       "      <th>_1971_1980</th>\n",
       "      <th>_1981_1990</th>\n",
       "      <th>_1991_2000</th>\n",
       "    </tr>\n",
       "  </thead>\n",
       "  <tbody>\n",
       "    <tr>\n",
       "      <th>0</th>\n",
       "      <td>AABI</td>\n",
       "      <td>0</td>\n",
       "      <td>4</td>\n",
       "      <td>21</td>\n",
       "      <td>7</td>\n",
       "    </tr>\n",
       "    <tr>\n",
       "      <th>1</th>\n",
       "      <td>AABID</td>\n",
       "      <td>0</td>\n",
       "      <td>7</td>\n",
       "      <td>13</td>\n",
       "      <td>17</td>\n",
       "    </tr>\n",
       "    <tr>\n",
       "      <th>2</th>\n",
       "      <td>AALBERG</td>\n",
       "      <td>2</td>\n",
       "      <td>1</td>\n",
       "      <td>0</td>\n",
       "      <td>0</td>\n",
       "    </tr>\n",
       "    <tr>\n",
       "      <th>3</th>\n",
       "      <td>AAMARA</td>\n",
       "      <td>1</td>\n",
       "      <td>11</td>\n",
       "      <td>5</td>\n",
       "      <td>15</td>\n",
       "    </tr>\n",
       "    <tr>\n",
       "      <th>4</th>\n",
       "      <td>AARAB</td>\n",
       "      <td>3</td>\n",
       "      <td>63</td>\n",
       "      <td>204</td>\n",
       "      <td>139</td>\n",
       "    </tr>\n",
       "    <tr>\n",
       "      <th>...</th>\n",
       "      <td>...</td>\n",
       "      <td>...</td>\n",
       "      <td>...</td>\n",
       "      <td>...</td>\n",
       "      <td>...</td>\n",
       "    </tr>\n",
       "    <tr>\n",
       "      <th>218977</th>\n",
       "      <td>ZYLKA</td>\n",
       "      <td>3</td>\n",
       "      <td>6</td>\n",
       "      <td>3</td>\n",
       "      <td>4</td>\n",
       "    </tr>\n",
       "    <tr>\n",
       "      <th>218978</th>\n",
       "      <td>ZYSK</td>\n",
       "      <td>4</td>\n",
       "      <td>7</td>\n",
       "      <td>10</td>\n",
       "      <td>11</td>\n",
       "    </tr>\n",
       "    <tr>\n",
       "      <th>218979</th>\n",
       "      <td>ZYSMAN</td>\n",
       "      <td>17</td>\n",
       "      <td>7</td>\n",
       "      <td>10</td>\n",
       "      <td>8</td>\n",
       "    </tr>\n",
       "    <tr>\n",
       "      <th>218980</th>\n",
       "      <td>ZYTA</td>\n",
       "      <td>7</td>\n",
       "      <td>8</td>\n",
       "      <td>11</td>\n",
       "      <td>1</td>\n",
       "    </tr>\n",
       "    <tr>\n",
       "      <th>218981</th>\n",
       "      <td>ZYTO</td>\n",
       "      <td>8</td>\n",
       "      <td>8</td>\n",
       "      <td>8</td>\n",
       "      <td>3</td>\n",
       "    </tr>\n",
       "  </tbody>\n",
       "</table>\n",
       "<p>218982 rows × 5 columns</p>\n",
       "</div>"
      ],
      "text/plain": [
       "            NOM  _1961_1970  _1971_1980  _1981_1990  _1991_2000\n",
       "0          AABI           0           4          21           7\n",
       "1         AABID           0           7          13          17\n",
       "2       AALBERG           2           1           0           0\n",
       "3        AAMARA           1          11           5          15\n",
       "4         AARAB           3          63         204         139\n",
       "...         ...         ...         ...         ...         ...\n",
       "218977    ZYLKA           3           6           3           4\n",
       "218978     ZYSK           4           7          10          11\n",
       "218979   ZYSMAN          17           7          10           8\n",
       "218980     ZYTA           7           8          11           1\n",
       "218981     ZYTO           8           8           8           3\n",
       "\n",
       "[218982 rows x 5 columns]"
      ]
     },
     "execution_count": 104,
     "metadata": {},
     "output_type": "execute_result"
    }
   ],
   "source": [
    "noms"
   ]
  },
  {
   "cell_type": "code",
   "execution_count": 105,
   "id": "dcecf27e-09fc-4e3d-a4d7-a51b8cb5681f",
   "metadata": {},
   "outputs": [],
   "source": [
    "noms['Noms Total']= noms.iloc[:, 1:].sum(axis=1)"
   ]
  },
  {
   "cell_type": "code",
   "execution_count": 106,
   "id": "1d64c05b-7fa2-4008-bdd8-8630e356aa4b",
   "metadata": {},
   "outputs": [
    {
     "data": {
      "text/html": [
       "<div>\n",
       "<style scoped>\n",
       "    .dataframe tbody tr th:only-of-type {\n",
       "        vertical-align: middle;\n",
       "    }\n",
       "\n",
       "    .dataframe tbody tr th {\n",
       "        vertical-align: top;\n",
       "    }\n",
       "\n",
       "    .dataframe thead th {\n",
       "        text-align: right;\n",
       "    }\n",
       "</style>\n",
       "<table border=\"1\" class=\"dataframe\">\n",
       "  <thead>\n",
       "    <tr style=\"text-align: right;\">\n",
       "      <th></th>\n",
       "      <th>NOM</th>\n",
       "      <th>_1961_1970</th>\n",
       "      <th>_1971_1980</th>\n",
       "      <th>_1981_1990</th>\n",
       "      <th>_1991_2000</th>\n",
       "      <th>Noms Total</th>\n",
       "    </tr>\n",
       "  </thead>\n",
       "  <tbody>\n",
       "    <tr>\n",
       "      <th>0</th>\n",
       "      <td>AABI</td>\n",
       "      <td>0</td>\n",
       "      <td>4</td>\n",
       "      <td>21</td>\n",
       "      <td>7</td>\n",
       "      <td>32</td>\n",
       "    </tr>\n",
       "    <tr>\n",
       "      <th>1</th>\n",
       "      <td>AABID</td>\n",
       "      <td>0</td>\n",
       "      <td>7</td>\n",
       "      <td>13</td>\n",
       "      <td>17</td>\n",
       "      <td>37</td>\n",
       "    </tr>\n",
       "    <tr>\n",
       "      <th>2</th>\n",
       "      <td>AALBERG</td>\n",
       "      <td>2</td>\n",
       "      <td>1</td>\n",
       "      <td>0</td>\n",
       "      <td>0</td>\n",
       "      <td>3</td>\n",
       "    </tr>\n",
       "    <tr>\n",
       "      <th>3</th>\n",
       "      <td>AAMARA</td>\n",
       "      <td>1</td>\n",
       "      <td>11</td>\n",
       "      <td>5</td>\n",
       "      <td>15</td>\n",
       "      <td>32</td>\n",
       "    </tr>\n",
       "    <tr>\n",
       "      <th>4</th>\n",
       "      <td>AARAB</td>\n",
       "      <td>3</td>\n",
       "      <td>63</td>\n",
       "      <td>204</td>\n",
       "      <td>139</td>\n",
       "      <td>409</td>\n",
       "    </tr>\n",
       "    <tr>\n",
       "      <th>...</th>\n",
       "      <td>...</td>\n",
       "      <td>...</td>\n",
       "      <td>...</td>\n",
       "      <td>...</td>\n",
       "      <td>...</td>\n",
       "      <td>...</td>\n",
       "    </tr>\n",
       "    <tr>\n",
       "      <th>218977</th>\n",
       "      <td>ZYLKA</td>\n",
       "      <td>3</td>\n",
       "      <td>6</td>\n",
       "      <td>3</td>\n",
       "      <td>4</td>\n",
       "      <td>16</td>\n",
       "    </tr>\n",
       "    <tr>\n",
       "      <th>218978</th>\n",
       "      <td>ZYSK</td>\n",
       "      <td>4</td>\n",
       "      <td>7</td>\n",
       "      <td>10</td>\n",
       "      <td>11</td>\n",
       "      <td>32</td>\n",
       "    </tr>\n",
       "    <tr>\n",
       "      <th>218979</th>\n",
       "      <td>ZYSMAN</td>\n",
       "      <td>17</td>\n",
       "      <td>7</td>\n",
       "      <td>10</td>\n",
       "      <td>8</td>\n",
       "      <td>42</td>\n",
       "    </tr>\n",
       "    <tr>\n",
       "      <th>218980</th>\n",
       "      <td>ZYTA</td>\n",
       "      <td>7</td>\n",
       "      <td>8</td>\n",
       "      <td>11</td>\n",
       "      <td>1</td>\n",
       "      <td>27</td>\n",
       "    </tr>\n",
       "    <tr>\n",
       "      <th>218981</th>\n",
       "      <td>ZYTO</td>\n",
       "      <td>8</td>\n",
       "      <td>8</td>\n",
       "      <td>8</td>\n",
       "      <td>3</td>\n",
       "      <td>27</td>\n",
       "    </tr>\n",
       "  </tbody>\n",
       "</table>\n",
       "<p>218982 rows × 6 columns</p>\n",
       "</div>"
      ],
      "text/plain": [
       "            NOM  _1961_1970  _1971_1980  _1981_1990  _1991_2000  Noms Total\n",
       "0          AABI           0           4          21           7          32\n",
       "1         AABID           0           7          13          17          37\n",
       "2       AALBERG           2           1           0           0           3\n",
       "3        AAMARA           1          11           5          15          32\n",
       "4         AARAB           3          63         204         139         409\n",
       "...         ...         ...         ...         ...         ...         ...\n",
       "218977    ZYLKA           3           6           3           4          16\n",
       "218978     ZYSK           4           7          10          11          32\n",
       "218979   ZYSMAN          17           7          10           8          42\n",
       "218980     ZYTA           7           8          11           1          27\n",
       "218981     ZYTO           8           8           8           3          27\n",
       "\n",
       "[218982 rows x 6 columns]"
      ]
     },
     "execution_count": 106,
     "metadata": {},
     "output_type": "execute_result"
    }
   ],
   "source": [
    "noms"
   ]
  },
  {
   "cell_type": "code",
   "execution_count": 107,
   "id": "de585069-f8d4-44d4-92ad-57d8a486b926",
   "metadata": {},
   "outputs": [],
   "source": [
    "noms = noms[[\"NOM\", \"Noms Total\"]]"
   ]
  },
  {
   "cell_type": "code",
   "execution_count": 108,
   "id": "534a0ca9-52fc-4677-a713-a484a428eb30",
   "metadata": {},
   "outputs": [
    {
     "data": {
      "text/html": [
       "<div>\n",
       "<style scoped>\n",
       "    .dataframe tbody tr th:only-of-type {\n",
       "        vertical-align: middle;\n",
       "    }\n",
       "\n",
       "    .dataframe tbody tr th {\n",
       "        vertical-align: top;\n",
       "    }\n",
       "\n",
       "    .dataframe thead th {\n",
       "        text-align: right;\n",
       "    }\n",
       "</style>\n",
       "<table border=\"1\" class=\"dataframe\">\n",
       "  <thead>\n",
       "    <tr style=\"text-align: right;\">\n",
       "      <th></th>\n",
       "      <th>NOM</th>\n",
       "      <th>Noms Total</th>\n",
       "    </tr>\n",
       "  </thead>\n",
       "  <tbody>\n",
       "    <tr>\n",
       "      <th>0</th>\n",
       "      <td>AABI</td>\n",
       "      <td>32</td>\n",
       "    </tr>\n",
       "    <tr>\n",
       "      <th>1</th>\n",
       "      <td>AABID</td>\n",
       "      <td>37</td>\n",
       "    </tr>\n",
       "    <tr>\n",
       "      <th>2</th>\n",
       "      <td>AALBERG</td>\n",
       "      <td>3</td>\n",
       "    </tr>\n",
       "    <tr>\n",
       "      <th>3</th>\n",
       "      <td>AAMARA</td>\n",
       "      <td>32</td>\n",
       "    </tr>\n",
       "    <tr>\n",
       "      <th>4</th>\n",
       "      <td>AARAB</td>\n",
       "      <td>409</td>\n",
       "    </tr>\n",
       "    <tr>\n",
       "      <th>...</th>\n",
       "      <td>...</td>\n",
       "      <td>...</td>\n",
       "    </tr>\n",
       "    <tr>\n",
       "      <th>218977</th>\n",
       "      <td>ZYLKA</td>\n",
       "      <td>16</td>\n",
       "    </tr>\n",
       "    <tr>\n",
       "      <th>218978</th>\n",
       "      <td>ZYSK</td>\n",
       "      <td>32</td>\n",
       "    </tr>\n",
       "    <tr>\n",
       "      <th>218979</th>\n",
       "      <td>ZYSMAN</td>\n",
       "      <td>42</td>\n",
       "    </tr>\n",
       "    <tr>\n",
       "      <th>218980</th>\n",
       "      <td>ZYTA</td>\n",
       "      <td>27</td>\n",
       "    </tr>\n",
       "    <tr>\n",
       "      <th>218981</th>\n",
       "      <td>ZYTO</td>\n",
       "      <td>27</td>\n",
       "    </tr>\n",
       "  </tbody>\n",
       "</table>\n",
       "<p>218982 rows × 2 columns</p>\n",
       "</div>"
      ],
      "text/plain": [
       "            NOM  Noms Total\n",
       "0          AABI          32\n",
       "1         AABID          37\n",
       "2       AALBERG           3\n",
       "3        AAMARA          32\n",
       "4         AARAB         409\n",
       "...         ...         ...\n",
       "218977    ZYLKA          16\n",
       "218978     ZYSK          32\n",
       "218979   ZYSMAN          42\n",
       "218980     ZYTA          27\n",
       "218981     ZYTO          27\n",
       "\n",
       "[218982 rows x 2 columns]"
      ]
     },
     "execution_count": 108,
     "metadata": {},
     "output_type": "execute_result"
    }
   ],
   "source": [
    "noms"
   ]
  },
  {
   "cell_type": "code",
   "execution_count": 109,
   "id": "0d244061-7776-4323-a806-7437b9829e51",
   "metadata": {},
   "outputs": [
    {
     "data": {
      "text/plain": [
       "29906206"
      ]
     },
     "execution_count": 109,
     "metadata": {},
     "output_type": "execute_result"
    }
   ],
   "source": [
    "sum(noms[\"Noms Total\"])"
   ]
  },
  {
   "cell_type": "code",
   "execution_count": 110,
   "id": "f1544cbc-7ddc-4c4c-a65d-c81a77fc56b2",
   "metadata": {},
   "outputs": [
    {
     "data": {
      "text/plain": [
       "range(0, 218982)"
      ]
     },
     "execution_count": 110,
     "metadata": {},
     "output_type": "execute_result"
    }
   ],
   "source": [
    "range(len(noms))"
   ]
  },
  {
   "cell_type": "code",
   "execution_count": 111,
   "id": "843aa770-f39b-42e5-aa37-adbb1c0518c8",
   "metadata": {},
   "outputs": [],
   "source": [
    "probas_noms = []\n",
    "for i in range(len(noms)):\n",
    "    probas_noms.append(noms.iat[i,1] / 29906206)"
   ]
  },
  {
   "cell_type": "code",
   "execution_count": 112,
   "id": "a9d81dc0-135b-42ad-b248-08365444b314",
   "metadata": {},
   "outputs": [
    {
     "data": {
      "text/plain": [
       "[1.0700120235913576e-06,\n",
       " 1.2372014022775073e-06,\n",
       " 1.0031362721168978e-07,\n",
       " 1.0700120235913576e-06,\n",
       " 1.367609117652704e-05,\n",
       " 9.02822644905208e-07,\n",
       " 6.854764526132135e-06,\n",
       " 1.1034498993285875e-06,\n",
       " 1.370952905226427e-06,\n",
       " 1.2372014022775073e-06]"
      ]
     },
     "execution_count": 112,
     "metadata": {},
     "output_type": "execute_result"
    }
   ],
   "source": [
    "probas_noms[:10]"
   ]
  },
  {
   "cell_type": "code",
   "execution_count": 113,
   "id": "9c2369bb-8fa4-49ea-920c-c2d2e4ce0de6",
   "metadata": {},
   "outputs": [
    {
     "data": {
      "text/plain": [
       "218982"
      ]
     },
     "execution_count": 113,
     "metadata": {},
     "output_type": "execute_result"
    }
   ],
   "source": [
    "len(probas_noms)"
   ]
  },
  {
   "cell_type": "code",
   "execution_count": 114,
   "id": "9cde20b9-2929-45d2-85ad-94c5b6bf05d7",
   "metadata": {},
   "outputs": [],
   "source": [
    "noms[\"Probas Noms\"] = probas_noms"
   ]
  },
  {
   "cell_type": "code",
   "execution_count": 115,
   "id": "a905dcff-1efd-45cc-9127-9a5be31b28eb",
   "metadata": {},
   "outputs": [
    {
     "data": {
      "text/html": [
       "<div>\n",
       "<style scoped>\n",
       "    .dataframe tbody tr th:only-of-type {\n",
       "        vertical-align: middle;\n",
       "    }\n",
       "\n",
       "    .dataframe tbody tr th {\n",
       "        vertical-align: top;\n",
       "    }\n",
       "\n",
       "    .dataframe thead th {\n",
       "        text-align: right;\n",
       "    }\n",
       "</style>\n",
       "<table border=\"1\" class=\"dataframe\">\n",
       "  <thead>\n",
       "    <tr style=\"text-align: right;\">\n",
       "      <th></th>\n",
       "      <th>NOM</th>\n",
       "      <th>Noms Total</th>\n",
       "      <th>Probas Noms</th>\n",
       "    </tr>\n",
       "  </thead>\n",
       "  <tbody>\n",
       "    <tr>\n",
       "      <th>0</th>\n",
       "      <td>AABI</td>\n",
       "      <td>32</td>\n",
       "      <td>1.070012e-06</td>\n",
       "    </tr>\n",
       "    <tr>\n",
       "      <th>1</th>\n",
       "      <td>AABID</td>\n",
       "      <td>37</td>\n",
       "      <td>1.237201e-06</td>\n",
       "    </tr>\n",
       "    <tr>\n",
       "      <th>2</th>\n",
       "      <td>AALBERG</td>\n",
       "      <td>3</td>\n",
       "      <td>1.003136e-07</td>\n",
       "    </tr>\n",
       "    <tr>\n",
       "      <th>3</th>\n",
       "      <td>AAMARA</td>\n",
       "      <td>32</td>\n",
       "      <td>1.070012e-06</td>\n",
       "    </tr>\n",
       "    <tr>\n",
       "      <th>4</th>\n",
       "      <td>AARAB</td>\n",
       "      <td>409</td>\n",
       "      <td>1.367609e-05</td>\n",
       "    </tr>\n",
       "    <tr>\n",
       "      <th>...</th>\n",
       "      <td>...</td>\n",
       "      <td>...</td>\n",
       "      <td>...</td>\n",
       "    </tr>\n",
       "    <tr>\n",
       "      <th>218977</th>\n",
       "      <td>ZYLKA</td>\n",
       "      <td>16</td>\n",
       "      <td>5.350060e-07</td>\n",
       "    </tr>\n",
       "    <tr>\n",
       "      <th>218978</th>\n",
       "      <td>ZYSK</td>\n",
       "      <td>32</td>\n",
       "      <td>1.070012e-06</td>\n",
       "    </tr>\n",
       "    <tr>\n",
       "      <th>218979</th>\n",
       "      <td>ZYSMAN</td>\n",
       "      <td>42</td>\n",
       "      <td>1.404391e-06</td>\n",
       "    </tr>\n",
       "    <tr>\n",
       "      <th>218980</th>\n",
       "      <td>ZYTA</td>\n",
       "      <td>27</td>\n",
       "      <td>9.028226e-07</td>\n",
       "    </tr>\n",
       "    <tr>\n",
       "      <th>218981</th>\n",
       "      <td>ZYTO</td>\n",
       "      <td>27</td>\n",
       "      <td>9.028226e-07</td>\n",
       "    </tr>\n",
       "  </tbody>\n",
       "</table>\n",
       "<p>218982 rows × 3 columns</p>\n",
       "</div>"
      ],
      "text/plain": [
       "            NOM  Noms Total   Probas Noms\n",
       "0          AABI          32  1.070012e-06\n",
       "1         AABID          37  1.237201e-06\n",
       "2       AALBERG           3  1.003136e-07\n",
       "3        AAMARA          32  1.070012e-06\n",
       "4         AARAB         409  1.367609e-05\n",
       "...         ...         ...           ...\n",
       "218977    ZYLKA          16  5.350060e-07\n",
       "218978     ZYSK          32  1.070012e-06\n",
       "218979   ZYSMAN          42  1.404391e-06\n",
       "218980     ZYTA          27  9.028226e-07\n",
       "218981     ZYTO          27  9.028226e-07\n",
       "\n",
       "[218982 rows x 3 columns]"
      ]
     },
     "execution_count": 115,
     "metadata": {},
     "output_type": "execute_result"
    }
   ],
   "source": [
    "noms"
   ]
  },
  {
   "cell_type": "code",
   "execution_count": 116,
   "id": "c3427f1c-edd9-40c0-a879-45ef72c06b9b",
   "metadata": {},
   "outputs": [],
   "source": [
    "def give_last_name(first_name_dataframe, last_name_dataframe):\n",
    "    \"\"\"\n",
    "    \"\"\"\n",
    "    \n",
    "    last_name = []\n",
    "    for i in range(len(first_name_dataframe)):\n",
    "        last_name.append(np.random.choice(last_name_dataframe[\"NOM\"], p=last_name_dataframe[\"Probas Noms\"]))\n",
    "    \n",
    "    dataset = pd.DataFrame(first_name_dataframe, columns=[\"FirstName\"])\n",
    "    dataset[\"LastName\"] = last_name\n",
    "    return dataset\n",
    "    \n",
    "                                          "
   ]
  },
  {
   "cell_type": "code",
   "execution_count": 117,
   "id": "12dce846-2bc7-4147-808b-dc405292fe9c",
   "metadata": {},
   "outputs": [],
   "source": [
    "names_df = give_last_name(awa, noms)"
   ]
  },
  {
   "cell_type": "code",
   "execution_count": 118,
   "id": "c5a8ccf5-3007-446f-8810-738dcbe30500",
   "metadata": {},
   "outputs": [
    {
     "data": {
      "text/html": [
       "<div>\n",
       "<style scoped>\n",
       "    .dataframe tbody tr th:only-of-type {\n",
       "        vertical-align: middle;\n",
       "    }\n",
       "\n",
       "    .dataframe tbody tr th {\n",
       "        vertical-align: top;\n",
       "    }\n",
       "\n",
       "    .dataframe thead th {\n",
       "        text-align: right;\n",
       "    }\n",
       "</style>\n",
       "<table border=\"1\" class=\"dataframe\">\n",
       "  <thead>\n",
       "    <tr style=\"text-align: right;\">\n",
       "      <th></th>\n",
       "      <th>FirstName</th>\n",
       "      <th>LastName</th>\n",
       "    </tr>\n",
       "  </thead>\n",
       "  <tbody>\n",
       "    <tr>\n",
       "      <th>0</th>\n",
       "      <td>DANIEL</td>\n",
       "      <td>MARTINEZ</td>\n",
       "    </tr>\n",
       "    <tr>\n",
       "      <th>1</th>\n",
       "      <td>ELEONORE</td>\n",
       "      <td>GIL</td>\n",
       "    </tr>\n",
       "    <tr>\n",
       "      <th>2</th>\n",
       "      <td>KAREN</td>\n",
       "      <td>BARLET</td>\n",
       "    </tr>\n",
       "    <tr>\n",
       "      <th>3</th>\n",
       "      <td>GREGORY</td>\n",
       "      <td>BELLANGER</td>\n",
       "    </tr>\n",
       "    <tr>\n",
       "      <th>4</th>\n",
       "      <td>MATHILDE</td>\n",
       "      <td>ROUX</td>\n",
       "    </tr>\n",
       "    <tr>\n",
       "      <th>...</th>\n",
       "      <td>...</td>\n",
       "      <td>...</td>\n",
       "    </tr>\n",
       "    <tr>\n",
       "      <th>1701</th>\n",
       "      <td>PASCAL</td>\n",
       "      <td>LASSIGNARDIE</td>\n",
       "    </tr>\n",
       "    <tr>\n",
       "      <th>1702</th>\n",
       "      <td>LOUIS</td>\n",
       "      <td>COPPRY</td>\n",
       "    </tr>\n",
       "    <tr>\n",
       "      <th>1703</th>\n",
       "      <td>THOMAS</td>\n",
       "      <td>GAONA</td>\n",
       "    </tr>\n",
       "    <tr>\n",
       "      <th>1704</th>\n",
       "      <td>CÉLINE</td>\n",
       "      <td>FURGAUT</td>\n",
       "    </tr>\n",
       "    <tr>\n",
       "      <th>1705</th>\n",
       "      <td>NICOLAS</td>\n",
       "      <td>PARISON</td>\n",
       "    </tr>\n",
       "  </tbody>\n",
       "</table>\n",
       "<p>1706 rows × 2 columns</p>\n",
       "</div>"
      ],
      "text/plain": [
       "     FirstName      LastName\n",
       "0       DANIEL      MARTINEZ\n",
       "1     ELEONORE           GIL\n",
       "2        KAREN        BARLET\n",
       "3      GREGORY     BELLANGER\n",
       "4     MATHILDE          ROUX\n",
       "...        ...           ...\n",
       "1701    PASCAL  LASSIGNARDIE\n",
       "1702     LOUIS        COPPRY\n",
       "1703    THOMAS         GAONA\n",
       "1704    CÉLINE       FURGAUT\n",
       "1705   NICOLAS       PARISON\n",
       "\n",
       "[1706 rows x 2 columns]"
      ]
     },
     "execution_count": 118,
     "metadata": {},
     "output_type": "execute_result"
    }
   ],
   "source": [
    "names_df"
   ]
  },
  {
   "cell_type": "code",
   "execution_count": 119,
   "id": "d221b642-434b-4295-8ff1-c8b03aa2b01e",
   "metadata": {},
   "outputs": [],
   "source": [
    "names_df[\"Date\"] = final_final_dict.values()"
   ]
  },
  {
   "cell_type": "code",
   "execution_count": 120,
   "id": "4ad53c85-0402-4800-bc7c-85f3d3d0a550",
   "metadata": {},
   "outputs": [
    {
     "data": {
      "text/html": [
       "<div>\n",
       "<style scoped>\n",
       "    .dataframe tbody tr th:only-of-type {\n",
       "        vertical-align: middle;\n",
       "    }\n",
       "\n",
       "    .dataframe tbody tr th {\n",
       "        vertical-align: top;\n",
       "    }\n",
       "\n",
       "    .dataframe thead th {\n",
       "        text-align: right;\n",
       "    }\n",
       "</style>\n",
       "<table border=\"1\" class=\"dataframe\">\n",
       "  <thead>\n",
       "    <tr style=\"text-align: right;\">\n",
       "      <th></th>\n",
       "      <th>FirstName</th>\n",
       "      <th>LastName</th>\n",
       "      <th>Date</th>\n",
       "    </tr>\n",
       "  </thead>\n",
       "  <tbody>\n",
       "    <tr>\n",
       "      <th>0</th>\n",
       "      <td>DANIEL</td>\n",
       "      <td>MARTINEZ</td>\n",
       "      <td>02/07/2018</td>\n",
       "    </tr>\n",
       "    <tr>\n",
       "      <th>1</th>\n",
       "      <td>ELEONORE</td>\n",
       "      <td>GIL</td>\n",
       "      <td>03/07/2018</td>\n",
       "    </tr>\n",
       "    <tr>\n",
       "      <th>2</th>\n",
       "      <td>KAREN</td>\n",
       "      <td>BARLET</td>\n",
       "      <td>03/07/2018</td>\n",
       "    </tr>\n",
       "    <tr>\n",
       "      <th>3</th>\n",
       "      <td>GREGORY</td>\n",
       "      <td>BELLANGER</td>\n",
       "      <td>03/07/2018</td>\n",
       "    </tr>\n",
       "    <tr>\n",
       "      <th>4</th>\n",
       "      <td>MATHILDE</td>\n",
       "      <td>ROUX</td>\n",
       "      <td>04/07/2018</td>\n",
       "    </tr>\n",
       "    <tr>\n",
       "      <th>...</th>\n",
       "      <td>...</td>\n",
       "      <td>...</td>\n",
       "      <td>...</td>\n",
       "    </tr>\n",
       "    <tr>\n",
       "      <th>1701</th>\n",
       "      <td>PASCAL</td>\n",
       "      <td>LASSIGNARDIE</td>\n",
       "      <td>22/06/2021</td>\n",
       "    </tr>\n",
       "    <tr>\n",
       "      <th>1702</th>\n",
       "      <td>LOUIS</td>\n",
       "      <td>COPPRY</td>\n",
       "      <td>25/06/2021</td>\n",
       "    </tr>\n",
       "    <tr>\n",
       "      <th>1703</th>\n",
       "      <td>THOMAS</td>\n",
       "      <td>GAONA</td>\n",
       "      <td>29/06/2021</td>\n",
       "    </tr>\n",
       "    <tr>\n",
       "      <th>1704</th>\n",
       "      <td>CÉLINE</td>\n",
       "      <td>FURGAUT</td>\n",
       "      <td>29/06/2021</td>\n",
       "    </tr>\n",
       "    <tr>\n",
       "      <th>1705</th>\n",
       "      <td>NICOLAS</td>\n",
       "      <td>PARISON</td>\n",
       "      <td>29/06/2021</td>\n",
       "    </tr>\n",
       "  </tbody>\n",
       "</table>\n",
       "<p>1706 rows × 3 columns</p>\n",
       "</div>"
      ],
      "text/plain": [
       "     FirstName      LastName        Date\n",
       "0       DANIEL      MARTINEZ  02/07/2018\n",
       "1     ELEONORE           GIL  03/07/2018\n",
       "2        KAREN        BARLET  03/07/2018\n",
       "3      GREGORY     BELLANGER  03/07/2018\n",
       "4     MATHILDE          ROUX  04/07/2018\n",
       "...        ...           ...         ...\n",
       "1701    PASCAL  LASSIGNARDIE  22/06/2021\n",
       "1702     LOUIS        COPPRY  25/06/2021\n",
       "1703    THOMAS         GAONA  29/06/2021\n",
       "1704    CÉLINE       FURGAUT  29/06/2021\n",
       "1705   NICOLAS       PARISON  29/06/2021\n",
       "\n",
       "[1706 rows x 3 columns]"
      ]
     },
     "execution_count": 120,
     "metadata": {},
     "output_type": "execute_result"
    }
   ],
   "source": [
    "names_df"
   ]
  },
  {
   "cell_type": "markdown",
   "id": "1624f3ec-1c2e-4ce9-874c-48641f69d915",
   "metadata": {},
   "source": [
    "---"
   ]
  },
  {
   "cell_type": "markdown",
   "id": "05d8e90e-7cf9-4b2a-aaef-f2dc63b361e2",
   "metadata": {},
   "source": [
    "SIREN number"
   ]
  },
  {
   "cell_type": "code",
   "execution_count": 121,
   "id": "ccf1cde6-4ebe-4f7f-8f41-d83355e03af8",
   "metadata": {},
   "outputs": [
    {
     "data": {
      "text/plain": [
       "'518648659'"
      ]
     },
     "execution_count": 121,
     "metadata": {},
     "output_type": "execute_result"
    }
   ],
   "source": [
    "import re\n",
    "from secrets import choice\n",
    "re.sub('x',\n",
    "       lambda m: choice('123456789'),\n",
    "       'xxxxxxxxx')"
   ]
  },
  {
   "cell_type": "code",
   "execution_count": 122,
   "id": "dc8907a7-add6-45f2-a27b-cb786899649a",
   "metadata": {},
   "outputs": [],
   "source": [
    "list_siren = []\n",
    "for i in range(len(names_df)):\n",
    "    siren_num = re.sub('x', lambda m: choice('123456789'), 'xxxxxxxxx')\n",
    "    list_siren.append(siren_num)"
   ]
  },
  {
   "cell_type": "code",
   "execution_count": 123,
   "id": "b0ae3b9e-758c-4567-8a02-e0d5ccac7998",
   "metadata": {},
   "outputs": [
    {
     "data": {
      "text/plain": [
       "['637586415',\n",
       " '452445575',\n",
       " '156694935',\n",
       " '172789226',\n",
       " '796978914',\n",
       " '889564288',\n",
       " '411772916',\n",
       " '158341186',\n",
       " '597984954',\n",
       " '289252439']"
      ]
     },
     "execution_count": 123,
     "metadata": {},
     "output_type": "execute_result"
    }
   ],
   "source": [
    "list_siren[:10]"
   ]
  },
  {
   "cell_type": "code",
   "execution_count": 124,
   "id": "2b1ad887-8c11-4bd9-a242-f67b8812a013",
   "metadata": {},
   "outputs": [],
   "source": [
    "company_list = []\n",
    "for i in range(len(names_df)):\n",
    "    company_name = \"company_\" + str(i)\n",
    "    company_list.append(company_name)"
   ]
  },
  {
   "cell_type": "code",
   "execution_count": 125,
   "id": "d5009efb-7ac7-4819-b032-431e53fa3042",
   "metadata": {},
   "outputs": [
    {
     "data": {
      "text/plain": [
       "['company_1696',\n",
       " 'company_1697',\n",
       " 'company_1698',\n",
       " 'company_1699',\n",
       " 'company_1700',\n",
       " 'company_1701',\n",
       " 'company_1702',\n",
       " 'company_1703',\n",
       " 'company_1704',\n",
       " 'company_1705']"
      ]
     },
     "execution_count": 125,
     "metadata": {},
     "output_type": "execute_result"
    }
   ],
   "source": [
    "company_list[-10:]"
   ]
  },
  {
   "cell_type": "code",
   "execution_count": 126,
   "id": "d34d2bfb-26f7-4b37-ac16-eab124db25a7",
   "metadata": {},
   "outputs": [],
   "source": [
    "names_df[\"Company\"] = company_list\n",
    "names_df[\"SIREN\"] = list_siren"
   ]
  },
  {
   "cell_type": "code",
   "execution_count": 127,
   "id": "21db4eaf-e51d-4ff4-991f-abe29ae3b551",
   "metadata": {},
   "outputs": [
    {
     "data": {
      "text/html": [
       "<div>\n",
       "<style scoped>\n",
       "    .dataframe tbody tr th:only-of-type {\n",
       "        vertical-align: middle;\n",
       "    }\n",
       "\n",
       "    .dataframe tbody tr th {\n",
       "        vertical-align: top;\n",
       "    }\n",
       "\n",
       "    .dataframe thead th {\n",
       "        text-align: right;\n",
       "    }\n",
       "</style>\n",
       "<table border=\"1\" class=\"dataframe\">\n",
       "  <thead>\n",
       "    <tr style=\"text-align: right;\">\n",
       "      <th></th>\n",
       "      <th>FirstName</th>\n",
       "      <th>LastName</th>\n",
       "      <th>Date</th>\n",
       "      <th>Company</th>\n",
       "      <th>SIREN</th>\n",
       "    </tr>\n",
       "  </thead>\n",
       "  <tbody>\n",
       "    <tr>\n",
       "      <th>0</th>\n",
       "      <td>DANIEL</td>\n",
       "      <td>MARTINEZ</td>\n",
       "      <td>02/07/2018</td>\n",
       "      <td>company_0</td>\n",
       "      <td>637586415</td>\n",
       "    </tr>\n",
       "    <tr>\n",
       "      <th>1</th>\n",
       "      <td>ELEONORE</td>\n",
       "      <td>GIL</td>\n",
       "      <td>03/07/2018</td>\n",
       "      <td>company_1</td>\n",
       "      <td>452445575</td>\n",
       "    </tr>\n",
       "    <tr>\n",
       "      <th>2</th>\n",
       "      <td>KAREN</td>\n",
       "      <td>BARLET</td>\n",
       "      <td>03/07/2018</td>\n",
       "      <td>company_2</td>\n",
       "      <td>156694935</td>\n",
       "    </tr>\n",
       "    <tr>\n",
       "      <th>3</th>\n",
       "      <td>GREGORY</td>\n",
       "      <td>BELLANGER</td>\n",
       "      <td>03/07/2018</td>\n",
       "      <td>company_3</td>\n",
       "      <td>172789226</td>\n",
       "    </tr>\n",
       "    <tr>\n",
       "      <th>4</th>\n",
       "      <td>MATHILDE</td>\n",
       "      <td>ROUX</td>\n",
       "      <td>04/07/2018</td>\n",
       "      <td>company_4</td>\n",
       "      <td>796978914</td>\n",
       "    </tr>\n",
       "  </tbody>\n",
       "</table>\n",
       "</div>"
      ],
      "text/plain": [
       "  FirstName   LastName        Date    Company      SIREN\n",
       "0    DANIEL   MARTINEZ  02/07/2018  company_0  637586415\n",
       "1  ELEONORE        GIL  03/07/2018  company_1  452445575\n",
       "2     KAREN     BARLET  03/07/2018  company_2  156694935\n",
       "3   GREGORY  BELLANGER  03/07/2018  company_3  172789226\n",
       "4  MATHILDE       ROUX  04/07/2018  company_4  796978914"
      ]
     },
     "execution_count": 127,
     "metadata": {},
     "output_type": "execute_result"
    }
   ],
   "source": [
    "names_df.head()"
   ]
  },
  {
   "cell_type": "code",
   "execution_count": 128,
   "id": "49c214a2-1b5c-4d99-b007-9b0ca95919a9",
   "metadata": {},
   "outputs": [
    {
     "data": {
      "text/plain": [
       "('ELEONORE', 'GIL', 'company_1', 'e')"
      ]
     },
     "execution_count": 128,
     "metadata": {},
     "output_type": "execute_result"
    }
   ],
   "source": [
    "names_df.iat[1,0], names_df.iat[1,1], names_df.iat[1,3], names_df.iat[1,0][0].lower()"
   ]
  },
  {
   "cell_type": "code",
   "execution_count": 129,
   "id": "be3c93fa-c698-48be-b96f-b3c506f8dd04",
   "metadata": {},
   "outputs": [],
   "source": [
    "email_list = []\n",
    "for i in range(len(names_df)):\n",
    "    email = names_df.iat[i, 0][0].lower() + \".\" + names_df.iat[i,1].lower() + \"@\" + names_df.iat[i,3] + \".com\"\n",
    "    email_list.append(email)"
   ]
  },
  {
   "cell_type": "code",
   "execution_count": 130,
   "id": "070f3170-c2b3-4cf1-a92b-1d00d940378d",
   "metadata": {},
   "outputs": [
    {
     "data": {
      "text/plain": [
       "['p.piet@company_10.com',\n",
       " 'd.bassez@company_11.com',\n",
       " 'n.fournier@company_12.com',\n",
       " 'n.weilland@company_13.com',\n",
       " 'j.coste@company_14.com',\n",
       " 'j.payoux@company_15.com',\n",
       " 'o.mauro@company_16.com',\n",
       " 'p.baraban@company_17.com',\n",
       " 'n.gilbin@company_18.com',\n",
       " 'p.picq@company_19.com']"
      ]
     },
     "execution_count": 130,
     "metadata": {},
     "output_type": "execute_result"
    }
   ],
   "source": [
    "email_list[10:20]"
   ]
  },
  {
   "cell_type": "code",
   "execution_count": 131,
   "id": "91da213c-05fb-459e-ac2e-a9ee291a6524",
   "metadata": {},
   "outputs": [],
   "source": [
    "product_plans = [\"startup\", \"pro\", \"enterprise\"]\n",
    "plan_prob = [0.7, 0.2, 0.1]"
   ]
  },
  {
   "cell_type": "code",
   "execution_count": 132,
   "id": "48741ba1-2714-4c1c-933a-74e3f74760e0",
   "metadata": {},
   "outputs": [],
   "source": [
    "list_of_plans = []\n",
    "for i in range(len(names_df)):\n",
    "    plan = np.random.choice(product_plans, p = plan_prob)\n",
    "    list_of_plans.append(plan)"
   ]
  },
  {
   "cell_type": "code",
   "execution_count": 133,
   "id": "24cd616e-add7-439b-b996-003f49497d2b",
   "metadata": {},
   "outputs": [
    {
     "data": {
      "text/plain": [
       "['startup',\n",
       " 'startup',\n",
       " 'startup',\n",
       " 'startup',\n",
       " 'pro',\n",
       " 'startup',\n",
       " 'pro',\n",
       " 'startup',\n",
       " 'pro',\n",
       " 'pro']"
      ]
     },
     "execution_count": 133,
     "metadata": {},
     "output_type": "execute_result"
    }
   ],
   "source": [
    "list_of_plans[10:20]"
   ]
  },
  {
   "cell_type": "code",
   "execution_count": 134,
   "id": "27446d1c-8f22-4ac9-9949-69ea9afd2717",
   "metadata": {},
   "outputs": [],
   "source": [
    "payment_method = [\"card\", \"stripe\", \"bank\"]\n",
    "payement_method_prob = [0.7, 0.2, 0.1]"
   ]
  },
  {
   "cell_type": "code",
   "execution_count": 135,
   "id": "12f2e4d7-dec4-45eb-9ab3-ac716f0aad08",
   "metadata": {},
   "outputs": [],
   "source": [
    "list_of_payment_methods = []\n",
    "for i in range(len(names_df)):\n",
    "    payment = np.random.choice(payment_method, p = payement_method_prob)\n",
    "    list_of_payment_methods.append(payment)"
   ]
  },
  {
   "cell_type": "code",
   "execution_count": 136,
   "id": "7fa651d1-8551-45de-8ffc-7f4bd86fdf85",
   "metadata": {},
   "outputs": [
    {
     "data": {
      "text/plain": [
       "['card',\n",
       " 'card',\n",
       " 'card',\n",
       " 'stripe',\n",
       " 'stripe',\n",
       " 'stripe',\n",
       " 'card',\n",
       " 'card',\n",
       " 'card',\n",
       " 'card']"
      ]
     },
     "execution_count": 136,
     "metadata": {},
     "output_type": "execute_result"
    }
   ],
   "source": [
    "list_of_payment_methods[10:20]"
   ]
  },
  {
   "cell_type": "code",
   "execution_count": 137,
   "id": "b3cddf66-6411-4acd-96b0-6af9ecf1bcff",
   "metadata": {},
   "outputs": [],
   "source": [
    "names_df[\"email\"] = email_list\n",
    "names_df[\"plan\"] = list_of_plans\n",
    "names_df[\"payement\"] = list_of_payment_methods"
   ]
  },
  {
   "cell_type": "code",
   "execution_count": 138,
   "id": "c387e4cc-d035-4ee5-bfab-83256bea6704",
   "metadata": {},
   "outputs": [
    {
     "data": {
      "text/html": [
       "<div>\n",
       "<style scoped>\n",
       "    .dataframe tbody tr th:only-of-type {\n",
       "        vertical-align: middle;\n",
       "    }\n",
       "\n",
       "    .dataframe tbody tr th {\n",
       "        vertical-align: top;\n",
       "    }\n",
       "\n",
       "    .dataframe thead th {\n",
       "        text-align: right;\n",
       "    }\n",
       "</style>\n",
       "<table border=\"1\" class=\"dataframe\">\n",
       "  <thead>\n",
       "    <tr style=\"text-align: right;\">\n",
       "      <th></th>\n",
       "      <th>FirstName</th>\n",
       "      <th>LastName</th>\n",
       "      <th>Date</th>\n",
       "      <th>Company</th>\n",
       "      <th>SIREN</th>\n",
       "      <th>email</th>\n",
       "      <th>plan</th>\n",
       "      <th>payement</th>\n",
       "    </tr>\n",
       "  </thead>\n",
       "  <tbody>\n",
       "    <tr>\n",
       "      <th>304</th>\n",
       "      <td>CLARA</td>\n",
       "      <td>CLAVEL</td>\n",
       "      <td>12/08/2019</td>\n",
       "      <td>company_304</td>\n",
       "      <td>245652274</td>\n",
       "      <td>c.clavel@company_304.com</td>\n",
       "      <td>pro</td>\n",
       "      <td>card</td>\n",
       "    </tr>\n",
       "  </tbody>\n",
       "</table>\n",
       "</div>"
      ],
      "text/plain": [
       "    FirstName LastName        Date      Company      SIREN  \\\n",
       "304     CLARA   CLAVEL  12/08/2019  company_304  245652274   \n",
       "\n",
       "                        email plan payement  \n",
       "304  c.clavel@company_304.com  pro     card  "
      ]
     },
     "execution_count": 138,
     "metadata": {},
     "output_type": "execute_result"
    }
   ],
   "source": [
    "names_df[names_df['Date'] == \"12/08/2019\"]"
   ]
  },
  {
   "cell_type": "markdown",
   "id": "5c3cdbae-c463-4a07-8c9c-39980bc09c83",
   "metadata": {},
   "source": [
    "---"
   ]
  },
  {
   "cell_type": "code",
   "execution_count": 140,
   "id": "fb31ec80-3b08-47ac-88f2-228bde443a06",
   "metadata": {},
   "outputs": [
    {
     "data": {
      "text/plain": [
       "str"
      ]
     },
     "execution_count": 140,
     "metadata": {},
     "output_type": "execute_result"
    }
   ],
   "source": [
    "type(names_df[\"Date\"][0])"
   ]
  },
  {
   "cell_type": "code",
   "execution_count": 141,
   "id": "082a3a1e-13fe-42a8-92d6-5d004843b69f",
   "metadata": {},
   "outputs": [
    {
     "data": {
      "text/plain": [
       "'02/07/2018'"
      ]
     },
     "execution_count": 141,
     "metadata": {},
     "output_type": "execute_result"
    }
   ],
   "source": [
    "names_df[\"Date\"][0]"
   ]
  },
  {
   "cell_type": "code",
   "execution_count": 142,
   "id": "6468dd2e-c0bb-44f1-94e2-f1832a8458db",
   "metadata": {},
   "outputs": [],
   "source": [
    "date_test = names_df[\"Date\"][0]"
   ]
  },
  {
   "cell_type": "code",
   "execution_count": 143,
   "id": "6b23a004-2a36-4829-8346-eea1b57947b6",
   "metadata": {},
   "outputs": [
    {
     "data": {
      "text/plain": [
       "0   2018-07-02\n",
       "dtype: datetime64[ns]"
      ]
     },
     "execution_count": 143,
     "metadata": {},
     "output_type": "execute_result"
    }
   ],
   "source": [
    "pd.to_datetime(pd.Series(date_test), format=\"%d/%m/%Y\")"
   ]
  },
  {
   "cell_type": "code",
   "execution_count": 144,
   "id": "57f313ea-e0c6-488f-aff3-e78e1bfbc84c",
   "metadata": {},
   "outputs": [],
   "source": [
    "names_df[\"Date\"] = pd.to_datetime(names_df[\"Date\"], format=\"%d/%m/%Y\")"
   ]
  },
  {
   "cell_type": "code",
   "execution_count": 145,
   "id": "41b9bd1c-5bea-49e4-8fbb-87f89350e701",
   "metadata": {},
   "outputs": [
    {
     "data": {
      "text/plain": [
       "pandas._libs.tslibs.timestamps.Timestamp"
      ]
     },
     "execution_count": 145,
     "metadata": {},
     "output_type": "execute_result"
    }
   ],
   "source": [
    "type(names_df[\"Date\"][0])"
   ]
  },
  {
   "cell_type": "code",
   "execution_count": 146,
   "id": "e41bc5d0-4669-4bf4-9b68-6971c58fcfbc",
   "metadata": {},
   "outputs": [
    {
     "data": {
      "text/html": [
       "<div>\n",
       "<style scoped>\n",
       "    .dataframe tbody tr th:only-of-type {\n",
       "        vertical-align: middle;\n",
       "    }\n",
       "\n",
       "    .dataframe tbody tr th {\n",
       "        vertical-align: top;\n",
       "    }\n",
       "\n",
       "    .dataframe thead th {\n",
       "        text-align: right;\n",
       "    }\n",
       "</style>\n",
       "<table border=\"1\" class=\"dataframe\">\n",
       "  <thead>\n",
       "    <tr style=\"text-align: right;\">\n",
       "      <th></th>\n",
       "      <th>FirstName</th>\n",
       "      <th>LastName</th>\n",
       "      <th>Date</th>\n",
       "      <th>Company</th>\n",
       "      <th>SIREN</th>\n",
       "      <th>email</th>\n",
       "      <th>plan</th>\n",
       "      <th>payement</th>\n",
       "    </tr>\n",
       "  </thead>\n",
       "  <tbody>\n",
       "    <tr>\n",
       "      <th>0</th>\n",
       "      <td>DANIEL</td>\n",
       "      <td>MARTINEZ</td>\n",
       "      <td>2018-07-02</td>\n",
       "      <td>company_0</td>\n",
       "      <td>637586415</td>\n",
       "      <td>d.martinez@company_0.com</td>\n",
       "      <td>startup</td>\n",
       "      <td>card</td>\n",
       "    </tr>\n",
       "    <tr>\n",
       "      <th>1</th>\n",
       "      <td>ELEONORE</td>\n",
       "      <td>GIL</td>\n",
       "      <td>2018-07-03</td>\n",
       "      <td>company_1</td>\n",
       "      <td>452445575</td>\n",
       "      <td>e.gil@company_1.com</td>\n",
       "      <td>startup</td>\n",
       "      <td>card</td>\n",
       "    </tr>\n",
       "    <tr>\n",
       "      <th>2</th>\n",
       "      <td>KAREN</td>\n",
       "      <td>BARLET</td>\n",
       "      <td>2018-07-03</td>\n",
       "      <td>company_2</td>\n",
       "      <td>156694935</td>\n",
       "      <td>k.barlet@company_2.com</td>\n",
       "      <td>startup</td>\n",
       "      <td>card</td>\n",
       "    </tr>\n",
       "    <tr>\n",
       "      <th>3</th>\n",
       "      <td>GREGORY</td>\n",
       "      <td>BELLANGER</td>\n",
       "      <td>2018-07-03</td>\n",
       "      <td>company_3</td>\n",
       "      <td>172789226</td>\n",
       "      <td>g.bellanger@company_3.com</td>\n",
       "      <td>pro</td>\n",
       "      <td>card</td>\n",
       "    </tr>\n",
       "    <tr>\n",
       "      <th>4</th>\n",
       "      <td>MATHILDE</td>\n",
       "      <td>ROUX</td>\n",
       "      <td>2018-07-04</td>\n",
       "      <td>company_4</td>\n",
       "      <td>796978914</td>\n",
       "      <td>m.roux@company_4.com</td>\n",
       "      <td>enterprise</td>\n",
       "      <td>stripe</td>\n",
       "    </tr>\n",
       "  </tbody>\n",
       "</table>\n",
       "</div>"
      ],
      "text/plain": [
       "  FirstName   LastName       Date    Company      SIREN  \\\n",
       "0    DANIEL   MARTINEZ 2018-07-02  company_0  637586415   \n",
       "1  ELEONORE        GIL 2018-07-03  company_1  452445575   \n",
       "2     KAREN     BARLET 2018-07-03  company_2  156694935   \n",
       "3   GREGORY  BELLANGER 2018-07-03  company_3  172789226   \n",
       "4  MATHILDE       ROUX 2018-07-04  company_4  796978914   \n",
       "\n",
       "                       email        plan payement  \n",
       "0   d.martinez@company_0.com     startup     card  \n",
       "1        e.gil@company_1.com     startup     card  \n",
       "2     k.barlet@company_2.com     startup     card  \n",
       "3  g.bellanger@company_3.com         pro     card  \n",
       "4       m.roux@company_4.com  enterprise   stripe  "
      ]
     },
     "execution_count": 146,
     "metadata": {},
     "output_type": "execute_result"
    }
   ],
   "source": [
    "names_df.head()"
   ]
  },
  {
   "cell_type": "code",
   "execution_count": 147,
   "id": "a6257573-421e-43c5-b6b0-5a03c1676e6c",
   "metadata": {},
   "outputs": [],
   "source": [
    "from datetime import datetime"
   ]
  },
  {
   "cell_type": "code",
   "execution_count": 148,
   "id": "6e1f4dd8-e664-4cd5-b4fd-47789ecaa47b",
   "metadata": {},
   "outputs": [],
   "source": [
    "date_1 = datetime.strptime(\"01/08/2019\", \"%d/%m/%Y\")\n",
    "date_2 = datetime.strptime(\"01/06/2020\", \"%d/%m/%Y\")"
   ]
  },
  {
   "cell_type": "code",
   "execution_count": 149,
   "id": "e8cd88d9-b80c-419d-9799-8fe39138d704",
   "metadata": {},
   "outputs": [
    {
     "data": {
      "text/plain": [
       "(datetime.datetime(2019, 8, 1, 0, 0), datetime.datetime(2020, 6, 1, 0, 0))"
      ]
     },
     "execution_count": 149,
     "metadata": {},
     "output_type": "execute_result"
    }
   ],
   "source": [
    "date_1, date_2"
   ]
  },
  {
   "cell_type": "code",
   "execution_count": 150,
   "id": "d834455b-9ae9-49ed-becb-ca818f4e8cbe",
   "metadata": {},
   "outputs": [],
   "source": [
    "names_df[\"price\"] = np.nan"
   ]
  },
  {
   "cell_type": "code",
   "execution_count": 151,
   "id": "d8b60419-8d10-4bcd-8738-cd21fe66d9b4",
   "metadata": {},
   "outputs": [
    {
     "data": {
      "text/html": [
       "<div>\n",
       "<style scoped>\n",
       "    .dataframe tbody tr th:only-of-type {\n",
       "        vertical-align: middle;\n",
       "    }\n",
       "\n",
       "    .dataframe tbody tr th {\n",
       "        vertical-align: top;\n",
       "    }\n",
       "\n",
       "    .dataframe thead th {\n",
       "        text-align: right;\n",
       "    }\n",
       "</style>\n",
       "<table border=\"1\" class=\"dataframe\">\n",
       "  <thead>\n",
       "    <tr style=\"text-align: right;\">\n",
       "      <th></th>\n",
       "      <th>FirstName</th>\n",
       "      <th>LastName</th>\n",
       "      <th>Date</th>\n",
       "      <th>Company</th>\n",
       "      <th>SIREN</th>\n",
       "      <th>email</th>\n",
       "      <th>plan</th>\n",
       "      <th>payement</th>\n",
       "      <th>price</th>\n",
       "    </tr>\n",
       "  </thead>\n",
       "  <tbody>\n",
       "    <tr>\n",
       "      <th>0</th>\n",
       "      <td>DANIEL</td>\n",
       "      <td>MARTINEZ</td>\n",
       "      <td>2018-07-02</td>\n",
       "      <td>company_0</td>\n",
       "      <td>637586415</td>\n",
       "      <td>d.martinez@company_0.com</td>\n",
       "      <td>startup</td>\n",
       "      <td>card</td>\n",
       "      <td>NaN</td>\n",
       "    </tr>\n",
       "    <tr>\n",
       "      <th>1</th>\n",
       "      <td>ELEONORE</td>\n",
       "      <td>GIL</td>\n",
       "      <td>2018-07-03</td>\n",
       "      <td>company_1</td>\n",
       "      <td>452445575</td>\n",
       "      <td>e.gil@company_1.com</td>\n",
       "      <td>startup</td>\n",
       "      <td>card</td>\n",
       "      <td>NaN</td>\n",
       "    </tr>\n",
       "    <tr>\n",
       "      <th>2</th>\n",
       "      <td>KAREN</td>\n",
       "      <td>BARLET</td>\n",
       "      <td>2018-07-03</td>\n",
       "      <td>company_2</td>\n",
       "      <td>156694935</td>\n",
       "      <td>k.barlet@company_2.com</td>\n",
       "      <td>startup</td>\n",
       "      <td>card</td>\n",
       "      <td>NaN</td>\n",
       "    </tr>\n",
       "    <tr>\n",
       "      <th>3</th>\n",
       "      <td>GREGORY</td>\n",
       "      <td>BELLANGER</td>\n",
       "      <td>2018-07-03</td>\n",
       "      <td>company_3</td>\n",
       "      <td>172789226</td>\n",
       "      <td>g.bellanger@company_3.com</td>\n",
       "      <td>pro</td>\n",
       "      <td>card</td>\n",
       "      <td>NaN</td>\n",
       "    </tr>\n",
       "    <tr>\n",
       "      <th>4</th>\n",
       "      <td>MATHILDE</td>\n",
       "      <td>ROUX</td>\n",
       "      <td>2018-07-04</td>\n",
       "      <td>company_4</td>\n",
       "      <td>796978914</td>\n",
       "      <td>m.roux@company_4.com</td>\n",
       "      <td>enterprise</td>\n",
       "      <td>stripe</td>\n",
       "      <td>NaN</td>\n",
       "    </tr>\n",
       "  </tbody>\n",
       "</table>\n",
       "</div>"
      ],
      "text/plain": [
       "  FirstName   LastName       Date    Company      SIREN  \\\n",
       "0    DANIEL   MARTINEZ 2018-07-02  company_0  637586415   \n",
       "1  ELEONORE        GIL 2018-07-03  company_1  452445575   \n",
       "2     KAREN     BARLET 2018-07-03  company_2  156694935   \n",
       "3   GREGORY  BELLANGER 2018-07-03  company_3  172789226   \n",
       "4  MATHILDE       ROUX 2018-07-04  company_4  796978914   \n",
       "\n",
       "                       email        plan payement  price  \n",
       "0   d.martinez@company_0.com     startup     card    NaN  \n",
       "1        e.gil@company_1.com     startup     card    NaN  \n",
       "2     k.barlet@company_2.com     startup     card    NaN  \n",
       "3  g.bellanger@company_3.com         pro     card    NaN  \n",
       "4       m.roux@company_4.com  enterprise   stripe    NaN  "
      ]
     },
     "execution_count": 151,
     "metadata": {},
     "output_type": "execute_result"
    }
   ],
   "source": [
    "names_df.head()"
   ]
  },
  {
   "cell_type": "code",
   "execution_count": 152,
   "id": "3cbfa543-81b0-49f7-93ff-1cba6ddc7014",
   "metadata": {},
   "outputs": [
    {
     "name": "stdout",
     "output_type": "stream",
     "text": [
      "CPU times: total: 391 ms\n",
      "Wall time: 392 ms\n"
     ]
    }
   ],
   "source": [
    "%%time\n",
    "for i in names_df.index:\n",
    "    if names_df[\"Date\"][i] <= date_1:\n",
    "        if names_df[\"plan\"][i] == \"startup\":\n",
    "            names_df[\"price\"][i] = 50\n",
    "        elif names_df[\"plan\"][i] == \"pro\":\n",
    "            names_df[\"price\"][i] = 150\n",
    "        else:\n",
    "            names_df[\"price\"][i] = 600\n",
    "            \n",
    "    elif date_1 < names_df[\"Date\"][i] <= date_2 :\n",
    "        if names_df[\"plan\"][i] == \"startup\":\n",
    "            names_df[\"price\"][i] = 85\n",
    "        elif names_df[\"plan\"][i] == \"pro\":\n",
    "            names_df[\"price\"][i] = 250\n",
    "        else:\n",
    "            names_df[\"price\"][i] = 750\n",
    "            \n",
    "    else:\n",
    "        if names_df[\"plan\"][i] == \"startup\":\n",
    "            names_df[\"price\"][i] = 180\n",
    "        elif names_df[\"plan\"][i] == \"pro\":\n",
    "            names_df[\"price\"][i] = 450\n",
    "        else:\n",
    "            names_df[\"price\"][i] = 900        "
   ]
  },
  {
   "cell_type": "code",
   "execution_count": 153,
   "id": "2168887e-220c-43eb-a3b3-c1f10304113c",
   "metadata": {},
   "outputs": [
    {
     "data": {
      "text/html": [
       "<div>\n",
       "<style scoped>\n",
       "    .dataframe tbody tr th:only-of-type {\n",
       "        vertical-align: middle;\n",
       "    }\n",
       "\n",
       "    .dataframe tbody tr th {\n",
       "        vertical-align: top;\n",
       "    }\n",
       "\n",
       "    .dataframe thead th {\n",
       "        text-align: right;\n",
       "    }\n",
       "</style>\n",
       "<table border=\"1\" class=\"dataframe\">\n",
       "  <thead>\n",
       "    <tr style=\"text-align: right;\">\n",
       "      <th></th>\n",
       "      <th>FirstName</th>\n",
       "      <th>LastName</th>\n",
       "      <th>Date</th>\n",
       "      <th>Company</th>\n",
       "      <th>SIREN</th>\n",
       "      <th>email</th>\n",
       "      <th>plan</th>\n",
       "      <th>payement</th>\n",
       "      <th>price</th>\n",
       "    </tr>\n",
       "  </thead>\n",
       "  <tbody>\n",
       "    <tr>\n",
       "      <th>1086</th>\n",
       "      <td>GWENDOLINE</td>\n",
       "      <td>SUQUART</td>\n",
       "      <td>2020-08-17</td>\n",
       "      <td>company_1086</td>\n",
       "      <td>178418357</td>\n",
       "      <td>g.suquart@company_1086.com</td>\n",
       "      <td>startup</td>\n",
       "      <td>card</td>\n",
       "      <td>180.0</td>\n",
       "    </tr>\n",
       "    <tr>\n",
       "      <th>1387</th>\n",
       "      <td>ESTELLE</td>\n",
       "      <td>MIGEON</td>\n",
       "      <td>2020-11-19</td>\n",
       "      <td>company_1387</td>\n",
       "      <td>593893694</td>\n",
       "      <td>e.migeon@company_1387.com</td>\n",
       "      <td>startup</td>\n",
       "      <td>bank</td>\n",
       "      <td>180.0</td>\n",
       "    </tr>\n",
       "    <tr>\n",
       "      <th>1451</th>\n",
       "      <td>CINDY</td>\n",
       "      <td>MANTION</td>\n",
       "      <td>2020-12-18</td>\n",
       "      <td>company_1451</td>\n",
       "      <td>263267836</td>\n",
       "      <td>c.mantion@company_1451.com</td>\n",
       "      <td>startup</td>\n",
       "      <td>card</td>\n",
       "      <td>180.0</td>\n",
       "    </tr>\n",
       "    <tr>\n",
       "      <th>72</th>\n",
       "      <td>FRÉDÉRIC</td>\n",
       "      <td>FRESNAIS</td>\n",
       "      <td>2018-10-01</td>\n",
       "      <td>company_72</td>\n",
       "      <td>462454343</td>\n",
       "      <td>f.fresnais@company_72.com</td>\n",
       "      <td>startup</td>\n",
       "      <td>card</td>\n",
       "      <td>50.0</td>\n",
       "    </tr>\n",
       "    <tr>\n",
       "      <th>414</th>\n",
       "      <td>NATHALIE</td>\n",
       "      <td>IZABEL</td>\n",
       "      <td>2019-10-23</td>\n",
       "      <td>company_414</td>\n",
       "      <td>749999534</td>\n",
       "      <td>n.izabel@company_414.com</td>\n",
       "      <td>startup</td>\n",
       "      <td>bank</td>\n",
       "      <td>85.0</td>\n",
       "    </tr>\n",
       "    <tr>\n",
       "      <th>1517</th>\n",
       "      <td>CAROLE</td>\n",
       "      <td>BUHLER</td>\n",
       "      <td>2021-01-18</td>\n",
       "      <td>company_1517</td>\n",
       "      <td>368695394</td>\n",
       "      <td>c.buhler@company_1517.com</td>\n",
       "      <td>enterprise</td>\n",
       "      <td>card</td>\n",
       "      <td>900.0</td>\n",
       "    </tr>\n",
       "    <tr>\n",
       "      <th>1695</th>\n",
       "      <td>ANTHONY</td>\n",
       "      <td>RIHAL</td>\n",
       "      <td>2021-06-16</td>\n",
       "      <td>company_1695</td>\n",
       "      <td>434864179</td>\n",
       "      <td>a.rihal@company_1695.com</td>\n",
       "      <td>startup</td>\n",
       "      <td>card</td>\n",
       "      <td>180.0</td>\n",
       "    </tr>\n",
       "    <tr>\n",
       "      <th>652</th>\n",
       "      <td>VANESSA</td>\n",
       "      <td>THENOR</td>\n",
       "      <td>2020-02-21</td>\n",
       "      <td>company_652</td>\n",
       "      <td>347778335</td>\n",
       "      <td>v.thenor@company_652.com</td>\n",
       "      <td>pro</td>\n",
       "      <td>card</td>\n",
       "      <td>250.0</td>\n",
       "    </tr>\n",
       "    <tr>\n",
       "      <th>214</th>\n",
       "      <td>MARIE</td>\n",
       "      <td>MARCIANO</td>\n",
       "      <td>2019-04-23</td>\n",
       "      <td>company_214</td>\n",
       "      <td>362925633</td>\n",
       "      <td>m.marciano@company_214.com</td>\n",
       "      <td>enterprise</td>\n",
       "      <td>card</td>\n",
       "      <td>600.0</td>\n",
       "    </tr>\n",
       "    <tr>\n",
       "      <th>404</th>\n",
       "      <td>PIERRE</td>\n",
       "      <td>BORGES</td>\n",
       "      <td>2019-10-16</td>\n",
       "      <td>company_404</td>\n",
       "      <td>164275722</td>\n",
       "      <td>p.borges@company_404.com</td>\n",
       "      <td>enterprise</td>\n",
       "      <td>card</td>\n",
       "      <td>750.0</td>\n",
       "    </tr>\n",
       "    <tr>\n",
       "      <th>601</th>\n",
       "      <td>MAGALIE</td>\n",
       "      <td>FLUTRE</td>\n",
       "      <td>2020-01-30</td>\n",
       "      <td>company_601</td>\n",
       "      <td>638888752</td>\n",
       "      <td>m.flutre@company_601.com</td>\n",
       "      <td>startup</td>\n",
       "      <td>card</td>\n",
       "      <td>85.0</td>\n",
       "    </tr>\n",
       "    <tr>\n",
       "      <th>1701</th>\n",
       "      <td>PASCAL</td>\n",
       "      <td>LASSIGNARDIE</td>\n",
       "      <td>2021-06-22</td>\n",
       "      <td>company_1701</td>\n",
       "      <td>335377888</td>\n",
       "      <td>p.lassignardie@company_1701.com</td>\n",
       "      <td>startup</td>\n",
       "      <td>card</td>\n",
       "      <td>180.0</td>\n",
       "    </tr>\n",
       "    <tr>\n",
       "      <th>256</th>\n",
       "      <td>STÉPHANIE</td>\n",
       "      <td>ALEXANDER</td>\n",
       "      <td>2019-06-14</td>\n",
       "      <td>company_256</td>\n",
       "      <td>247342981</td>\n",
       "      <td>s.alexander@company_256.com</td>\n",
       "      <td>pro</td>\n",
       "      <td>card</td>\n",
       "      <td>150.0</td>\n",
       "    </tr>\n",
       "    <tr>\n",
       "      <th>976</th>\n",
       "      <td>ESTHER</td>\n",
       "      <td>THOUVENIN</td>\n",
       "      <td>2020-07-02</td>\n",
       "      <td>company_976</td>\n",
       "      <td>447228693</td>\n",
       "      <td>e.thouvenin@company_976.com</td>\n",
       "      <td>pro</td>\n",
       "      <td>card</td>\n",
       "      <td>450.0</td>\n",
       "    </tr>\n",
       "    <tr>\n",
       "      <th>117</th>\n",
       "      <td>DAVID</td>\n",
       "      <td>GHIRARDI</td>\n",
       "      <td>2018-11-12</td>\n",
       "      <td>company_117</td>\n",
       "      <td>713639481</td>\n",
       "      <td>d.ghirardi@company_117.com</td>\n",
       "      <td>enterprise</td>\n",
       "      <td>stripe</td>\n",
       "      <td>600.0</td>\n",
       "    </tr>\n",
       "    <tr>\n",
       "      <th>968</th>\n",
       "      <td>SABRI</td>\n",
       "      <td>GUMB</td>\n",
       "      <td>2020-06-29</td>\n",
       "      <td>company_968</td>\n",
       "      <td>739255679</td>\n",
       "      <td>s.gumb@company_968.com</td>\n",
       "      <td>startup</td>\n",
       "      <td>stripe</td>\n",
       "      <td>180.0</td>\n",
       "    </tr>\n",
       "    <tr>\n",
       "      <th>824</th>\n",
       "      <td>ANTHONY</td>\n",
       "      <td>ADAM</td>\n",
       "      <td>2020-04-28</td>\n",
       "      <td>company_824</td>\n",
       "      <td>372164456</td>\n",
       "      <td>a.adam@company_824.com</td>\n",
       "      <td>startup</td>\n",
       "      <td>bank</td>\n",
       "      <td>85.0</td>\n",
       "    </tr>\n",
       "    <tr>\n",
       "      <th>18</th>\n",
       "      <td>NICOLAS</td>\n",
       "      <td>GILBIN</td>\n",
       "      <td>2018-07-17</td>\n",
       "      <td>company_18</td>\n",
       "      <td>483721527</td>\n",
       "      <td>n.gilbin@company_18.com</td>\n",
       "      <td>pro</td>\n",
       "      <td>card</td>\n",
       "      <td>150.0</td>\n",
       "    </tr>\n",
       "    <tr>\n",
       "      <th>1366</th>\n",
       "      <td>LUC</td>\n",
       "      <td>BUN</td>\n",
       "      <td>2020-11-09</td>\n",
       "      <td>company_1366</td>\n",
       "      <td>817742152</td>\n",
       "      <td>l.bun@company_1366.com</td>\n",
       "      <td>startup</td>\n",
       "      <td>card</td>\n",
       "      <td>180.0</td>\n",
       "    </tr>\n",
       "    <tr>\n",
       "      <th>1641</th>\n",
       "      <td>CLÉMENT</td>\n",
       "      <td>PIERRE</td>\n",
       "      <td>2021-04-09</td>\n",
       "      <td>company_1641</td>\n",
       "      <td>649778821</td>\n",
       "      <td>c.pierre@company_1641.com</td>\n",
       "      <td>enterprise</td>\n",
       "      <td>card</td>\n",
       "      <td>900.0</td>\n",
       "    </tr>\n",
       "  </tbody>\n",
       "</table>\n",
       "</div>"
      ],
      "text/plain": [
       "       FirstName      LastName       Date       Company      SIREN  \\\n",
       "1086  GWENDOLINE       SUQUART 2020-08-17  company_1086  178418357   \n",
       "1387     ESTELLE        MIGEON 2020-11-19  company_1387  593893694   \n",
       "1451       CINDY       MANTION 2020-12-18  company_1451  263267836   \n",
       "72      FRÉDÉRIC      FRESNAIS 2018-10-01    company_72  462454343   \n",
       "414     NATHALIE        IZABEL 2019-10-23   company_414  749999534   \n",
       "1517      CAROLE        BUHLER 2021-01-18  company_1517  368695394   \n",
       "1695     ANTHONY         RIHAL 2021-06-16  company_1695  434864179   \n",
       "652      VANESSA        THENOR 2020-02-21   company_652  347778335   \n",
       "214        MARIE      MARCIANO 2019-04-23   company_214  362925633   \n",
       "404       PIERRE        BORGES 2019-10-16   company_404  164275722   \n",
       "601      MAGALIE        FLUTRE 2020-01-30   company_601  638888752   \n",
       "1701      PASCAL  LASSIGNARDIE 2021-06-22  company_1701  335377888   \n",
       "256    STÉPHANIE     ALEXANDER 2019-06-14   company_256  247342981   \n",
       "976       ESTHER     THOUVENIN 2020-07-02   company_976  447228693   \n",
       "117        DAVID      GHIRARDI 2018-11-12   company_117  713639481   \n",
       "968        SABRI          GUMB 2020-06-29   company_968  739255679   \n",
       "824      ANTHONY          ADAM 2020-04-28   company_824  372164456   \n",
       "18       NICOLAS        GILBIN 2018-07-17    company_18  483721527   \n",
       "1366         LUC           BUN 2020-11-09  company_1366  817742152   \n",
       "1641     CLÉMENT        PIERRE 2021-04-09  company_1641  649778821   \n",
       "\n",
       "                                email        plan payement  price  \n",
       "1086       g.suquart@company_1086.com     startup     card  180.0  \n",
       "1387        e.migeon@company_1387.com     startup     bank  180.0  \n",
       "1451       c.mantion@company_1451.com     startup     card  180.0  \n",
       "72          f.fresnais@company_72.com     startup     card   50.0  \n",
       "414          n.izabel@company_414.com     startup     bank   85.0  \n",
       "1517        c.buhler@company_1517.com  enterprise     card  900.0  \n",
       "1695         a.rihal@company_1695.com     startup     card  180.0  \n",
       "652          v.thenor@company_652.com         pro     card  250.0  \n",
       "214        m.marciano@company_214.com  enterprise     card  600.0  \n",
       "404          p.borges@company_404.com  enterprise     card  750.0  \n",
       "601          m.flutre@company_601.com     startup     card   85.0  \n",
       "1701  p.lassignardie@company_1701.com     startup     card  180.0  \n",
       "256       s.alexander@company_256.com         pro     card  150.0  \n",
       "976       e.thouvenin@company_976.com         pro     card  450.0  \n",
       "117        d.ghirardi@company_117.com  enterprise   stripe  600.0  \n",
       "968            s.gumb@company_968.com     startup   stripe  180.0  \n",
       "824            a.adam@company_824.com     startup     bank   85.0  \n",
       "18            n.gilbin@company_18.com         pro     card  150.0  \n",
       "1366           l.bun@company_1366.com     startup     card  180.0  \n",
       "1641        c.pierre@company_1641.com  enterprise     card  900.0  "
      ]
     },
     "execution_count": 153,
     "metadata": {},
     "output_type": "execute_result"
    }
   ],
   "source": [
    "names_df.sample(20)"
   ]
  },
  {
   "cell_type": "markdown",
   "id": "23dc05dc-5600-4ca6-8503-e540c6d9bc8c",
   "metadata": {},
   "source": [
    "---"
   ]
  },
  {
   "cell_type": "code",
   "execution_count": 169,
   "id": "7acad7f3-1c7b-4ec7-8fa6-2b1cd829fe4e",
   "metadata": {},
   "outputs": [],
   "source": [
    "def friday_of_that_week(dt):\n",
    "    days_to_go = 4 - dt.weekday()\n",
    "    if days_to_go:\n",
    "        dt += timedelta(days_to_go)\n",
    "    return dt"
   ]
  },
  {
   "cell_type": "code",
   "execution_count": 173,
   "id": "43fd9a40-4f06-40ca-aac2-e0cf7359fd9f",
   "metadata": {},
   "outputs": [],
   "source": [
    "aa = friday_of_that_week(names_df[\"Date\"][1695])"
   ]
  },
  {
   "cell_type": "code",
   "execution_count": 174,
   "id": "0f6697e4-237f-4304-8bb4-0e9e6aa6dea5",
   "metadata": {},
   "outputs": [
    {
     "data": {
      "text/plain": [
       "Timestamp('2021-06-18 00:00:00')"
      ]
     },
     "execution_count": 174,
     "metadata": {},
     "output_type": "execute_result"
    }
   ],
   "source": [
    "aa"
   ]
  },
  {
   "cell_type": "code",
   "execution_count": 175,
   "id": "8a9c1a26-f765-4fea-8a23-817cc9d434e5",
   "metadata": {},
   "outputs": [],
   "source": [
    "date_added = []\n",
    "for i in names_df.index:\n",
    "    date_added.append(friday_of_that_week(names_df[\"Date\"][i]))"
   ]
  },
  {
   "cell_type": "code",
   "execution_count": 177,
   "id": "6ee65357-35a3-4810-bf26-163f24c9ac89",
   "metadata": {},
   "outputs": [
    {
     "data": {
      "text/plain": [
       "[Timestamp('2021-06-04 00:00:00'),\n",
       " Timestamp('2021-06-04 00:00:00'),\n",
       " Timestamp('2021-06-11 00:00:00'),\n",
       " Timestamp('2021-06-11 00:00:00'),\n",
       " Timestamp('2021-06-11 00:00:00'),\n",
       " Timestamp('2021-06-11 00:00:00'),\n",
       " Timestamp('2021-06-11 00:00:00'),\n",
       " Timestamp('2021-06-18 00:00:00'),\n",
       " Timestamp('2021-06-18 00:00:00'),\n",
       " Timestamp('2021-06-18 00:00:00'),\n",
       " Timestamp('2021-06-18 00:00:00'),\n",
       " Timestamp('2021-06-18 00:00:00'),\n",
       " Timestamp('2021-06-18 00:00:00'),\n",
       " Timestamp('2021-06-25 00:00:00'),\n",
       " Timestamp('2021-06-25 00:00:00'),\n",
       " Timestamp('2021-06-25 00:00:00'),\n",
       " Timestamp('2021-06-25 00:00:00'),\n",
       " Timestamp('2021-07-02 00:00:00'),\n",
       " Timestamp('2021-07-02 00:00:00'),\n",
       " Timestamp('2021-07-02 00:00:00')]"
      ]
     },
     "execution_count": 177,
     "metadata": {},
     "output_type": "execute_result"
    }
   ],
   "source": [
    "date_added[-20:]"
   ]
  },
  {
   "cell_type": "code",
   "execution_count": 178,
   "id": "83e44560-5832-4e1b-b04a-a0076c321ff8",
   "metadata": {},
   "outputs": [],
   "source": [
    "names_df[\"Date Added\"] = date_added"
   ]
  },
  {
   "cell_type": "code",
   "execution_count": 179,
   "id": "74bd5497-e68e-485b-82d0-6c063927deea",
   "metadata": {},
   "outputs": [
    {
     "data": {
      "text/html": [
       "<div>\n",
       "<style scoped>\n",
       "    .dataframe tbody tr th:only-of-type {\n",
       "        vertical-align: middle;\n",
       "    }\n",
       "\n",
       "    .dataframe tbody tr th {\n",
       "        vertical-align: top;\n",
       "    }\n",
       "\n",
       "    .dataframe thead th {\n",
       "        text-align: right;\n",
       "    }\n",
       "</style>\n",
       "<table border=\"1\" class=\"dataframe\">\n",
       "  <thead>\n",
       "    <tr style=\"text-align: right;\">\n",
       "      <th></th>\n",
       "      <th>FirstName</th>\n",
       "      <th>LastName</th>\n",
       "      <th>Date</th>\n",
       "      <th>Company</th>\n",
       "      <th>SIREN</th>\n",
       "      <th>email</th>\n",
       "      <th>plan</th>\n",
       "      <th>payement</th>\n",
       "      <th>price</th>\n",
       "      <th>Date Added</th>\n",
       "    </tr>\n",
       "  </thead>\n",
       "  <tbody>\n",
       "    <tr>\n",
       "      <th>1261</th>\n",
       "      <td>PATRICK</td>\n",
       "      <td>GLADYSZ</td>\n",
       "      <td>2020-10-08</td>\n",
       "      <td>company_1261</td>\n",
       "      <td>661881852</td>\n",
       "      <td>p.gladysz@company_1261.com</td>\n",
       "      <td>pro</td>\n",
       "      <td>card</td>\n",
       "      <td>450.0</td>\n",
       "      <td>2020-10-09</td>\n",
       "    </tr>\n",
       "    <tr>\n",
       "      <th>1467</th>\n",
       "      <td>FABIENNE</td>\n",
       "      <td>WEISS</td>\n",
       "      <td>2020-12-25</td>\n",
       "      <td>company_1467</td>\n",
       "      <td>893747652</td>\n",
       "      <td>f.weiss@company_1467.com</td>\n",
       "      <td>startup</td>\n",
       "      <td>card</td>\n",
       "      <td>180.0</td>\n",
       "      <td>2020-12-25</td>\n",
       "    </tr>\n",
       "    <tr>\n",
       "      <th>940</th>\n",
       "      <td>VALÉRIE</td>\n",
       "      <td>JANCZAK</td>\n",
       "      <td>2020-06-16</td>\n",
       "      <td>company_940</td>\n",
       "      <td>141114637</td>\n",
       "      <td>v.janczak@company_940.com</td>\n",
       "      <td>startup</td>\n",
       "      <td>card</td>\n",
       "      <td>180.0</td>\n",
       "      <td>2020-06-19</td>\n",
       "    </tr>\n",
       "    <tr>\n",
       "      <th>23</th>\n",
       "      <td>YANN</td>\n",
       "      <td>BERNARD</td>\n",
       "      <td>2018-07-20</td>\n",
       "      <td>company_23</td>\n",
       "      <td>222761382</td>\n",
       "      <td>y.bernard@company_23.com</td>\n",
       "      <td>startup</td>\n",
       "      <td>bank</td>\n",
       "      <td>50.0</td>\n",
       "      <td>2018-07-20</td>\n",
       "    </tr>\n",
       "    <tr>\n",
       "      <th>788</th>\n",
       "      <td>AMANDINE</td>\n",
       "      <td>SANTIN</td>\n",
       "      <td>2020-04-15</td>\n",
       "      <td>company_788</td>\n",
       "      <td>336691643</td>\n",
       "      <td>a.santin@company_788.com</td>\n",
       "      <td>startup</td>\n",
       "      <td>card</td>\n",
       "      <td>85.0</td>\n",
       "      <td>2020-04-17</td>\n",
       "    </tr>\n",
       "    <tr>\n",
       "      <th>1538</th>\n",
       "      <td>CÉLINE</td>\n",
       "      <td>ANDRIEU</td>\n",
       "      <td>2021-01-26</td>\n",
       "      <td>company_1538</td>\n",
       "      <td>472633145</td>\n",
       "      <td>c.andrieu@company_1538.com</td>\n",
       "      <td>startup</td>\n",
       "      <td>card</td>\n",
       "      <td>180.0</td>\n",
       "      <td>2021-01-29</td>\n",
       "    </tr>\n",
       "    <tr>\n",
       "      <th>735</th>\n",
       "      <td>TONY</td>\n",
       "      <td>CAROF</td>\n",
       "      <td>2020-03-25</td>\n",
       "      <td>company_735</td>\n",
       "      <td>943233719</td>\n",
       "      <td>t.carof@company_735.com</td>\n",
       "      <td>startup</td>\n",
       "      <td>card</td>\n",
       "      <td>85.0</td>\n",
       "      <td>2020-03-27</td>\n",
       "    </tr>\n",
       "    <tr>\n",
       "      <th>199</th>\n",
       "      <td>JEROME</td>\n",
       "      <td>ALBOUY</td>\n",
       "      <td>2019-04-01</td>\n",
       "      <td>company_199</td>\n",
       "      <td>549376454</td>\n",
       "      <td>j.albouy@company_199.com</td>\n",
       "      <td>pro</td>\n",
       "      <td>stripe</td>\n",
       "      <td>150.0</td>\n",
       "      <td>2019-04-05</td>\n",
       "    </tr>\n",
       "    <tr>\n",
       "      <th>1508</th>\n",
       "      <td>YOHANN</td>\n",
       "      <td>FOURNEL</td>\n",
       "      <td>2021-01-13</td>\n",
       "      <td>company_1508</td>\n",
       "      <td>194373239</td>\n",
       "      <td>y.fournel@company_1508.com</td>\n",
       "      <td>startup</td>\n",
       "      <td>card</td>\n",
       "      <td>180.0</td>\n",
       "      <td>2021-01-15</td>\n",
       "    </tr>\n",
       "    <tr>\n",
       "      <th>346</th>\n",
       "      <td>ANTONIN</td>\n",
       "      <td>PICOT</td>\n",
       "      <td>2019-09-12</td>\n",
       "      <td>company_346</td>\n",
       "      <td>782114421</td>\n",
       "      <td>a.picot@company_346.com</td>\n",
       "      <td>startup</td>\n",
       "      <td>stripe</td>\n",
       "      <td>85.0</td>\n",
       "      <td>2019-09-13</td>\n",
       "    </tr>\n",
       "    <tr>\n",
       "      <th>878</th>\n",
       "      <td>SANDRINE</td>\n",
       "      <td>ROGER</td>\n",
       "      <td>2020-05-20</td>\n",
       "      <td>company_878</td>\n",
       "      <td>811466835</td>\n",
       "      <td>s.roger@company_878.com</td>\n",
       "      <td>pro</td>\n",
       "      <td>card</td>\n",
       "      <td>250.0</td>\n",
       "      <td>2020-05-22</td>\n",
       "    </tr>\n",
       "    <tr>\n",
       "      <th>109</th>\n",
       "      <td>LOÏC</td>\n",
       "      <td>CAIZERGUES</td>\n",
       "      <td>2018-10-30</td>\n",
       "      <td>company_109</td>\n",
       "      <td>845466868</td>\n",
       "      <td>l.caizergues@company_109.com</td>\n",
       "      <td>startup</td>\n",
       "      <td>stripe</td>\n",
       "      <td>50.0</td>\n",
       "      <td>2018-11-02</td>\n",
       "    </tr>\n",
       "    <tr>\n",
       "      <th>1011</th>\n",
       "      <td>VALENTIN</td>\n",
       "      <td>HADI</td>\n",
       "      <td>2020-07-17</td>\n",
       "      <td>company_1011</td>\n",
       "      <td>929331114</td>\n",
       "      <td>v.hadi@company_1011.com</td>\n",
       "      <td>pro</td>\n",
       "      <td>card</td>\n",
       "      <td>450.0</td>\n",
       "      <td>2020-07-17</td>\n",
       "    </tr>\n",
       "    <tr>\n",
       "      <th>170</th>\n",
       "      <td>EDOUARD</td>\n",
       "      <td>COLAS</td>\n",
       "      <td>2019-02-14</td>\n",
       "      <td>company_170</td>\n",
       "      <td>193458513</td>\n",
       "      <td>e.colas@company_170.com</td>\n",
       "      <td>pro</td>\n",
       "      <td>card</td>\n",
       "      <td>150.0</td>\n",
       "      <td>2019-02-15</td>\n",
       "    </tr>\n",
       "    <tr>\n",
       "      <th>358</th>\n",
       "      <td>NICOLAS</td>\n",
       "      <td>BERTHELOT</td>\n",
       "      <td>2019-09-19</td>\n",
       "      <td>company_358</td>\n",
       "      <td>697521452</td>\n",
       "      <td>n.berthelot@company_358.com</td>\n",
       "      <td>pro</td>\n",
       "      <td>stripe</td>\n",
       "      <td>250.0</td>\n",
       "      <td>2019-09-20</td>\n",
       "    </tr>\n",
       "    <tr>\n",
       "      <th>1330</th>\n",
       "      <td>MARINE</td>\n",
       "      <td>LATREILLE</td>\n",
       "      <td>2020-10-27</td>\n",
       "      <td>company_1330</td>\n",
       "      <td>415698357</td>\n",
       "      <td>m.latreille@company_1330.com</td>\n",
       "      <td>startup</td>\n",
       "      <td>stripe</td>\n",
       "      <td>180.0</td>\n",
       "      <td>2020-10-30</td>\n",
       "    </tr>\n",
       "    <tr>\n",
       "      <th>271</th>\n",
       "      <td>VALÉRIE</td>\n",
       "      <td>GRECIET</td>\n",
       "      <td>2019-07-08</td>\n",
       "      <td>company_271</td>\n",
       "      <td>218611942</td>\n",
       "      <td>v.greciet@company_271.com</td>\n",
       "      <td>startup</td>\n",
       "      <td>card</td>\n",
       "      <td>50.0</td>\n",
       "      <td>2019-07-12</td>\n",
       "    </tr>\n",
       "    <tr>\n",
       "      <th>497</th>\n",
       "      <td>GIL</td>\n",
       "      <td>WAEYTENS</td>\n",
       "      <td>2019-12-05</td>\n",
       "      <td>company_497</td>\n",
       "      <td>386671185</td>\n",
       "      <td>g.waeytens@company_497.com</td>\n",
       "      <td>pro</td>\n",
       "      <td>card</td>\n",
       "      <td>250.0</td>\n",
       "      <td>2019-12-06</td>\n",
       "    </tr>\n",
       "    <tr>\n",
       "      <th>1530</th>\n",
       "      <td>BARBARA</td>\n",
       "      <td>MENUT</td>\n",
       "      <td>2021-01-22</td>\n",
       "      <td>company_1530</td>\n",
       "      <td>887762681</td>\n",
       "      <td>b.menut@company_1530.com</td>\n",
       "      <td>startup</td>\n",
       "      <td>card</td>\n",
       "      <td>180.0</td>\n",
       "      <td>2021-01-22</td>\n",
       "    </tr>\n",
       "    <tr>\n",
       "      <th>694</th>\n",
       "      <td>ELISABETH</td>\n",
       "      <td>LETOURNEAU</td>\n",
       "      <td>2020-03-10</td>\n",
       "      <td>company_694</td>\n",
       "      <td>992369292</td>\n",
       "      <td>e.letourneau@company_694.com</td>\n",
       "      <td>startup</td>\n",
       "      <td>card</td>\n",
       "      <td>85.0</td>\n",
       "      <td>2020-03-13</td>\n",
       "    </tr>\n",
       "  </tbody>\n",
       "</table>\n",
       "</div>"
      ],
      "text/plain": [
       "      FirstName    LastName       Date       Company      SIREN  \\\n",
       "1261    PATRICK     GLADYSZ 2020-10-08  company_1261  661881852   \n",
       "1467   FABIENNE       WEISS 2020-12-25  company_1467  893747652   \n",
       "940     VALÉRIE     JANCZAK 2020-06-16   company_940  141114637   \n",
       "23         YANN     BERNARD 2018-07-20    company_23  222761382   \n",
       "788    AMANDINE      SANTIN 2020-04-15   company_788  336691643   \n",
       "1538     CÉLINE     ANDRIEU 2021-01-26  company_1538  472633145   \n",
       "735        TONY       CAROF 2020-03-25   company_735  943233719   \n",
       "199      JEROME      ALBOUY 2019-04-01   company_199  549376454   \n",
       "1508     YOHANN     FOURNEL 2021-01-13  company_1508  194373239   \n",
       "346     ANTONIN       PICOT 2019-09-12   company_346  782114421   \n",
       "878    SANDRINE       ROGER 2020-05-20   company_878  811466835   \n",
       "109        LOÏC  CAIZERGUES 2018-10-30   company_109  845466868   \n",
       "1011   VALENTIN        HADI 2020-07-17  company_1011  929331114   \n",
       "170     EDOUARD       COLAS 2019-02-14   company_170  193458513   \n",
       "358     NICOLAS   BERTHELOT 2019-09-19   company_358  697521452   \n",
       "1330     MARINE   LATREILLE 2020-10-27  company_1330  415698357   \n",
       "271     VALÉRIE     GRECIET 2019-07-08   company_271  218611942   \n",
       "497         GIL    WAEYTENS 2019-12-05   company_497  386671185   \n",
       "1530    BARBARA       MENUT 2021-01-22  company_1530  887762681   \n",
       "694   ELISABETH  LETOURNEAU 2020-03-10   company_694  992369292   \n",
       "\n",
       "                             email     plan payement  price Date Added  \n",
       "1261    p.gladysz@company_1261.com      pro     card  450.0 2020-10-09  \n",
       "1467      f.weiss@company_1467.com  startup     card  180.0 2020-12-25  \n",
       "940      v.janczak@company_940.com  startup     card  180.0 2020-06-19  \n",
       "23        y.bernard@company_23.com  startup     bank   50.0 2018-07-20  \n",
       "788       a.santin@company_788.com  startup     card   85.0 2020-04-17  \n",
       "1538    c.andrieu@company_1538.com  startup     card  180.0 2021-01-29  \n",
       "735        t.carof@company_735.com  startup     card   85.0 2020-03-27  \n",
       "199       j.albouy@company_199.com      pro   stripe  150.0 2019-04-05  \n",
       "1508    y.fournel@company_1508.com  startup     card  180.0 2021-01-15  \n",
       "346        a.picot@company_346.com  startup   stripe   85.0 2019-09-13  \n",
       "878        s.roger@company_878.com      pro     card  250.0 2020-05-22  \n",
       "109   l.caizergues@company_109.com  startup   stripe   50.0 2018-11-02  \n",
       "1011       v.hadi@company_1011.com      pro     card  450.0 2020-07-17  \n",
       "170        e.colas@company_170.com      pro     card  150.0 2019-02-15  \n",
       "358    n.berthelot@company_358.com      pro   stripe  250.0 2019-09-20  \n",
       "1330  m.latreille@company_1330.com  startup   stripe  180.0 2020-10-30  \n",
       "271      v.greciet@company_271.com  startup     card   50.0 2019-07-12  \n",
       "497     g.waeytens@company_497.com      pro     card  250.0 2019-12-06  \n",
       "1530      b.menut@company_1530.com  startup     card  180.0 2021-01-22  \n",
       "694   e.letourneau@company_694.com  startup     card   85.0 2020-03-13  "
      ]
     },
     "execution_count": 179,
     "metadata": {},
     "output_type": "execute_result"
    }
   ],
   "source": [
    "names_df.sample(20)"
   ]
  },
  {
   "cell_type": "code",
   "execution_count": null,
   "id": "7a795c92-85fc-4ec1-bb08-ed99216a1a66",
   "metadata": {},
   "outputs": [],
   "source": []
  }
 ],
 "metadata": {
  "kernelspec": {
   "display_name": "Python 3 (ipykernel)",
   "language": "python",
   "name": "python3"
  },
  "language_info": {
   "codemirror_mode": {
    "name": "ipython",
    "version": 3
   },
   "file_extension": ".py",
   "mimetype": "text/x-python",
   "name": "python",
   "nbconvert_exporter": "python",
   "pygments_lexer": "ipython3",
   "version": "3.10.4"
  }
 },
 "nbformat": 4,
 "nbformat_minor": 5
}
